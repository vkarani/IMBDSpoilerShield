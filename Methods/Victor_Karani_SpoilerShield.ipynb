{
 "cells": [
  {
   "cell_type": "markdown",
   "metadata": {},
   "source": [
    "# Victor Karani\n",
    "## victor.karani@gmail.com\n",
    "## Spoiler Shield Mini Project "
   ]
  },
  {
   "cell_type": "markdown",
   "metadata": {
    "id": "UkJHSdkCmiwD"
   },
   "source": [
    "## Uncover the Thrill, Shield the Surprise\n",
    "### Business Problem\n",
    "In the realm of user-generated reviews, especially when considering whether to watch a movie or TV show, reviews play a pivotal role in providing insights into the qualitative aspects of the content. However, these reviews often unintentionally disclose crucial plot details, commonly known as 'spoilers.' These spoilers can range from revealing the unexpected fate of a character to exposing the identity of a murderer in a crime-suspense movie. For potential viewers seeking an immersive and suspenseful experience, encountering spoilers can diminish the thrill associated with the uncertainty and curiosity of media consumption.\n",
    "\n",
    "The challenge lies in devising a solution to effectively identify and flag these spoilers within entertainment reviews. By doing so, users can navigate review platforms with greater confidence, ensuring they maintain the excitement of discovering plot twists without unintentionally having key elements revealed beforehand. This business problem underscores the need for a robust and accurate model that can classify reviews based on their spoiler content, contributing to an enhanced user experience on platforms like IMDb.\n",
    "\n",
    "### Key Business Objectives\n",
    "**Optimized User Enjoyment:** Enhance user satisfaction by safeguarding against spoilers, fostering a more enjoyable IMDb experience.\n",
    "\n",
    "**Informed User Choices:** Empower users with the ability to make informed decisions about reading reviews, preserving the excitement of media consumption.\n",
    "\n",
    "**Heightened Platform Loyalty:** Increase user loyalty and engagement on IMDb by actively addressing and solving the spoiler-related concerns of the audience.\n",
    "\n",
    "### Deep Learning Problem\n",
    "The core of our project involves employing Natural Language Processing (NLP) techniques, specifically deep learning models, to address the challenge of identifying spoilers in IMDb reviews. The task at hand is a binary classification problem: given a review, the model needs to determine whether it contains spoilers or not. This involves understanding the contextual nuances and language intricacies that signify potential plot revelations.\n",
    "\n",
    "### Technical Objectives\n",
    "#### Text Preprocessing\n",
    "*   Tokenization: Breaking down reviews into individual words or subword units to create a meaningful input format for the model.\n",
    "*   Padding: Ensuring uniform length of input sequences to facilitate efficient batch processing.\n",
    "\n",
    "#### Training/Fine-Tuning\n",
    "*  Choosing an appropriate architecture is pivotal for the success of our spoiler prediction model.\n",
    "*  Considering the sequential nature of text data, recurrent neural networks (RNNs), Long Short-Term Memory networks (LSTMs), or Transformer architectures could be explored.\n",
    "*  Additionally, leveraging pre-trained embeddings such as Word2Vec, GloVe, or more advanced contextual embeddings like BERT may enhance the model's ability to capture intricate language patterns.\n",
    "*  Train a model from scratch or used a pretrained model like BERT along with Text Classification\n",
    "\n",
    "#### Evaluation\n",
    "Evaluate the model's performance using metrics like accuracy, precision, recall, and F1-score on the test set. Insightful analysis of false positives and false negatives will provide valuable feedback for model improvement.\n",
    "\n",
    "### About the Dataset\n",
    "The IMDB Spoiler Dataset comprises two primary files, providing a comprehensive collection of user-generated reviews and metadata about movies and TV shows.\n",
    "\n",
    "1.   IMDB_reviews.json:\n",
    "2.   *    review_date: Date when the review was written.\n",
    "   *    movie_id: A unique identifier for the item, linking it to corresponding metadata in the IMDB_movie_details.json file.\n",
    "   *    user_id: A unique identifier for the author of the review.\n",
    "is_spoiler: A binary indicator specifying whether the review contains spoilers or not.\n",
    "   *    review_text: The textual content of the user's review, providing insights into their opinions and thoughts about the item.\n",
    "   *    rating: The numerical rating assigned by the user to the item.\n",
    "   *    review_summary: A concise summary accompanying the review, offering a quick overview of the user's sentiments.\n",
    "\n",
    "\n",
    "1. IMDB_movie_details.json:\n",
    "   *    movie_id: A unique identifier linking to the corresponding reviews in the IMDB_reviews file.\n",
    "   *    plot_summary: A non-spoiler plot summary providing a brief overview of the item's storyline.\n",
    "   *    duration: The runtime duration of the item.\n",
    "   *    genre: The associated genres of the item.\n",
    "   *    rating: The overall rating assigned to the item.\n",
    "   *    release_date: The date when the item was released.\n",
    "   *    plot_synopsis: A detailed synopsis of the item's plot, potentially containing spoiler content.\n",
    "\n",
    "This dual-file dataset allows for a holistic understanding of user reviews, incorporating both textual sentiments and metadata associated with the movies and TV shows. The inclusion of spoiler indicators and non-spoiler plot summaries provides a valuable foundation for training and evaluating a deep learning model aimed at predicting and identifying spoilers within user reviews."
   ]
  },
  {
   "cell_type": "markdown",
   "metadata": {},
   "source": [
    "# Data Collection, Exploration and Pre-processing"
   ]
  },
  {
   "cell_type": "code",
   "execution_count": 1,
   "metadata": {
    "execution": {
     "iopub.execute_input": "2025-04-06T02:32:13.833126Z",
     "iopub.status.busy": "2025-04-06T02:32:13.832903Z",
     "iopub.status.idle": "2025-04-06T02:32:14.636049Z",
     "shell.execute_reply": "2025-04-06T02:32:14.635133Z",
     "shell.execute_reply.started": "2025-04-06T02:32:13.833105Z"
    },
    "id": "jODZcx5B7NMj"
   },
   "outputs": [],
   "source": [
    "import pandas as pd\n",
    "import numpy as np\n",
    "import matplotlib.pyplot as plt"
   ]
  },
  {
   "cell_type": "code",
   "execution_count": 2,
   "metadata": {
    "execution": {
     "iopub.execute_input": "2025-04-06T02:32:14.637306Z",
     "iopub.status.busy": "2025-04-06T02:32:14.636952Z",
     "iopub.status.idle": "2025-04-06T02:32:30.223256Z",
     "shell.execute_reply": "2025-04-06T02:32:30.222609Z",
     "shell.execute_reply.started": "2025-04-06T02:32:14.637284Z"
    },
    "id": "k2X_ljuhmbIL",
    "outputId": "daf186dc-1625-4e70-e2d2-09152336eed9"
   },
   "outputs": [],
   "source": [
    "# 1. Data Collection\n",
    "# Load the IMDB_reviews.json and the IMDB_movie_details.json\n",
    "data_reviews = pd.read_json('/kaggle/input/imdb-spoiler-dataset/IMDB_reviews.json', lines=True)\n",
    "data_movies = pd.read_json('/kaggle/input/imdb-spoiler-dataset/IMDB_movie_details.json', lines=True)\n"
   ]
  },
  {
   "cell_type": "markdown",
   "metadata": {},
   "source": [
    "### **Reviews Overview**"
   ]
  },
  {
   "cell_type": "code",
   "execution_count": 3,
   "metadata": {
    "execution": {
     "iopub.execute_input": "2025-04-06T02:32:30.224236Z",
     "iopub.status.busy": "2025-04-06T02:32:30.224001Z",
     "iopub.status.idle": "2025-04-06T02:32:30.533361Z",
     "shell.execute_reply": "2025-04-06T02:32:30.532610Z",
     "shell.execute_reply.started": "2025-04-06T02:32:30.224207Z"
    },
    "id": "dPO2u89E0mkY",
    "outputId": "6e230f7b-e186-482b-a947-d69466be4994"
   },
   "outputs": [
    {
     "name": "stdout",
     "output_type": "stream",
     "text": [
      "<class 'pandas.core.frame.DataFrame'>\n",
      "RangeIndex: 573913 entries, 0 to 573912\n",
      "Data columns (total 7 columns):\n",
      " #   Column          Non-Null Count   Dtype \n",
      "---  ------          --------------   ----- \n",
      " 0   review_date     573913 non-null  object\n",
      " 1   movie_id        573913 non-null  object\n",
      " 2   user_id         573913 non-null  object\n",
      " 3   is_spoiler      573913 non-null  bool  \n",
      " 4   review_text     573913 non-null  object\n",
      " 5   rating          573913 non-null  int64 \n",
      " 6   review_summary  573913 non-null  object\n",
      "dtypes: bool(1), int64(1), object(5)\n",
      "memory usage: 26.8+ MB\n"
     ]
    }
   ],
   "source": [
    "data_reviews.info()"
   ]
  },
  {
   "cell_type": "code",
   "execution_count": 4,
   "metadata": {
    "execution": {
     "iopub.execute_input": "2025-04-06T02:32:30.535187Z",
     "iopub.status.busy": "2025-04-06T02:32:30.534962Z",
     "iopub.status.idle": "2025-04-06T02:32:30.540289Z",
     "shell.execute_reply": "2025-04-06T02:32:30.539509Z",
     "shell.execute_reply.started": "2025-04-06T02:32:30.535168Z"
    }
   },
   "outputs": [
    {
     "data": {
      "text/plain": [
       "(573913, 7)"
      ]
     },
     "execution_count": 4,
     "metadata": {},
     "output_type": "execute_result"
    }
   ],
   "source": [
    "data_reviews.shape"
   ]
  },
  {
   "cell_type": "code",
   "execution_count": 5,
   "metadata": {
    "execution": {
     "iopub.execute_input": "2025-04-06T02:32:30.541804Z",
     "iopub.status.busy": "2025-04-06T02:32:30.541552Z",
     "iopub.status.idle": "2025-04-06T02:32:30.845273Z",
     "shell.execute_reply": "2025-04-06T02:32:30.844542Z",
     "shell.execute_reply.started": "2025-04-06T02:32:30.541773Z"
    },
    "id": "Y2mXKgT01qTM",
    "outputId": "2775e0f9-4189-40fe-8648-b99920f32c74"
   },
   "outputs": [
    {
     "data": {
      "text/plain": [
       "review_date       0\n",
       "movie_id          0\n",
       "user_id           0\n",
       "is_spoiler        0\n",
       "review_text       0\n",
       "rating            0\n",
       "review_summary    0\n",
       "dtype: int64"
      ]
     },
     "execution_count": 5,
     "metadata": {},
     "output_type": "execute_result"
    }
   ],
   "source": [
    "data_reviews.isnull().sum()"
   ]
  },
  {
   "cell_type": "code",
   "execution_count": 6,
   "metadata": {
    "execution": {
     "iopub.execute_input": "2025-04-06T02:32:30.846483Z",
     "iopub.status.busy": "2025-04-06T02:32:30.846175Z",
     "iopub.status.idle": "2025-04-06T02:32:30.865818Z",
     "shell.execute_reply": "2025-04-06T02:32:30.865157Z",
     "shell.execute_reply.started": "2025-04-06T02:32:30.846449Z"
    },
    "id": "JbQPBSY55rYN",
    "outputId": "16c93ede-7574-48ed-f115-77e42fef8985"
   },
   "outputs": [
    {
     "data": {
      "text/html": [
       "<div>\n",
       "<style scoped>\n",
       "    .dataframe tbody tr th:only-of-type {\n",
       "        vertical-align: middle;\n",
       "    }\n",
       "\n",
       "    .dataframe tbody tr th {\n",
       "        vertical-align: top;\n",
       "    }\n",
       "\n",
       "    .dataframe thead th {\n",
       "        text-align: right;\n",
       "    }\n",
       "</style>\n",
       "<table border=\"1\" class=\"dataframe\">\n",
       "  <thead>\n",
       "    <tr style=\"text-align: right;\">\n",
       "      <th></th>\n",
       "      <th>review_date</th>\n",
       "      <th>movie_id</th>\n",
       "      <th>user_id</th>\n",
       "      <th>is_spoiler</th>\n",
       "      <th>review_text</th>\n",
       "      <th>rating</th>\n",
       "      <th>review_summary</th>\n",
       "    </tr>\n",
       "  </thead>\n",
       "  <tbody>\n",
       "    <tr>\n",
       "      <th>0</th>\n",
       "      <td>10 February 2006</td>\n",
       "      <td>tt0111161</td>\n",
       "      <td>ur1898687</td>\n",
       "      <td>True</td>\n",
       "      <td>In its Oscar year, Shawshank Redemption (writt...</td>\n",
       "      <td>10</td>\n",
       "      <td>A classic piece of unforgettable film-making.</td>\n",
       "    </tr>\n",
       "    <tr>\n",
       "      <th>1</th>\n",
       "      <td>6 September 2000</td>\n",
       "      <td>tt0111161</td>\n",
       "      <td>ur0842118</td>\n",
       "      <td>True</td>\n",
       "      <td>The Shawshank Redemption is without a doubt on...</td>\n",
       "      <td>10</td>\n",
       "      <td>Simply amazing. The best film of the 90's.</td>\n",
       "    </tr>\n",
       "    <tr>\n",
       "      <th>2</th>\n",
       "      <td>3 August 2001</td>\n",
       "      <td>tt0111161</td>\n",
       "      <td>ur1285640</td>\n",
       "      <td>True</td>\n",
       "      <td>I believe that this film is the best story eve...</td>\n",
       "      <td>8</td>\n",
       "      <td>The best story ever told on film</td>\n",
       "    </tr>\n",
       "    <tr>\n",
       "      <th>3</th>\n",
       "      <td>1 September 2002</td>\n",
       "      <td>tt0111161</td>\n",
       "      <td>ur1003471</td>\n",
       "      <td>True</td>\n",
       "      <td>**Yes, there are SPOILERS here**This film has ...</td>\n",
       "      <td>10</td>\n",
       "      <td>Busy dying or busy living?</td>\n",
       "    </tr>\n",
       "    <tr>\n",
       "      <th>4</th>\n",
       "      <td>20 May 2004</td>\n",
       "      <td>tt0111161</td>\n",
       "      <td>ur0226855</td>\n",
       "      <td>True</td>\n",
       "      <td>At the heart of this extraordinary movie is a ...</td>\n",
       "      <td>8</td>\n",
       "      <td>Great story, wondrously told and acted</td>\n",
       "    </tr>\n",
       "    <tr>\n",
       "      <th>5</th>\n",
       "      <td>12 August 2004</td>\n",
       "      <td>tt0111161</td>\n",
       "      <td>ur1532177</td>\n",
       "      <td>True</td>\n",
       "      <td>In recent years the IMDB top 250 movies has ha...</td>\n",
       "      <td>8</td>\n",
       "      <td>Good , But It Is Overrated By Some</td>\n",
       "    </tr>\n",
       "    <tr>\n",
       "      <th>6</th>\n",
       "      <td>9 October 2005</td>\n",
       "      <td>tt0111161</td>\n",
       "      <td>ur6574726</td>\n",
       "      <td>True</td>\n",
       "      <td>I have been a fan of this movie for a long tim...</td>\n",
       "      <td>9</td>\n",
       "      <td>This Movie Saved My Life.</td>\n",
       "    </tr>\n",
       "    <tr>\n",
       "      <th>7</th>\n",
       "      <td>4 February 2012</td>\n",
       "      <td>tt0111161</td>\n",
       "      <td>ur31182745</td>\n",
       "      <td>True</td>\n",
       "      <td>I made my account on IMDb Just to Rate this mo...</td>\n",
       "      <td>10</td>\n",
       "      <td>Movie you can see 1000 times</td>\n",
       "    </tr>\n",
       "    <tr>\n",
       "      <th>8</th>\n",
       "      <td>24 October 2008</td>\n",
       "      <td>tt0111161</td>\n",
       "      <td>ur9871443</td>\n",
       "      <td>True</td>\n",
       "      <td>A friend of mine listed \"The Shawshank Redempt...</td>\n",
       "      <td>10</td>\n",
       "      <td>The Shawshank Redemption</td>\n",
       "    </tr>\n",
       "    <tr>\n",
       "      <th>9</th>\n",
       "      <td>30 July 2011</td>\n",
       "      <td>tt0111161</td>\n",
       "      <td>ur2707735</td>\n",
       "      <td>True</td>\n",
       "      <td>Well I guess I'm a little late to the party as...</td>\n",
       "      <td>10</td>\n",
       "      <td>\"I'm a convicted murderer who provides sound f...</td>\n",
       "    </tr>\n",
       "  </tbody>\n",
       "</table>\n",
       "</div>"
      ],
      "text/plain": [
       "        review_date   movie_id     user_id  is_spoiler  \\\n",
       "0  10 February 2006  tt0111161   ur1898687        True   \n",
       "1  6 September 2000  tt0111161   ur0842118        True   \n",
       "2     3 August 2001  tt0111161   ur1285640        True   \n",
       "3  1 September 2002  tt0111161   ur1003471        True   \n",
       "4       20 May 2004  tt0111161   ur0226855        True   \n",
       "5    12 August 2004  tt0111161   ur1532177        True   \n",
       "6    9 October 2005  tt0111161   ur6574726        True   \n",
       "7   4 February 2012  tt0111161  ur31182745        True   \n",
       "8   24 October 2008  tt0111161   ur9871443        True   \n",
       "9      30 July 2011  tt0111161   ur2707735        True   \n",
       "\n",
       "                                         review_text  rating  \\\n",
       "0  In its Oscar year, Shawshank Redemption (writt...      10   \n",
       "1  The Shawshank Redemption is without a doubt on...      10   \n",
       "2  I believe that this film is the best story eve...       8   \n",
       "3  **Yes, there are SPOILERS here**This film has ...      10   \n",
       "4  At the heart of this extraordinary movie is a ...       8   \n",
       "5  In recent years the IMDB top 250 movies has ha...       8   \n",
       "6  I have been a fan of this movie for a long tim...       9   \n",
       "7  I made my account on IMDb Just to Rate this mo...      10   \n",
       "8  A friend of mine listed \"The Shawshank Redempt...      10   \n",
       "9  Well I guess I'm a little late to the party as...      10   \n",
       "\n",
       "                                      review_summary  \n",
       "0      A classic piece of unforgettable film-making.  \n",
       "1         Simply amazing. The best film of the 90's.  \n",
       "2                   The best story ever told on film  \n",
       "3                         Busy dying or busy living?  \n",
       "4             Great story, wondrously told and acted  \n",
       "5                 Good , But It Is Overrated By Some  \n",
       "6                          This Movie Saved My Life.  \n",
       "7                       Movie you can see 1000 times  \n",
       "8                           The Shawshank Redemption  \n",
       "9  \"I'm a convicted murderer who provides sound f...  "
      ]
     },
     "execution_count": 6,
     "metadata": {},
     "output_type": "execute_result"
    }
   ],
   "source": [
    "data_reviews.head(10)"
   ]
  },
  {
   "cell_type": "markdown",
   "metadata": {
    "id": "Fm8GMQMY5cCH"
   },
   "source": [
    "### Reviews Comments:\n",
    "**7** columns and **573913** rows. Looks like there is plenty of data. Most important column data are the **'review_text'**. The labels are in **'is_spoiler'**. Data is clean with no nulls"
   ]
  },
  {
   "cell_type": "markdown",
   "metadata": {},
   "source": [
    "### **Movies Overview**"
   ]
  },
  {
   "cell_type": "code",
   "execution_count": 7,
   "metadata": {
    "execution": {
     "iopub.execute_input": "2025-04-06T02:32:30.866734Z",
     "iopub.status.busy": "2025-04-06T02:32:30.866494Z",
     "iopub.status.idle": "2025-04-06T02:32:30.876021Z",
     "shell.execute_reply": "2025-04-06T02:32:30.875235Z",
     "shell.execute_reply.started": "2025-04-06T02:32:30.866714Z"
    },
    "id": "U2GgKjNyVasR",
    "outputId": "4a8d346c-0289-4273-882e-1ae21984a790"
   },
   "outputs": [
    {
     "name": "stdout",
     "output_type": "stream",
     "text": [
      "<class 'pandas.core.frame.DataFrame'>\n",
      "RangeIndex: 1572 entries, 0 to 1571\n",
      "Data columns (total 7 columns):\n",
      " #   Column         Non-Null Count  Dtype  \n",
      "---  ------         --------------  -----  \n",
      " 0   movie_id       1572 non-null   object \n",
      " 1   plot_summary   1572 non-null   object \n",
      " 2   duration       1572 non-null   object \n",
      " 3   genre          1572 non-null   object \n",
      " 4   rating         1572 non-null   float64\n",
      " 5   release_date   1572 non-null   object \n",
      " 6   plot_synopsis  1572 non-null   object \n",
      "dtypes: float64(1), object(6)\n",
      "memory usage: 86.1+ KB\n"
     ]
    }
   ],
   "source": [
    "data_movies.info()"
   ]
  },
  {
   "cell_type": "code",
   "execution_count": 8,
   "metadata": {
    "execution": {
     "iopub.execute_input": "2025-04-06T02:32:30.876949Z",
     "iopub.status.busy": "2025-04-06T02:32:30.876741Z",
     "iopub.status.idle": "2025-04-06T02:32:30.894224Z",
     "shell.execute_reply": "2025-04-06T02:32:30.893600Z",
     "shell.execute_reply.started": "2025-04-06T02:32:30.876931Z"
    }
   },
   "outputs": [
    {
     "data": {
      "text/plain": [
       "(1572, 7)"
      ]
     },
     "execution_count": 8,
     "metadata": {},
     "output_type": "execute_result"
    }
   ],
   "source": [
    "data_movies.shape"
   ]
  },
  {
   "cell_type": "code",
   "execution_count": 9,
   "metadata": {
    "execution": {
     "iopub.execute_input": "2025-04-06T02:32:30.895024Z",
     "iopub.status.busy": "2025-04-06T02:32:30.894810Z",
     "iopub.status.idle": "2025-04-06T02:32:30.912724Z",
     "shell.execute_reply": "2025-04-06T02:32:30.912081Z",
     "shell.execute_reply.started": "2025-04-06T02:32:30.895005Z"
    },
    "id": "0O5QabHeWnMS",
    "outputId": "93cafa55-63fb-4bcc-a088-59dc4bb11baa"
   },
   "outputs": [
    {
     "data": {
      "text/plain": [
       "movie_id         0\n",
       "plot_summary     0\n",
       "duration         0\n",
       "genre            0\n",
       "rating           0\n",
       "release_date     0\n",
       "plot_synopsis    0\n",
       "dtype: int64"
      ]
     },
     "execution_count": 9,
     "metadata": {},
     "output_type": "execute_result"
    }
   ],
   "source": [
    "data_movies.isnull().sum()"
   ]
  },
  {
   "cell_type": "code",
   "execution_count": 10,
   "metadata": {
    "execution": {
     "iopub.execute_input": "2025-04-06T02:32:30.913873Z",
     "iopub.status.busy": "2025-04-06T02:32:30.913574Z",
     "iopub.status.idle": "2025-04-06T02:32:30.931560Z",
     "shell.execute_reply": "2025-04-06T02:32:30.930893Z",
     "shell.execute_reply.started": "2025-04-06T02:32:30.913846Z"
    }
   },
   "outputs": [
    {
     "data": {
      "text/plain": [
       "movie_id         0\n",
       "plot_summary     0\n",
       "duration         0\n",
       "genre            0\n",
       "rating           0\n",
       "release_date     0\n",
       "plot_synopsis    0\n",
       "dtype: int64"
      ]
     },
     "execution_count": 10,
     "metadata": {},
     "output_type": "execute_result"
    }
   ],
   "source": [
    "data_movies.isna().sum()"
   ]
  },
  {
   "cell_type": "code",
   "execution_count": 11,
   "metadata": {
    "execution": {
     "iopub.execute_input": "2025-04-06T02:32:30.932707Z",
     "iopub.status.busy": "2025-04-06T02:32:30.932415Z",
     "iopub.status.idle": "2025-04-06T02:32:30.956878Z",
     "shell.execute_reply": "2025-04-06T02:32:30.956239Z",
     "shell.execute_reply.started": "2025-04-06T02:32:30.932679Z"
    },
    "id": "vIEzrfUWW0il",
    "outputId": "92d44417-ca97-4082-b58a-757d55dc9f5a"
   },
   "outputs": [
    {
     "data": {
      "text/html": [
       "<div>\n",
       "<style scoped>\n",
       "    .dataframe tbody tr th:only-of-type {\n",
       "        vertical-align: middle;\n",
       "    }\n",
       "\n",
       "    .dataframe tbody tr th {\n",
       "        vertical-align: top;\n",
       "    }\n",
       "\n",
       "    .dataframe thead th {\n",
       "        text-align: right;\n",
       "    }\n",
       "</style>\n",
       "<table border=\"1\" class=\"dataframe\">\n",
       "  <thead>\n",
       "    <tr style=\"text-align: right;\">\n",
       "      <th></th>\n",
       "      <th>movie_id</th>\n",
       "      <th>plot_summary</th>\n",
       "      <th>duration</th>\n",
       "      <th>genre</th>\n",
       "      <th>rating</th>\n",
       "      <th>release_date</th>\n",
       "      <th>plot_synopsis</th>\n",
       "    </tr>\n",
       "  </thead>\n",
       "  <tbody>\n",
       "    <tr>\n",
       "      <th>0</th>\n",
       "      <td>tt0105112</td>\n",
       "      <td>Former CIA analyst, Jack Ryan is in England wi...</td>\n",
       "      <td>1h 57min</td>\n",
       "      <td>[Action, Thriller]</td>\n",
       "      <td>6.9</td>\n",
       "      <td>1992-06-05</td>\n",
       "      <td>Jack Ryan (Ford) is on a \"working vacation\" in...</td>\n",
       "    </tr>\n",
       "    <tr>\n",
       "      <th>1</th>\n",
       "      <td>tt1204975</td>\n",
       "      <td>Billy (Michael Douglas), Paddy (Robert De Niro...</td>\n",
       "      <td>1h 45min</td>\n",
       "      <td>[Comedy]</td>\n",
       "      <td>6.6</td>\n",
       "      <td>2013-11-01</td>\n",
       "      <td>Four boys around the age of 10 are friends in ...</td>\n",
       "    </tr>\n",
       "    <tr>\n",
       "      <th>2</th>\n",
       "      <td>tt0243655</td>\n",
       "      <td>The setting is Camp Firewood, the year 1981. I...</td>\n",
       "      <td>1h 37min</td>\n",
       "      <td>[Comedy, Romance]</td>\n",
       "      <td>6.7</td>\n",
       "      <td>2002-04-11</td>\n",
       "      <td></td>\n",
       "    </tr>\n",
       "    <tr>\n",
       "      <th>3</th>\n",
       "      <td>tt0040897</td>\n",
       "      <td>Fred C. Dobbs and Bob Curtin, both down on the...</td>\n",
       "      <td>2h 6min</td>\n",
       "      <td>[Adventure, Drama, Western]</td>\n",
       "      <td>8.3</td>\n",
       "      <td>1948-01-24</td>\n",
       "      <td>Fred Dobbs (Humphrey Bogart) and Bob Curtin (T...</td>\n",
       "    </tr>\n",
       "    <tr>\n",
       "      <th>4</th>\n",
       "      <td>tt0126886</td>\n",
       "      <td>Tracy Flick is running unopposed for this year...</td>\n",
       "      <td>1h 43min</td>\n",
       "      <td>[Comedy, Drama, Romance]</td>\n",
       "      <td>7.3</td>\n",
       "      <td>1999-05-07</td>\n",
       "      <td>Jim McAllister (Matthew Broderick) is a much-a...</td>\n",
       "    </tr>\n",
       "    <tr>\n",
       "      <th>5</th>\n",
       "      <td>tt0286716</td>\n",
       "      <td>Bruce Banner, a brilliant scientist with a clo...</td>\n",
       "      <td>2h 18min</td>\n",
       "      <td>[Action, Sci-Fi]</td>\n",
       "      <td>5.7</td>\n",
       "      <td>2003-06-20</td>\n",
       "      <td>Bruce Banner (Eric Bana) is a research scienti...</td>\n",
       "    </tr>\n",
       "    <tr>\n",
       "      <th>6</th>\n",
       "      <td>tt0090605</td>\n",
       "      <td>57 years after Ellen Ripley had a close encoun...</td>\n",
       "      <td>2h 17min</td>\n",
       "      <td>[Action, Adventure, Sci-Fi]</td>\n",
       "      <td>8.4</td>\n",
       "      <td>1986-07-18</td>\n",
       "      <td>After the opening credits, we see a spacecraft...</td>\n",
       "    </tr>\n",
       "    <tr>\n",
       "      <th>7</th>\n",
       "      <td>tt0243155</td>\n",
       "      <td>Bridget Jones is an average woman struggling a...</td>\n",
       "      <td>1h 37min</td>\n",
       "      <td>[Comedy, Drama, Romance]</td>\n",
       "      <td>6.7</td>\n",
       "      <td>2001-04-13</td>\n",
       "      <td>Bridget Jones (adorably played by Renee Zellwe...</td>\n",
       "    </tr>\n",
       "    <tr>\n",
       "      <th>8</th>\n",
       "      <td>tt0121765</td>\n",
       "      <td>Ten years after the invasion of Naboo, the Gal...</td>\n",
       "      <td>2h 22min</td>\n",
       "      <td>[Action, Adventure, Fantasy]</td>\n",
       "      <td>6.6</td>\n",
       "      <td>2002-05-16</td>\n",
       "      <td>The opening crawl reveals that the Galactic Re...</td>\n",
       "    </tr>\n",
       "    <tr>\n",
       "      <th>9</th>\n",
       "      <td>tt0443453</td>\n",
       "      <td>Borat Sagdiyev is a TV reporter of a popular s...</td>\n",
       "      <td>1h 24min</td>\n",
       "      <td>[Comedy]</td>\n",
       "      <td>7.3</td>\n",
       "      <td>2006-11-03</td>\n",
       "      <td>Borat Sagdiyev is a TV reporter of a popular s...</td>\n",
       "    </tr>\n",
       "  </tbody>\n",
       "</table>\n",
       "</div>"
      ],
      "text/plain": [
       "    movie_id                                       plot_summary  duration  \\\n",
       "0  tt0105112  Former CIA analyst, Jack Ryan is in England wi...  1h 57min   \n",
       "1  tt1204975  Billy (Michael Douglas), Paddy (Robert De Niro...  1h 45min   \n",
       "2  tt0243655  The setting is Camp Firewood, the year 1981. I...  1h 37min   \n",
       "3  tt0040897  Fred C. Dobbs and Bob Curtin, both down on the...   2h 6min   \n",
       "4  tt0126886  Tracy Flick is running unopposed for this year...  1h 43min   \n",
       "5  tt0286716  Bruce Banner, a brilliant scientist with a clo...  2h 18min   \n",
       "6  tt0090605  57 years after Ellen Ripley had a close encoun...  2h 17min   \n",
       "7  tt0243155  Bridget Jones is an average woman struggling a...  1h 37min   \n",
       "8  tt0121765  Ten years after the invasion of Naboo, the Gal...  2h 22min   \n",
       "9  tt0443453  Borat Sagdiyev is a TV reporter of a popular s...  1h 24min   \n",
       "\n",
       "                          genre  rating release_date  \\\n",
       "0            [Action, Thriller]     6.9   1992-06-05   \n",
       "1                      [Comedy]     6.6   2013-11-01   \n",
       "2             [Comedy, Romance]     6.7   2002-04-11   \n",
       "3   [Adventure, Drama, Western]     8.3   1948-01-24   \n",
       "4      [Comedy, Drama, Romance]     7.3   1999-05-07   \n",
       "5              [Action, Sci-Fi]     5.7   2003-06-20   \n",
       "6   [Action, Adventure, Sci-Fi]     8.4   1986-07-18   \n",
       "7      [Comedy, Drama, Romance]     6.7   2001-04-13   \n",
       "8  [Action, Adventure, Fantasy]     6.6   2002-05-16   \n",
       "9                      [Comedy]     7.3   2006-11-03   \n",
       "\n",
       "                                       plot_synopsis  \n",
       "0  Jack Ryan (Ford) is on a \"working vacation\" in...  \n",
       "1  Four boys around the age of 10 are friends in ...  \n",
       "2                                                     \n",
       "3  Fred Dobbs (Humphrey Bogart) and Bob Curtin (T...  \n",
       "4  Jim McAllister (Matthew Broderick) is a much-a...  \n",
       "5  Bruce Banner (Eric Bana) is a research scienti...  \n",
       "6  After the opening credits, we see a spacecraft...  \n",
       "7  Bridget Jones (adorably played by Renee Zellwe...  \n",
       "8  The opening crawl reveals that the Galactic Re...  \n",
       "9  Borat Sagdiyev is a TV reporter of a popular s...  "
      ]
     },
     "execution_count": 11,
     "metadata": {},
     "output_type": "execute_result"
    }
   ],
   "source": [
    "data_movies.head(10)"
   ]
  },
  {
   "cell_type": "markdown",
   "metadata": {
    "id": "jhm_0-biVluF"
   },
   "source": [
    "### Movies Comments:\n",
    "**1572** movies. \n",
    "\n",
    "We care about:\n",
    "\n",
    "*   **movie_id** to link to the movie reviews (data) df\n",
    "*   **Plot summary**: This is the official summary for the movie and contains no spoilers. This may be useful in later ML processing.\n",
    "*   **Plot synopsis**: This has spoiler information and WILL be useful in finding out what spoiler embeddings are like\n",
    "\n",
    "Movie data is also clean with no nulls"
   ]
  },
  {
   "cell_type": "markdown",
   "metadata": {},
   "source": [
    "## **Combine the 2 Datasets**"
   ]
  },
  {
   "cell_type": "code",
   "execution_count": 12,
   "metadata": {
    "execution": {
     "iopub.execute_input": "2025-04-06T02:32:30.957765Z",
     "iopub.status.busy": "2025-04-06T02:32:30.957532Z",
     "iopub.status.idle": "2025-04-06T02:32:31.189647Z",
     "shell.execute_reply": "2025-04-06T02:32:31.188736Z",
     "shell.execute_reply.started": "2025-04-06T02:32:30.957746Z"
    },
    "id": "D87hFxmrXFIT"
   },
   "outputs": [],
   "source": [
    "data = pd.merge(data_reviews, data_movies, on='movie_id', how='left')"
   ]
  },
  {
   "cell_type": "code",
   "execution_count": 13,
   "metadata": {
    "execution": {
     "iopub.execute_input": "2025-04-06T02:32:31.193385Z",
     "iopub.status.busy": "2025-04-06T02:32:31.193162Z",
     "iopub.status.idle": "2025-04-06T02:32:31.198121Z",
     "shell.execute_reply": "2025-04-06T02:32:31.197397Z",
     "shell.execute_reply.started": "2025-04-06T02:32:31.193366Z"
    },
    "id": "Ekhv6yPc6In9",
    "outputId": "16c8cb85-e757-41ae-a016-27edfdf5bc2a"
   },
   "outputs": [
    {
     "data": {
      "text/plain": [
       "Index(['review_date', 'movie_id', 'user_id', 'is_spoiler', 'review_text',\n",
       "       'rating_x', 'review_summary', 'plot_summary', 'duration', 'genre',\n",
       "       'rating_y', 'release_date', 'plot_synopsis'],\n",
       "      dtype='object')"
      ]
     },
     "execution_count": 13,
     "metadata": {},
     "output_type": "execute_result"
    }
   ],
   "source": [
    "data.columns"
   ]
  },
  {
   "cell_type": "code",
   "execution_count": 14,
   "metadata": {
    "execution": {
     "iopub.execute_input": "2025-04-06T02:32:31.200309Z",
     "iopub.status.busy": "2025-04-06T02:32:31.200110Z",
     "iopub.status.idle": "2025-04-06T02:32:31.224177Z",
     "shell.execute_reply": "2025-04-06T02:32:31.223368Z",
     "shell.execute_reply.started": "2025-04-06T02:32:31.200284Z"
    },
    "id": "uJC6YZBYX4w4",
    "outputId": "d6b414e9-9a1f-4012-c9dc-7b0094903de3"
   },
   "outputs": [
    {
     "data": {
      "text/html": [
       "<div>\n",
       "<style scoped>\n",
       "    .dataframe tbody tr th:only-of-type {\n",
       "        vertical-align: middle;\n",
       "    }\n",
       "\n",
       "    .dataframe tbody tr th {\n",
       "        vertical-align: top;\n",
       "    }\n",
       "\n",
       "    .dataframe thead th {\n",
       "        text-align: right;\n",
       "    }\n",
       "</style>\n",
       "<table border=\"1\" class=\"dataframe\">\n",
       "  <thead>\n",
       "    <tr style=\"text-align: right;\">\n",
       "      <th></th>\n",
       "      <th>review_date</th>\n",
       "      <th>movie_id</th>\n",
       "      <th>user_id</th>\n",
       "      <th>is_spoiler</th>\n",
       "      <th>review_text</th>\n",
       "      <th>rating_x</th>\n",
       "      <th>review_summary</th>\n",
       "      <th>plot_summary</th>\n",
       "      <th>duration</th>\n",
       "      <th>genre</th>\n",
       "      <th>rating_y</th>\n",
       "      <th>release_date</th>\n",
       "      <th>plot_synopsis</th>\n",
       "    </tr>\n",
       "  </thead>\n",
       "  <tbody>\n",
       "    <tr>\n",
       "      <th>0</th>\n",
       "      <td>10 February 2006</td>\n",
       "      <td>tt0111161</td>\n",
       "      <td>ur1898687</td>\n",
       "      <td>True</td>\n",
       "      <td>In its Oscar year, Shawshank Redemption (writt...</td>\n",
       "      <td>10</td>\n",
       "      <td>A classic piece of unforgettable film-making.</td>\n",
       "      <td>Chronicles the experiences of a formerly succe...</td>\n",
       "      <td>2h 22min</td>\n",
       "      <td>[Crime, Drama]</td>\n",
       "      <td>9.3</td>\n",
       "      <td>1994-10-14</td>\n",
       "      <td>In 1947, Andy Dufresne (Tim Robbins), a banker...</td>\n",
       "    </tr>\n",
       "    <tr>\n",
       "      <th>1</th>\n",
       "      <td>6 September 2000</td>\n",
       "      <td>tt0111161</td>\n",
       "      <td>ur0842118</td>\n",
       "      <td>True</td>\n",
       "      <td>The Shawshank Redemption is without a doubt on...</td>\n",
       "      <td>10</td>\n",
       "      <td>Simply amazing. The best film of the 90's.</td>\n",
       "      <td>Chronicles the experiences of a formerly succe...</td>\n",
       "      <td>2h 22min</td>\n",
       "      <td>[Crime, Drama]</td>\n",
       "      <td>9.3</td>\n",
       "      <td>1994-10-14</td>\n",
       "      <td>In 1947, Andy Dufresne (Tim Robbins), a banker...</td>\n",
       "    </tr>\n",
       "    <tr>\n",
       "      <th>2</th>\n",
       "      <td>3 August 2001</td>\n",
       "      <td>tt0111161</td>\n",
       "      <td>ur1285640</td>\n",
       "      <td>True</td>\n",
       "      <td>I believe that this film is the best story eve...</td>\n",
       "      <td>8</td>\n",
       "      <td>The best story ever told on film</td>\n",
       "      <td>Chronicles the experiences of a formerly succe...</td>\n",
       "      <td>2h 22min</td>\n",
       "      <td>[Crime, Drama]</td>\n",
       "      <td>9.3</td>\n",
       "      <td>1994-10-14</td>\n",
       "      <td>In 1947, Andy Dufresne (Tim Robbins), a banker...</td>\n",
       "    </tr>\n",
       "    <tr>\n",
       "      <th>3</th>\n",
       "      <td>1 September 2002</td>\n",
       "      <td>tt0111161</td>\n",
       "      <td>ur1003471</td>\n",
       "      <td>True</td>\n",
       "      <td>**Yes, there are SPOILERS here**This film has ...</td>\n",
       "      <td>10</td>\n",
       "      <td>Busy dying or busy living?</td>\n",
       "      <td>Chronicles the experiences of a formerly succe...</td>\n",
       "      <td>2h 22min</td>\n",
       "      <td>[Crime, Drama]</td>\n",
       "      <td>9.3</td>\n",
       "      <td>1994-10-14</td>\n",
       "      <td>In 1947, Andy Dufresne (Tim Robbins), a banker...</td>\n",
       "    </tr>\n",
       "    <tr>\n",
       "      <th>4</th>\n",
       "      <td>20 May 2004</td>\n",
       "      <td>tt0111161</td>\n",
       "      <td>ur0226855</td>\n",
       "      <td>True</td>\n",
       "      <td>At the heart of this extraordinary movie is a ...</td>\n",
       "      <td>8</td>\n",
       "      <td>Great story, wondrously told and acted</td>\n",
       "      <td>Chronicles the experiences of a formerly succe...</td>\n",
       "      <td>2h 22min</td>\n",
       "      <td>[Crime, Drama]</td>\n",
       "      <td>9.3</td>\n",
       "      <td>1994-10-14</td>\n",
       "      <td>In 1947, Andy Dufresne (Tim Robbins), a banker...</td>\n",
       "    </tr>\n",
       "  </tbody>\n",
       "</table>\n",
       "</div>"
      ],
      "text/plain": [
       "        review_date   movie_id    user_id  is_spoiler  \\\n",
       "0  10 February 2006  tt0111161  ur1898687        True   \n",
       "1  6 September 2000  tt0111161  ur0842118        True   \n",
       "2     3 August 2001  tt0111161  ur1285640        True   \n",
       "3  1 September 2002  tt0111161  ur1003471        True   \n",
       "4       20 May 2004  tt0111161  ur0226855        True   \n",
       "\n",
       "                                         review_text  rating_x  \\\n",
       "0  In its Oscar year, Shawshank Redemption (writt...        10   \n",
       "1  The Shawshank Redemption is without a doubt on...        10   \n",
       "2  I believe that this film is the best story eve...         8   \n",
       "3  **Yes, there are SPOILERS here**This film has ...        10   \n",
       "4  At the heart of this extraordinary movie is a ...         8   \n",
       "\n",
       "                                  review_summary  \\\n",
       "0  A classic piece of unforgettable film-making.   \n",
       "1     Simply amazing. The best film of the 90's.   \n",
       "2               The best story ever told on film   \n",
       "3                     Busy dying or busy living?   \n",
       "4         Great story, wondrously told and acted   \n",
       "\n",
       "                                        plot_summary  duration  \\\n",
       "0  Chronicles the experiences of a formerly succe...  2h 22min   \n",
       "1  Chronicles the experiences of a formerly succe...  2h 22min   \n",
       "2  Chronicles the experiences of a formerly succe...  2h 22min   \n",
       "3  Chronicles the experiences of a formerly succe...  2h 22min   \n",
       "4  Chronicles the experiences of a formerly succe...  2h 22min   \n",
       "\n",
       "            genre  rating_y release_date  \\\n",
       "0  [Crime, Drama]       9.3   1994-10-14   \n",
       "1  [Crime, Drama]       9.3   1994-10-14   \n",
       "2  [Crime, Drama]       9.3   1994-10-14   \n",
       "3  [Crime, Drama]       9.3   1994-10-14   \n",
       "4  [Crime, Drama]       9.3   1994-10-14   \n",
       "\n",
       "                                       plot_synopsis  \n",
       "0  In 1947, Andy Dufresne (Tim Robbins), a banker...  \n",
       "1  In 1947, Andy Dufresne (Tim Robbins), a banker...  \n",
       "2  In 1947, Andy Dufresne (Tim Robbins), a banker...  \n",
       "3  In 1947, Andy Dufresne (Tim Robbins), a banker...  \n",
       "4  In 1947, Andy Dufresne (Tim Robbins), a banker...  "
      ]
     },
     "execution_count": 14,
     "metadata": {},
     "output_type": "execute_result"
    }
   ],
   "source": [
    "data.head(5)"
   ]
  },
  {
   "cell_type": "code",
   "execution_count": 15,
   "metadata": {
    "execution": {
     "iopub.execute_input": "2025-04-06T02:32:31.225264Z",
     "iopub.status.busy": "2025-04-06T02:32:31.225006Z",
     "iopub.status.idle": "2025-04-06T02:32:31.240309Z",
     "shell.execute_reply": "2025-04-06T02:32:31.239596Z",
     "shell.execute_reply.started": "2025-04-06T02:32:31.225237Z"
    }
   },
   "outputs": [
    {
     "data": {
      "text/plain": [
       "(573913, 13)"
      ]
     },
     "execution_count": 15,
     "metadata": {},
     "output_type": "execute_result"
    }
   ],
   "source": [
    "data.shape"
   ]
  },
  {
   "cell_type": "markdown",
   "metadata": {},
   "source": [
    "## Check for NAN in combined data and clean"
   ]
  },
  {
   "cell_type": "code",
   "execution_count": 16,
   "metadata": {
    "execution": {
     "iopub.execute_input": "2025-04-06T02:32:31.241251Z",
     "iopub.status.busy": "2025-04-06T02:32:31.241070Z",
     "iopub.status.idle": "2025-04-06T02:32:31.284507Z",
     "shell.execute_reply": "2025-04-06T02:32:31.283535Z",
     "shell.execute_reply.started": "2025-04-06T02:32:31.241235Z"
    }
   },
   "outputs": [
    {
     "name": "stdout",
     "output_type": "stream",
     "text": [
      "             review_date   movie_id     user_id  is_spoiler  \\\n",
      "495798    29 August 2006  tt0104014   ur0039450       False   \n",
      "495799      16 July 2012  tt0104014   ur5358902       False   \n",
      "495800   25 October 2015  tt0104014  ur63416246       False   \n",
      "495801  14 February 2006  tt0104014   ur2851731       False   \n",
      "495802     11 April 2008  tt0104014  ur10916790       False   \n",
      "529802      25 July 2010  tt0114142   ur6302267       False   \n",
      "529803  27 December 2000  tt0114142   ur0982623       False   \n",
      "\n",
      "                                              review_text  rating_x  \\\n",
      "495798  This must be one of the most erotic films ever...        10   \n",
      "495799  Tinto Brass is usually referred to as either a...         7   \n",
      "495800  One of the best erotic movies of all times. Mo...         8   \n",
      "495801  call me crass, but i preferred the higher titi...         3   \n",
      "495802  I heard Tinto Brass did eroticism, fine. I hea...         1   \n",
      "529802  Yet another erotic thriller involving a web of...         3   \n",
      "529803  Just a standard softcore flick from the playbo...         8   \n",
      "\n",
      "                                           review_summary plot_summary  \\\n",
      "495798                               Erotic with an big E          NaN   \n",
      "495799                                     Silly and Sexy          NaN   \n",
      "495800                                         Excellento          NaN   \n",
      "495801                                 horrible male lead          NaN   \n",
      "495802                            Go rent a playboy video          NaN   \n",
      "529802                The women are hot, things end there          NaN   \n",
      "529803  Standard playboy production - bad script, sexy...          NaN   \n",
      "\n",
      "       duration genre  rating_y release_date plot_synopsis  \n",
      "495798      NaN   NaN       NaN          NaN           NaN  \n",
      "495799      NaN   NaN       NaN          NaN           NaN  \n",
      "495800      NaN   NaN       NaN          NaN           NaN  \n",
      "495801      NaN   NaN       NaN          NaN           NaN  \n",
      "495802      NaN   NaN       NaN          NaN           NaN  \n",
      "529802      NaN   NaN       NaN          NaN           NaN  \n",
      "529803      NaN   NaN       NaN          NaN           NaN  \n"
     ]
    },
    {
     "name": "stderr",
     "output_type": "stream",
     "text": [
      "/usr/local/lib/python3.10/dist-packages/pandas/io/formats/format.py:1458: RuntimeWarning: invalid value encountered in greater\n",
      "  has_large_values = (abs_vals > 1e6).any()\n",
      "/usr/local/lib/python3.10/dist-packages/pandas/io/formats/format.py:1459: RuntimeWarning: invalid value encountered in less\n",
      "  has_small_values = ((abs_vals < 10 ** (-self.digits)) & (abs_vals > 0)).any()\n",
      "/usr/local/lib/python3.10/dist-packages/pandas/io/formats/format.py:1459: RuntimeWarning: invalid value encountered in greater\n",
      "  has_small_values = ((abs_vals < 10 ** (-self.digits)) & (abs_vals > 0)).any()\n"
     ]
    }
   ],
   "source": [
    "rows_with_column_nan = data[data['plot_synopsis'].isna()]\n",
    "print(rows_with_column_nan)"
   ]
  },
  {
   "cell_type": "code",
   "execution_count": 17,
   "metadata": {
    "execution": {
     "iopub.execute_input": "2025-04-06T02:32:31.285662Z",
     "iopub.status.busy": "2025-04-06T02:32:31.285367Z",
     "iopub.status.idle": "2025-04-06T02:32:31.827403Z",
     "shell.execute_reply": "2025-04-06T02:32:31.826600Z",
     "shell.execute_reply.started": "2025-04-06T02:32:31.285634Z"
    }
   },
   "outputs": [
    {
     "data": {
      "text/plain": [
       "(573906, 13)"
      ]
     },
     "execution_count": 17,
     "metadata": {},
     "output_type": "execute_result"
    }
   ],
   "source": [
    "data.dropna(inplace=True)\n",
    "data.shape"
   ]
  },
  {
   "cell_type": "markdown",
   "metadata": {},
   "source": [
    "### Removed 7 rows with 'NaN'"
   ]
  },
  {
   "cell_type": "markdown",
   "metadata": {},
   "source": [
    "## **Explore the combined dataset**"
   ]
  },
  {
   "cell_type": "markdown",
   "metadata": {},
   "source": [
    "### 1. Analyze the Class Distribution"
   ]
  },
  {
   "cell_type": "markdown",
   "metadata": {
    "id": "XJL7MQbL6eYg"
   },
   "source": [
    "### Check the frequency of is_spoiler 'True' vs 'False'"
   ]
  },
  {
   "cell_type": "code",
   "execution_count": 18,
   "metadata": {
    "execution": {
     "iopub.execute_input": "2025-04-06T02:32:31.828549Z",
     "iopub.status.busy": "2025-04-06T02:32:31.828220Z",
     "iopub.status.idle": "2025-04-06T02:32:32.201594Z",
     "shell.execute_reply": "2025-04-06T02:32:32.200716Z",
     "shell.execute_reply.started": "2025-04-06T02:32:31.828494Z"
    }
   },
   "outputs": [
    {
     "data": {
      "image/png": "[encoded data removed]",
      "text/plain": [
       "<Figure size 1200x600 with 1 Axes>"
      ]
     },
     "metadata": {},
     "output_type": "display_data"
    }
   ],
   "source": [
    "def plot_value_count(data): \n",
    "\n",
    "  # count occurences of each label\n",
    "  label_counts = data['is_spoiler'].value_counts()\n",
    "\n",
    "  # Create a bar plot\n",
    "  plt.figure(figsize=(12, 6))\n",
    "  label_counts.plot(kind='bar')\n",
    "\n",
    "  # Set labels and title\n",
    "  plt.xlabel('Label')\n",
    "  plt.ylabel('Frequency')\n",
    "  plt.title('Count of is_spoiler in imdb Dataset')\n",
    "  plt.xticks(rotation=45)\n",
    "  plt.show()\n",
    "\n",
    "\n",
    "plot_value_count(data)"
   ]
  },
  {
   "cell_type": "markdown",
   "metadata": {},
   "source": [
    "### Analyze is_spoiler distribution\n",
    "There are way more Is_spoiler == False than True. This may cause challenges later on when training the dataset because it is unbalanced. There are 422601 False and 150862 True for is_spoiler"
   ]
  },
  {
   "cell_type": "markdown",
   "metadata": {},
   "source": [
    "### 2. Analyze the Word count distribution"
   ]
  },
  {
   "cell_type": "code",
   "execution_count": 19,
   "metadata": {
    "execution": {
     "iopub.execute_input": "2025-04-06T02:32:32.202778Z",
     "iopub.status.busy": "2025-04-06T02:32:32.202489Z",
     "iopub.status.idle": "2025-04-06T02:32:40.303415Z",
     "shell.execute_reply": "2025-04-06T02:32:40.302709Z",
     "shell.execute_reply.started": "2025-04-06T02:32:32.202745Z"
    }
   },
   "outputs": [
    {
     "data": {
      "text/html": [
       "<div>\n",
       "<style scoped>\n",
       "    .dataframe tbody tr th:only-of-type {\n",
       "        vertical-align: middle;\n",
       "    }\n",
       "\n",
       "    .dataframe tbody tr th {\n",
       "        vertical-align: top;\n",
       "    }\n",
       "\n",
       "    .dataframe thead th {\n",
       "        text-align: right;\n",
       "    }\n",
       "</style>\n",
       "<table border=\"1\" class=\"dataframe\">\n",
       "  <thead>\n",
       "    <tr style=\"text-align: right;\">\n",
       "      <th></th>\n",
       "      <th>review_date</th>\n",
       "      <th>movie_id</th>\n",
       "      <th>user_id</th>\n",
       "      <th>is_spoiler</th>\n",
       "      <th>review_text</th>\n",
       "      <th>rating_x</th>\n",
       "      <th>review_summary</th>\n",
       "      <th>plot_summary</th>\n",
       "      <th>duration</th>\n",
       "      <th>genre</th>\n",
       "      <th>rating_y</th>\n",
       "      <th>release_date</th>\n",
       "      <th>plot_synopsis</th>\n",
       "      <th>word_count</th>\n",
       "    </tr>\n",
       "  </thead>\n",
       "  <tbody>\n",
       "    <tr>\n",
       "      <th>0</th>\n",
       "      <td>10 February 2006</td>\n",
       "      <td>tt0111161</td>\n",
       "      <td>ur1898687</td>\n",
       "      <td>True</td>\n",
       "      <td>In its Oscar year, Shawshank Redemption (writt...</td>\n",
       "      <td>10</td>\n",
       "      <td>A classic piece of unforgettable film-making.</td>\n",
       "      <td>Chronicles the experiences of a formerly succe...</td>\n",
       "      <td>2h 22min</td>\n",
       "      <td>[Crime, Drama]</td>\n",
       "      <td>9.3</td>\n",
       "      <td>1994-10-14</td>\n",
       "      <td>In 1947, Andy Dufresne (Tim Robbins), a banker...</td>\n",
       "      <td>843</td>\n",
       "    </tr>\n",
       "    <tr>\n",
       "      <th>1</th>\n",
       "      <td>6 September 2000</td>\n",
       "      <td>tt0111161</td>\n",
       "      <td>ur0842118</td>\n",
       "      <td>True</td>\n",
       "      <td>The Shawshank Redemption is without a doubt on...</td>\n",
       "      <td>10</td>\n",
       "      <td>Simply amazing. The best film of the 90's.</td>\n",
       "      <td>Chronicles the experiences of a formerly succe...</td>\n",
       "      <td>2h 22min</td>\n",
       "      <td>[Crime, Drama]</td>\n",
       "      <td>9.3</td>\n",
       "      <td>1994-10-14</td>\n",
       "      <td>In 1947, Andy Dufresne (Tim Robbins), a banker...</td>\n",
       "      <td>223</td>\n",
       "    </tr>\n",
       "    <tr>\n",
       "      <th>2</th>\n",
       "      <td>3 August 2001</td>\n",
       "      <td>tt0111161</td>\n",
       "      <td>ur1285640</td>\n",
       "      <td>True</td>\n",
       "      <td>I believe that this film is the best story eve...</td>\n",
       "      <td>8</td>\n",
       "      <td>The best story ever told on film</td>\n",
       "      <td>Chronicles the experiences of a formerly succe...</td>\n",
       "      <td>2h 22min</td>\n",
       "      <td>[Crime, Drama]</td>\n",
       "      <td>9.3</td>\n",
       "      <td>1994-10-14</td>\n",
       "      <td>In 1947, Andy Dufresne (Tim Robbins), a banker...</td>\n",
       "      <td>250</td>\n",
       "    </tr>\n",
       "    <tr>\n",
       "      <th>3</th>\n",
       "      <td>1 September 2002</td>\n",
       "      <td>tt0111161</td>\n",
       "      <td>ur1003471</td>\n",
       "      <td>True</td>\n",
       "      <td>**Yes, there are SPOILERS here**This film has ...</td>\n",
       "      <td>10</td>\n",
       "      <td>Busy dying or busy living?</td>\n",
       "      <td>Chronicles the experiences of a formerly succe...</td>\n",
       "      <td>2h 22min</td>\n",
       "      <td>[Crime, Drama]</td>\n",
       "      <td>9.3</td>\n",
       "      <td>1994-10-14</td>\n",
       "      <td>In 1947, Andy Dufresne (Tim Robbins), a banker...</td>\n",
       "      <td>741</td>\n",
       "    </tr>\n",
       "    <tr>\n",
       "      <th>4</th>\n",
       "      <td>20 May 2004</td>\n",
       "      <td>tt0111161</td>\n",
       "      <td>ur0226855</td>\n",
       "      <td>True</td>\n",
       "      <td>At the heart of this extraordinary movie is a ...</td>\n",
       "      <td>8</td>\n",
       "      <td>Great story, wondrously told and acted</td>\n",
       "      <td>Chronicles the experiences of a formerly succe...</td>\n",
       "      <td>2h 22min</td>\n",
       "      <td>[Crime, Drama]</td>\n",
       "      <td>9.3</td>\n",
       "      <td>1994-10-14</td>\n",
       "      <td>In 1947, Andy Dufresne (Tim Robbins), a banker...</td>\n",
       "      <td>829</td>\n",
       "    </tr>\n",
       "  </tbody>\n",
       "</table>\n",
       "</div>"
      ],
      "text/plain": [
       "        review_date   movie_id    user_id  is_spoiler  \\\n",
       "0  10 February 2006  tt0111161  ur1898687        True   \n",
       "1  6 September 2000  tt0111161  ur0842118        True   \n",
       "2     3 August 2001  tt0111161  ur1285640        True   \n",
       "3  1 September 2002  tt0111161  ur1003471        True   \n",
       "4       20 May 2004  tt0111161  ur0226855        True   \n",
       "\n",
       "                                         review_text  rating_x  \\\n",
       "0  In its Oscar year, Shawshank Redemption (writt...        10   \n",
       "1  The Shawshank Redemption is without a doubt on...        10   \n",
       "2  I believe that this film is the best story eve...         8   \n",
       "3  **Yes, there are SPOILERS here**This film has ...        10   \n",
       "4  At the heart of this extraordinary movie is a ...         8   \n",
       "\n",
       "                                  review_summary  \\\n",
       "0  A classic piece of unforgettable film-making.   \n",
       "1     Simply amazing. The best film of the 90's.   \n",
       "2               The best story ever told on film   \n",
       "3                     Busy dying or busy living?   \n",
       "4         Great story, wondrously told and acted   \n",
       "\n",
       "                                        plot_summary  duration  \\\n",
       "0  Chronicles the experiences of a formerly succe...  2h 22min   \n",
       "1  Chronicles the experiences of a formerly succe...  2h 22min   \n",
       "2  Chronicles the experiences of a formerly succe...  2h 22min   \n",
       "3  Chronicles the experiences of a formerly succe...  2h 22min   \n",
       "4  Chronicles the experiences of a formerly succe...  2h 22min   \n",
       "\n",
       "            genre  rating_y release_date  \\\n",
       "0  [Crime, Drama]       9.3   1994-10-14   \n",
       "1  [Crime, Drama]       9.3   1994-10-14   \n",
       "2  [Crime, Drama]       9.3   1994-10-14   \n",
       "3  [Crime, Drama]       9.3   1994-10-14   \n",
       "4  [Crime, Drama]       9.3   1994-10-14   \n",
       "\n",
       "                                       plot_synopsis  word_count  \n",
       "0  In 1947, Andy Dufresne (Tim Robbins), a banker...         843  \n",
       "1  In 1947, Andy Dufresne (Tim Robbins), a banker...         223  \n",
       "2  In 1947, Andy Dufresne (Tim Robbins), a banker...         250  \n",
       "3  In 1947, Andy Dufresne (Tim Robbins), a banker...         741  \n",
       "4  In 1947, Andy Dufresne (Tim Robbins), a banker...         829  "
      ]
     },
     "execution_count": 19,
     "metadata": {},
     "output_type": "execute_result"
    }
   ],
   "source": [
    "# Add a new word count column (for reviews)\n",
    "data['word_count'] = data['review_text'].apply(lambda x: len(str(x).split()))\n",
    "data.head(5)"
   ]
  },
  {
   "cell_type": "code",
   "execution_count": 20,
   "metadata": {
    "execution": {
     "iopub.execute_input": "2025-04-06T02:32:40.304397Z",
     "iopub.status.busy": "2025-04-06T02:32:40.304160Z",
     "iopub.status.idle": "2025-04-06T02:32:43.419051Z",
     "shell.execute_reply": "2025-04-06T02:32:43.418100Z",
     "shell.execute_reply.started": "2025-04-06T02:32:40.304377Z"
    }
   },
   "outputs": [
    {
     "data": {
      "image/png": "[encoded data removed]",
      "text/plain": [
       "<Figure size 2100x900 with 1 Axes>"
      ]
     },
     "metadata": {},
     "output_type": "display_data"
    }
   ],
   "source": [
    "#Plot the Word count distribution for reviews\n",
    "frequency_distribution = data['word_count'].value_counts()\n",
    "plt.figure(figsize=(21, 9))\n",
    "frequency_distribution.plot(kind='bar')\n",
    "plt.title('Word frequency distribution of Movie reviews')\n",
    "plt.xlabel('Number of Words')\n",
    "plt.ylabel('Frequency')\n",
    "plt.locator_params(axis='x', nbins=50) # Aim for around 50 ticks\n",
    "plt.grid(axis='y')\n",
    "plt.show()"
   ]
  },
  {
   "cell_type": "markdown",
   "metadata": {},
   "source": [
    "### Word count analysis\n",
    "Looks like most reviews are around 129 words per review, with very few above 1000 words"
   ]
  },
  {
   "cell_type": "markdown",
   "metadata": {},
   "source": [
    "### 3. Create a Word Cloud"
   ]
  },
  {
   "cell_type": "code",
   "execution_count": 21,
   "metadata": {
    "execution": {
     "iopub.execute_input": "2025-04-06T02:32:43.420044Z",
     "iopub.status.busy": "2025-04-06T02:32:43.419828Z",
     "iopub.status.idle": "2025-04-06T02:33:13.692194Z",
     "shell.execute_reply": "2025-04-06T02:33:13.691412Z",
     "shell.execute_reply.started": "2025-04-06T02:32:43.420017Z"
    }
   },
   "outputs": [
    {
     "name": "stdout",
     "output_type": "stream",
     "text": [
      "[nltk_data] Downloading package stopwords to /usr/share/nltk_data...\n",
      "[nltk_data]   Unzipping corpora/stopwords.zip.\n"
     ]
    },
    {
     "data": {
      "text/html": [
       "<div>\n",
       "<style scoped>\n",
       "    .dataframe tbody tr th:only-of-type {\n",
       "        vertical-align: middle;\n",
       "    }\n",
       "\n",
       "    .dataframe tbody tr th {\n",
       "        vertical-align: top;\n",
       "    }\n",
       "\n",
       "    .dataframe thead th {\n",
       "        text-align: right;\n",
       "    }\n",
       "</style>\n",
       "<table border=\"1\" class=\"dataframe\">\n",
       "  <thead>\n",
       "    <tr style=\"text-align: right;\">\n",
       "      <th></th>\n",
       "      <th>review_date</th>\n",
       "      <th>movie_id</th>\n",
       "      <th>user_id</th>\n",
       "      <th>is_spoiler</th>\n",
       "      <th>review_text</th>\n",
       "      <th>rating_x</th>\n",
       "      <th>review_summary</th>\n",
       "      <th>plot_summary</th>\n",
       "      <th>duration</th>\n",
       "      <th>genre</th>\n",
       "      <th>rating_y</th>\n",
       "      <th>release_date</th>\n",
       "      <th>plot_synopsis</th>\n",
       "      <th>word_count</th>\n",
       "      <th>cleaned_review_text</th>\n",
       "    </tr>\n",
       "  </thead>\n",
       "  <tbody>\n",
       "    <tr>\n",
       "      <th>0</th>\n",
       "      <td>10 February 2006</td>\n",
       "      <td>tt0111161</td>\n",
       "      <td>ur1898687</td>\n",
       "      <td>True</td>\n",
       "      <td>In its Oscar year, Shawshank Redemption (writt...</td>\n",
       "      <td>10</td>\n",
       "      <td>A classic piece of unforgettable film-making.</td>\n",
       "      <td>Chronicles the experiences of a formerly succe...</td>\n",
       "      <td>2h 22min</td>\n",
       "      <td>[Crime, Drama]</td>\n",
       "      <td>9.3</td>\n",
       "      <td>1994-10-14</td>\n",
       "      <td>In 1947, Andy Dufresne (Tim Robbins), a banker...</td>\n",
       "      <td>843</td>\n",
       "      <td>Oscar year, Shawshank Redemption (written dire...</td>\n",
       "    </tr>\n",
       "    <tr>\n",
       "      <th>1</th>\n",
       "      <td>6 September 2000</td>\n",
       "      <td>tt0111161</td>\n",
       "      <td>ur0842118</td>\n",
       "      <td>True</td>\n",
       "      <td>The Shawshank Redemption is without a doubt on...</td>\n",
       "      <td>10</td>\n",
       "      <td>Simply amazing. The best film of the 90's.</td>\n",
       "      <td>Chronicles the experiences of a formerly succe...</td>\n",
       "      <td>2h 22min</td>\n",
       "      <td>[Crime, Drama]</td>\n",
       "      <td>9.3</td>\n",
       "      <td>1994-10-14</td>\n",
       "      <td>In 1947, Andy Dufresne (Tim Robbins), a banker...</td>\n",
       "      <td>223</td>\n",
       "      <td>Shawshank Redemption without doubt one brillia...</td>\n",
       "    </tr>\n",
       "    <tr>\n",
       "      <th>2</th>\n",
       "      <td>3 August 2001</td>\n",
       "      <td>tt0111161</td>\n",
       "      <td>ur1285640</td>\n",
       "      <td>True</td>\n",
       "      <td>I believe that this film is the best story eve...</td>\n",
       "      <td>8</td>\n",
       "      <td>The best story ever told on film</td>\n",
       "      <td>Chronicles the experiences of a formerly succe...</td>\n",
       "      <td>2h 22min</td>\n",
       "      <td>[Crime, Drama]</td>\n",
       "      <td>9.3</td>\n",
       "      <td>1994-10-14</td>\n",
       "      <td>In 1947, Andy Dufresne (Tim Robbins), a banker...</td>\n",
       "      <td>250</td>\n",
       "      <td>believe film best story ever told film, tell w...</td>\n",
       "    </tr>\n",
       "    <tr>\n",
       "      <th>3</th>\n",
       "      <td>1 September 2002</td>\n",
       "      <td>tt0111161</td>\n",
       "      <td>ur1003471</td>\n",
       "      <td>True</td>\n",
       "      <td>**Yes, there are SPOILERS here**This film has ...</td>\n",
       "      <td>10</td>\n",
       "      <td>Busy dying or busy living?</td>\n",
       "      <td>Chronicles the experiences of a formerly succe...</td>\n",
       "      <td>2h 22min</td>\n",
       "      <td>[Crime, Drama]</td>\n",
       "      <td>9.3</td>\n",
       "      <td>1994-10-14</td>\n",
       "      <td>In 1947, Andy Dufresne (Tim Robbins), a banker...</td>\n",
       "      <td>741</td>\n",
       "      <td>**Yes, SPOILERS here**This film emotional impa...</td>\n",
       "    </tr>\n",
       "    <tr>\n",
       "      <th>4</th>\n",
       "      <td>20 May 2004</td>\n",
       "      <td>tt0111161</td>\n",
       "      <td>ur0226855</td>\n",
       "      <td>True</td>\n",
       "      <td>At the heart of this extraordinary movie is a ...</td>\n",
       "      <td>8</td>\n",
       "      <td>Great story, wondrously told and acted</td>\n",
       "      <td>Chronicles the experiences of a formerly succe...</td>\n",
       "      <td>2h 22min</td>\n",
       "      <td>[Crime, Drama]</td>\n",
       "      <td>9.3</td>\n",
       "      <td>1994-10-14</td>\n",
       "      <td>In 1947, Andy Dufresne (Tim Robbins), a banker...</td>\n",
       "      <td>829</td>\n",
       "      <td>heart extraordinary movie brilliant indelible ...</td>\n",
       "    </tr>\n",
       "  </tbody>\n",
       "</table>\n",
       "</div>"
      ],
      "text/plain": [
       "        review_date   movie_id    user_id  is_spoiler  \\\n",
       "0  10 February 2006  tt0111161  ur1898687        True   \n",
       "1  6 September 2000  tt0111161  ur0842118        True   \n",
       "2     3 August 2001  tt0111161  ur1285640        True   \n",
       "3  1 September 2002  tt0111161  ur1003471        True   \n",
       "4       20 May 2004  tt0111161  ur0226855        True   \n",
       "\n",
       "                                         review_text  rating_x  \\\n",
       "0  In its Oscar year, Shawshank Redemption (writt...        10   \n",
       "1  The Shawshank Redemption is without a doubt on...        10   \n",
       "2  I believe that this film is the best story eve...         8   \n",
       "3  **Yes, there are SPOILERS here**This film has ...        10   \n",
       "4  At the heart of this extraordinary movie is a ...         8   \n",
       "\n",
       "                                  review_summary  \\\n",
       "0  A classic piece of unforgettable film-making.   \n",
       "1     Simply amazing. The best film of the 90's.   \n",
       "2               The best story ever told on film   \n",
       "3                     Busy dying or busy living?   \n",
       "4         Great story, wondrously told and acted   \n",
       "\n",
       "                                        plot_summary  duration  \\\n",
       "0  Chronicles the experiences of a formerly succe...  2h 22min   \n",
       "1  Chronicles the experiences of a formerly succe...  2h 22min   \n",
       "2  Chronicles the experiences of a formerly succe...  2h 22min   \n",
       "3  Chronicles the experiences of a formerly succe...  2h 22min   \n",
       "4  Chronicles the experiences of a formerly succe...  2h 22min   \n",
       "\n",
       "            genre  rating_y release_date  \\\n",
       "0  [Crime, Drama]       9.3   1994-10-14   \n",
       "1  [Crime, Drama]       9.3   1994-10-14   \n",
       "2  [Crime, Drama]       9.3   1994-10-14   \n",
       "3  [Crime, Drama]       9.3   1994-10-14   \n",
       "4  [Crime, Drama]       9.3   1994-10-14   \n",
       "\n",
       "                                       plot_synopsis  word_count  \\\n",
       "0  In 1947, Andy Dufresne (Tim Robbins), a banker...         843   \n",
       "1  In 1947, Andy Dufresne (Tim Robbins), a banker...         223   \n",
       "2  In 1947, Andy Dufresne (Tim Robbins), a banker...         250   \n",
       "3  In 1947, Andy Dufresne (Tim Robbins), a banker...         741   \n",
       "4  In 1947, Andy Dufresne (Tim Robbins), a banker...         829   \n",
       "\n",
       "                                 cleaned_review_text  \n",
       "0  Oscar year, Shawshank Redemption (written dire...  \n",
       "1  Shawshank Redemption without doubt one brillia...  \n",
       "2  believe film best story ever told film, tell w...  \n",
       "3  **Yes, SPOILERS here**This film emotional impa...  \n",
       "4  heart extraordinary movie brilliant indelible ...  "
      ]
     },
     "execution_count": 21,
     "metadata": {},
     "output_type": "execute_result"
    }
   ],
   "source": [
    "# Remove stopwords\n",
    "import nltk\n",
    "from nltk.corpus import stopwords\n",
    "from wordcloud import WordCloud\n",
    "\n",
    "#download stopwords\n",
    "nltk.download('stopwords')\n",
    "\n",
    "#get english stopwords\n",
    "stop_words = set(stopwords.words('english'))\n",
    "\n",
    "def remove_stopwords(text):\n",
    "  if isinstance(text, str):\n",
    "    words = text.split()\n",
    "    filtered_words = [word for word in words if word.lower() not in stop_words]\n",
    "    return ' '.join(filtered_words)\n",
    "  return text  \n",
    "\n",
    "\n",
    "#Apply the function to reviews\n",
    "data['cleaned_review_text'] = data['review_text'].apply(remove_stopwords)\n",
    "\n",
    "data.head(5)"
   ]
  },
  {
   "cell_type": "code",
   "execution_count": 22,
   "metadata": {
    "execution": {
     "iopub.execute_input": "2025-04-06T02:33:13.693352Z",
     "iopub.status.busy": "2025-04-06T02:33:13.692971Z",
     "iopub.status.idle": "2025-04-06T02:34:21.513570Z",
     "shell.execute_reply": "2025-04-06T02:34:21.512674Z",
     "shell.execute_reply.started": "2025-04-06T02:33:13.693330Z"
    }
   },
   "outputs": [
    {
     "data": {
      "image/png": "[encoded data removed]",
      "text/plain": [
       "<Figure size 1000x500 with 1 Axes>"
      ]
     },
     "metadata": {},
     "output_type": "display_data"
    }
   ],
   "source": [
    "# Display the Wordcloud.\n",
    "\n",
    "# Note that the entire dataset will CRASH the session because it will use up all the RAM.\n",
    "# truncate to prevent this problem and get some idea with a smaller portion of the data.\n",
    "data_truncated=data.head(100000)\n",
    "\n",
    "combined_text = ' '.join(data_truncated['cleaned_review_text'])\n",
    "# Generate the wordcloud\n",
    "wordcloud = WordCloud(width=800, height=400, background_color='white').generate(combined_text)\n",
    "# Visualize the wordcloud\n",
    "plt.figure(figsize=(10, 5))\n",
    "plt.imshow(wordcloud, interpolation='bilinear')\n",
    "plt.axis('off')  # Turn off the axis\n",
    "plt.title('Word Cloud from review Text')\n",
    "plt.show()"
   ]
  },
  {
   "cell_type": "markdown",
   "metadata": {},
   "source": [
    "## 4. Calculate Similarity between reviews and plot summary\n",
    "\n",
    "### TFIDF - cosine similarity"
   ]
  },
  {
   "cell_type": "code",
   "execution_count": 23,
   "metadata": {
    "execution": {
     "iopub.execute_input": "2025-04-06T02:34:21.514789Z",
     "iopub.status.busy": "2025-04-06T02:34:21.514476Z",
     "iopub.status.idle": "2025-04-06T02:36:32.855923Z",
     "shell.execute_reply": "2025-04-06T02:36:32.855155Z",
     "shell.execute_reply.started": "2025-04-06T02:34:21.514752Z"
    }
   },
   "outputs": [
    {
     "name": "stderr",
     "output_type": "stream",
     "text": [
      "<ipython-input-23-9dc4811dd7ba>:5: FutureWarning: A value is trying to be set on a copy of a DataFrame or Series through chained assignment using an inplace method.\n",
      "The behavior will change in pandas 3.0. This inplace method will never work because the intermediate object on which we are setting values always behaves as a copy.\n",
      "\n",
      "For example, when doing 'df[col].method(value, inplace=True)', try using 'df.method({col: value}, inplace=True)' or df[col] = df[col].method(value) instead, to perform the operation inplace on the original object.\n",
      "\n",
      "\n",
      "  data['review_text'].fillna('', inplace=True)\n",
      "<ipython-input-23-9dc4811dd7ba>:6: FutureWarning: A value is trying to be set on a copy of a DataFrame or Series through chained assignment using an inplace method.\n",
      "The behavior will change in pandas 3.0. This inplace method will never work because the intermediate object on which we are setting values always behaves as a copy.\n",
      "\n",
      "For example, when doing 'df[col].method(value, inplace=True)', try using 'df.method({col: value}, inplace=True)' or df[col] = df[col].method(value) instead, to perform the operation inplace on the original object.\n",
      "\n",
      "\n",
      "  data['plot_summary'].fillna('', inplace=True)\n"
     ]
    },
    {
     "name": "stdout",
     "output_type": "stream",
     "text": [
      "TF-IDF Similarity matrix revew_text and plot_summary\n",
      "0.39\n"
     ]
    }
   ],
   "source": [
    "from sklearn.feature_extraction.text import TfidfVectorizer\n",
    "from sklearn.metrics.pairwise import cosine_similarity\n",
    "\n",
    "#First, take care of any possible NaN's\n",
    "data['review_text'].fillna('', inplace=True)\n",
    "data['plot_summary'].fillna('', inplace=True)\n",
    "\n",
    "vectorizer = TfidfVectorizer()\n",
    "\n",
    "tfidf_matrix = vectorizer.fit_transform(data['review_text'].tolist() + data['plot_summary'].tolist())\n",
    "similarity = cosine_similarity(tfidf_matrix[0:1], tfidf_matrix[1:2])[0][0]\n",
    "\n",
    "\n",
    "print(\"TF-IDF Similarity matrix revew_text and plot_summary\")\n",
    "print( np.round(similarity,2))\n"
   ]
  },
  {
   "cell_type": "markdown",
   "metadata": {},
   "source": [
    "# TF-IDF Analysis\n",
    "Looks like there is a decent similarity between  the review texts and the plot summary"
   ]
  },
  {
   "cell_type": "code",
   "execution_count": 24,
   "metadata": {
    "execution": {
     "iopub.execute_input": "2025-04-06T02:36:32.856945Z",
     "iopub.status.busy": "2025-04-06T02:36:32.856700Z",
     "iopub.status.idle": "2025-04-06T02:36:32.871931Z",
     "shell.execute_reply": "2025-04-06T02:36:32.871118Z",
     "shell.execute_reply.started": "2025-04-06T02:36:32.856916Z"
    },
    "id": "Kd5SM4WjZluC",
    "outputId": "1badd183-1d4f-47b2-cd5e-55ee5ac2f6ba"
   },
   "outputs": [
    {
     "data": {
      "text/html": [
       "<div>\n",
       "<style scoped>\n",
       "    .dataframe tbody tr th:only-of-type {\n",
       "        vertical-align: middle;\n",
       "    }\n",
       "\n",
       "    .dataframe tbody tr th {\n",
       "        vertical-align: top;\n",
       "    }\n",
       "\n",
       "    .dataframe thead th {\n",
       "        text-align: right;\n",
       "    }\n",
       "</style>\n",
       "<table border=\"1\" class=\"dataframe\">\n",
       "  <thead>\n",
       "    <tr style=\"text-align: right;\">\n",
       "      <th></th>\n",
       "      <th>review_date</th>\n",
       "      <th>movie_id</th>\n",
       "      <th>user_id</th>\n",
       "      <th>is_spoiler</th>\n",
       "      <th>review_text</th>\n",
       "      <th>rating_x</th>\n",
       "      <th>review_summary</th>\n",
       "      <th>plot_summary</th>\n",
       "      <th>duration</th>\n",
       "      <th>genre</th>\n",
       "      <th>rating_y</th>\n",
       "      <th>release_date</th>\n",
       "      <th>plot_synopsis</th>\n",
       "      <th>word_count</th>\n",
       "      <th>cleaned_review_text</th>\n",
       "    </tr>\n",
       "  </thead>\n",
       "  <tbody>\n",
       "    <tr>\n",
       "      <th>0</th>\n",
       "      <td>10 February 2006</td>\n",
       "      <td>tt0111161</td>\n",
       "      <td>ur1898687</td>\n",
       "      <td>True</td>\n",
       "      <td>In its Oscar year, Shawshank Redemption (writt...</td>\n",
       "      <td>10</td>\n",
       "      <td>A classic piece of unforgettable film-making.</td>\n",
       "      <td>Chronicles the experiences of a formerly succe...</td>\n",
       "      <td>2h 22min</td>\n",
       "      <td>[Crime, Drama]</td>\n",
       "      <td>9.3</td>\n",
       "      <td>1994-10-14</td>\n",
       "      <td>In 1947, Andy Dufresne (Tim Robbins), a banker...</td>\n",
       "      <td>843</td>\n",
       "      <td>Oscar year, Shawshank Redemption (written dire...</td>\n",
       "    </tr>\n",
       "    <tr>\n",
       "      <th>1</th>\n",
       "      <td>6 September 2000</td>\n",
       "      <td>tt0111161</td>\n",
       "      <td>ur0842118</td>\n",
       "      <td>True</td>\n",
       "      <td>The Shawshank Redemption is without a doubt on...</td>\n",
       "      <td>10</td>\n",
       "      <td>Simply amazing. The best film of the 90's.</td>\n",
       "      <td>Chronicles the experiences of a formerly succe...</td>\n",
       "      <td>2h 22min</td>\n",
       "      <td>[Crime, Drama]</td>\n",
       "      <td>9.3</td>\n",
       "      <td>1994-10-14</td>\n",
       "      <td>In 1947, Andy Dufresne (Tim Robbins), a banker...</td>\n",
       "      <td>223</td>\n",
       "      <td>Shawshank Redemption without doubt one brillia...</td>\n",
       "    </tr>\n",
       "    <tr>\n",
       "      <th>2</th>\n",
       "      <td>3 August 2001</td>\n",
       "      <td>tt0111161</td>\n",
       "      <td>ur1285640</td>\n",
       "      <td>True</td>\n",
       "      <td>I believe that this film is the best story eve...</td>\n",
       "      <td>8</td>\n",
       "      <td>The best story ever told on film</td>\n",
       "      <td>Chronicles the experiences of a formerly succe...</td>\n",
       "      <td>2h 22min</td>\n",
       "      <td>[Crime, Drama]</td>\n",
       "      <td>9.3</td>\n",
       "      <td>1994-10-14</td>\n",
       "      <td>In 1947, Andy Dufresne (Tim Robbins), a banker...</td>\n",
       "      <td>250</td>\n",
       "      <td>believe film best story ever told film, tell w...</td>\n",
       "    </tr>\n",
       "    <tr>\n",
       "      <th>3</th>\n",
       "      <td>1 September 2002</td>\n",
       "      <td>tt0111161</td>\n",
       "      <td>ur1003471</td>\n",
       "      <td>True</td>\n",
       "      <td>**Yes, there are SPOILERS here**This film has ...</td>\n",
       "      <td>10</td>\n",
       "      <td>Busy dying or busy living?</td>\n",
       "      <td>Chronicles the experiences of a formerly succe...</td>\n",
       "      <td>2h 22min</td>\n",
       "      <td>[Crime, Drama]</td>\n",
       "      <td>9.3</td>\n",
       "      <td>1994-10-14</td>\n",
       "      <td>In 1947, Andy Dufresne (Tim Robbins), a banker...</td>\n",
       "      <td>741</td>\n",
       "      <td>**Yes, SPOILERS here**This film emotional impa...</td>\n",
       "    </tr>\n",
       "    <tr>\n",
       "      <th>4</th>\n",
       "      <td>20 May 2004</td>\n",
       "      <td>tt0111161</td>\n",
       "      <td>ur0226855</td>\n",
       "      <td>True</td>\n",
       "      <td>At the heart of this extraordinary movie is a ...</td>\n",
       "      <td>8</td>\n",
       "      <td>Great story, wondrously told and acted</td>\n",
       "      <td>Chronicles the experiences of a formerly succe...</td>\n",
       "      <td>2h 22min</td>\n",
       "      <td>[Crime, Drama]</td>\n",
       "      <td>9.3</td>\n",
       "      <td>1994-10-14</td>\n",
       "      <td>In 1947, Andy Dufresne (Tim Robbins), a banker...</td>\n",
       "      <td>829</td>\n",
       "      <td>heart extraordinary movie brilliant indelible ...</td>\n",
       "    </tr>\n",
       "  </tbody>\n",
       "</table>\n",
       "</div>"
      ],
      "text/plain": [
       "        review_date   movie_id    user_id  is_spoiler  \\\n",
       "0  10 February 2006  tt0111161  ur1898687        True   \n",
       "1  6 September 2000  tt0111161  ur0842118        True   \n",
       "2     3 August 2001  tt0111161  ur1285640        True   \n",
       "3  1 September 2002  tt0111161  ur1003471        True   \n",
       "4       20 May 2004  tt0111161  ur0226855        True   \n",
       "\n",
       "                                         review_text  rating_x  \\\n",
       "0  In its Oscar year, Shawshank Redemption (writt...        10   \n",
       "1  The Shawshank Redemption is without a doubt on...        10   \n",
       "2  I believe that this film is the best story eve...         8   \n",
       "3  **Yes, there are SPOILERS here**This film has ...        10   \n",
       "4  At the heart of this extraordinary movie is a ...         8   \n",
       "\n",
       "                                  review_summary  \\\n",
       "0  A classic piece of unforgettable film-making.   \n",
       "1     Simply amazing. The best film of the 90's.   \n",
       "2               The best story ever told on film   \n",
       "3                     Busy dying or busy living?   \n",
       "4         Great story, wondrously told and acted   \n",
       "\n",
       "                                        plot_summary  duration  \\\n",
       "0  Chronicles the experiences of a formerly succe...  2h 22min   \n",
       "1  Chronicles the experiences of a formerly succe...  2h 22min   \n",
       "2  Chronicles the experiences of a formerly succe...  2h 22min   \n",
       "3  Chronicles the experiences of a formerly succe...  2h 22min   \n",
       "4  Chronicles the experiences of a formerly succe...  2h 22min   \n",
       "\n",
       "            genre  rating_y release_date  \\\n",
       "0  [Crime, Drama]       9.3   1994-10-14   \n",
       "1  [Crime, Drama]       9.3   1994-10-14   \n",
       "2  [Crime, Drama]       9.3   1994-10-14   \n",
       "3  [Crime, Drama]       9.3   1994-10-14   \n",
       "4  [Crime, Drama]       9.3   1994-10-14   \n",
       "\n",
       "                                       plot_synopsis  word_count  \\\n",
       "0  In 1947, Andy Dufresne (Tim Robbins), a banker...         843   \n",
       "1  In 1947, Andy Dufresne (Tim Robbins), a banker...         223   \n",
       "2  In 1947, Andy Dufresne (Tim Robbins), a banker...         250   \n",
       "3  In 1947, Andy Dufresne (Tim Robbins), a banker...         741   \n",
       "4  In 1947, Andy Dufresne (Tim Robbins), a banker...         829   \n",
       "\n",
       "                                 cleaned_review_text  \n",
       "0  Oscar year, Shawshank Redemption (written dire...  \n",
       "1  Shawshank Redemption without doubt one brillia...  \n",
       "2  believe film best story ever told film, tell w...  \n",
       "3  **Yes, SPOILERS here**This film emotional impa...  \n",
       "4  heart extraordinary movie brilliant indelible ...  "
      ]
     },
     "execution_count": 24,
     "metadata": {},
     "output_type": "execute_result"
    }
   ],
   "source": [
    "data.head(5)"
   ]
  },
  {
   "cell_type": "markdown",
   "metadata": {},
   "source": [
    "# Text Preprocessing\n",
    "Note that I am using BERT which likes to have unprocessed (raw) text. I will not remove any stopwords or do any similar cleaning before passing data into BERT\n"
   ]
  },
  {
   "cell_type": "markdown",
   "metadata": {},
   "source": [
    "## Model Training - Tips and Tricks that I used\n",
    "\n",
    "- I used **smaller subset(s)** of the dataset. I varied from really small sizes for quick feedback when tuning hyperparameters and trying different architectures.\n",
    "- I also used balanced datasets when possible to improve the performance overall for True/False cases.\n",
    "- I tried 3 different approaches. In all the cases, I would use a frozen BERT head (or several heads) followed by a classifier\n",
    "\n",
    "### Model 1\n",
    "Single BERT head , all inputs (reviews,synopsis) concatenated into the single BERT head and then through the classifier. This had really poor results with an accuracy barely over 50%\n",
    "\n",
    "### Model 2\n",
    "Classic Dual tower BERT head with 2 heads for reviews and synopsis. This used 2 separate heads for the 2 inputs which got concatenated before the classifier. The results really improved with an accuracy of 61%\n",
    "\n",
    "\n",
    "### Model 3 (shown in this notebook)\n",
    "Flush with the success of the 2 tower method, I added another one for the plot_summary. I tried different ways of combining these\n",
    "- subtract the plot_summary embeddings from the synopsis and concatenate the result into the reviews then classify\n",
    "- Add the plot_summary embeddings from the synopsis and concatenate the result into the reviews then classify\n",
    "- Directly concatenate all 3 (reviews,synopsis,plot_summary) and then classify\n",
    "All these seemed to have similar performance to Model 2, although there was a slightly better training to validation loss.\n",
    "\n",
    "All of these are explained in excrucuating detail in the attached hyperparameter tuning document\n",
    "\n",
    "I used Kaggle which was a LIFE SAVER. I could not have done the project without it."
   ]
  },
  {
   "cell_type": "markdown",
   "metadata": {
    "id": "1fFo3hKloBOw"
   },
   "source": [
    "### Convert is_spoiler from True/false to 1/0 "
   ]
  },
  {
   "cell_type": "code",
   "execution_count": 26,
   "metadata": {
    "execution": {
     "iopub.execute_input": "2025-04-06T02:36:33.052869Z",
     "iopub.status.busy": "2025-04-06T02:36:33.052681Z",
     "iopub.status.idle": "2025-04-06T02:36:33.057765Z",
     "shell.execute_reply": "2025-04-06T02:36:33.057063Z",
     "shell.execute_reply.started": "2025-04-06T02:36:33.052853Z"
    },
    "id": "zHkazPLNoHnV"
   },
   "outputs": [],
   "source": [
    "data['is_spoiler'] = data['is_spoiler'].astype(int)"
   ]
  },
  {
   "cell_type": "code",
   "execution_count": 27,
   "metadata": {
    "execution": {
     "iopub.execute_input": "2025-04-06T02:36:33.058904Z",
     "iopub.status.busy": "2025-04-06T02:36:33.058629Z",
     "iopub.status.idle": "2025-04-06T02:36:37.503705Z",
     "shell.execute_reply": "2025-04-06T02:36:37.502654Z",
     "shell.execute_reply.started": "2025-04-06T02:36:33.058874Z"
    },
    "id": "II5ZorMw6vMW",
    "outputId": "2fe5504c-9935-436f-de91-8f65312bf23a"
   },
   "outputs": [
    {
     "name": "stdout",
     "output_type": "stream",
     "text": [
      "Requirement already satisfied: transformers in /usr/local/lib/python3.10/dist-packages (4.47.0)\n",
      "Requirement already satisfied: filelock in /usr/local/lib/python3.10/dist-packages (from transformers) (3.17.0)\n",
      "Requirement already satisfied: huggingface-hub<1.0,>=0.24.0 in /usr/local/lib/python3.10/dist-packages (from transformers) (0.29.0)\n",
      "Requirement already satisfied: numpy>=1.17 in /usr/local/lib/python3.10/dist-packages (from transformers) (1.26.4)\n",
      "Requirement already satisfied: packaging>=20.0 in /usr/local/lib/python3.10/dist-packages (from transformers) (24.2)\n",
      "Requirement already satisfied: pyyaml>=5.1 in /usr/local/lib/python3.10/dist-packages (from transformers) (6.0.2)\n",
      "Requirement already satisfied: regex!=2019.12.17 in /usr/local/lib/python3.10/dist-packages (from transformers) (2024.11.6)\n",
      "Requirement already satisfied: requests in /usr/local/lib/python3.10/dist-packages (from transformers) (2.32.3)\n",
      "Requirement already satisfied: tokenizers<0.22,>=0.21 in /usr/local/lib/python3.10/dist-packages (from transformers) (0.21.0)\n",
      "Requirement already satisfied: safetensors>=0.4.1 in /usr/local/lib/python3.10/dist-packages (from transformers) (0.4.5)\n",
      "Requirement already satisfied: tqdm>=4.27 in /usr/local/lib/python3.10/dist-packages (from transformers) (4.67.1)\n",
      "Requirement already satisfied: fsspec>=2023.5.0 in /usr/local/lib/python3.10/dist-packages (from huggingface-hub<1.0,>=0.24.0->transformers) (2024.12.0)\n",
      "Requirement already satisfied: typing-extensions>=3.7.4.3 in /usr/local/lib/python3.10/dist-packages (from huggingface-hub<1.0,>=0.24.0->transformers) (4.12.2)\n",
      "Requirement already satisfied: mkl_fft in /usr/local/lib/python3.10/dist-packages (from numpy>=1.17->transformers) (1.3.8)\n",
      "Requirement already satisfied: mkl_random in /usr/local/lib/python3.10/dist-packages (from numpy>=1.17->transformers) (1.2.4)\n",
      "Requirement already satisfied: mkl_umath in /usr/local/lib/python3.10/dist-packages (from numpy>=1.17->transformers) (0.1.1)\n",
      "Requirement already satisfied: mkl in /usr/local/lib/python3.10/dist-packages (from numpy>=1.17->transformers) (2025.0.1)\n",
      "Requirement already satisfied: tbb4py in /usr/local/lib/python3.10/dist-packages (from numpy>=1.17->transformers) (2022.0.0)\n",
      "Requirement already satisfied: mkl-service in /usr/local/lib/python3.10/dist-packages (from numpy>=1.17->transformers) (2.4.1)\n",
      "Requirement already satisfied: charset-normalizer<4,>=2 in /usr/local/lib/python3.10/dist-packages (from requests->transformers) (3.4.1)\n",
      "Requirement already satisfied: idna<4,>=2.5 in /usr/local/lib/python3.10/dist-packages (from requests->transformers) (3.10)\n",
      "Requirement already satisfied: urllib3<3,>=1.21.1 in /usr/local/lib/python3.10/dist-packages (from requests->transformers) (2.3.0)\n",
      "Requirement already satisfied: certifi>=2017.4.17 in /usr/local/lib/python3.10/dist-packages (from requests->transformers) (2025.1.31)\n",
      "Requirement already satisfied: intel-openmp>=2024 in /usr/local/lib/python3.10/dist-packages (from mkl->numpy>=1.17->transformers) (2024.2.0)\n",
      "Requirement already satisfied: tbb==2022.* in /usr/local/lib/python3.10/dist-packages (from mkl->numpy>=1.17->transformers) (2022.0.0)\n",
      "Requirement already satisfied: tcmlib==1.* in /usr/local/lib/python3.10/dist-packages (from tbb==2022.*->mkl->numpy>=1.17->transformers) (1.2.0)\n",
      "Requirement already satisfied: intel-cmplr-lib-rt in /usr/local/lib/python3.10/dist-packages (from mkl_umath->numpy>=1.17->transformers) (2024.2.0)\n",
      "Requirement already satisfied: intel-cmplr-lib-ur==2024.2.0 in /usr/local/lib/python3.10/dist-packages (from intel-openmp>=2024->mkl->numpy>=1.17->transformers) (2024.2.0)\n"
     ]
    }
   ],
   "source": [
    "!pip install transformers"
   ]
  },
  {
   "cell_type": "code",
   "execution_count": 28,
   "metadata": {
    "execution": {
     "iopub.execute_input": "2025-04-06T02:36:37.504992Z",
     "iopub.status.busy": "2025-04-06T02:36:37.504746Z",
     "iopub.status.idle": "2025-04-06T02:36:58.542822Z",
     "shell.execute_reply": "2025-04-06T02:36:58.542146Z",
     "shell.execute_reply.started": "2025-04-06T02:36:37.504970Z"
    },
    "id": "Nz9Z8kWf9Y68"
   },
   "outputs": [],
   "source": [
    "import os\n",
    "import torch\n",
    "from torch import nn\n",
    "from torch.utils.data import DataLoader, Dataset\n",
    "#from transformers import BertTokenizer, BertModel, AdamW, get_linear_schedule_with_warmup\n",
    "from transformers import BertTokenizer, BertModel, get_linear_schedule_with_warmup\n",
    "from sklearn.model_selection import train_test_split\n",
    "from sklearn.metrics import accuracy_score, classification_report"
   ]
  },
  {
   "cell_type": "markdown",
   "metadata": {
    "id": "MY_F-lU19wpz"
   },
   "source": [
    "### Create the Dataset class  "
   ]
  },
  {
   "cell_type": "code",
   "execution_count": 29,
   "metadata": {
    "execution": {
     "iopub.execute_input": "2025-04-06T02:36:58.544021Z",
     "iopub.status.busy": "2025-04-06T02:36:58.543509Z",
     "iopub.status.idle": "2025-04-06T02:36:58.550820Z",
     "shell.execute_reply": "2025-04-06T02:36:58.549815Z",
     "shell.execute_reply.started": "2025-04-06T02:36:58.543997Z"
    },
    "id": "95Occy8--laz"
   },
   "outputs": [],
   "source": [
    "class SpoilerDataset(Dataset):\n",
    "    #def __init__(self, texts,labels, tokenizer, max_length):\n",
    "    def __init__(self, df_texts, df_labels, tokenizer, max_length):\n",
    "      self.dataframe = df_texts\n",
    "      self.reviews = df_texts['review_text'].reset_index(drop=True)\n",
    "      self.synopsis = df_texts['plot_synopsis'].reset_index(drop=True)\n",
    "      self.plot_summary = df_texts['plot_summary'].reset_index(drop=True)\n",
    "      self.labels = df_labels.reset_index(drop=True)\n",
    "      self.tokenizer = tokenizer\n",
    "      self.max_length = max_length\n",
    "\n",
    "    def __len__(self):\n",
    "      return len(self.dataframe)\n",
    "\n",
    "    def __getitem__(self, idx):\n",
    "        reviews = self.reviews[idx]# Access using the reset index\n",
    "        synopsis = self.synopsis[idx]# Access using the reset index\n",
    "        plot_summary = self.plot_summary[idx]# Access using the reset index\n",
    "        label = self.labels[idx]# Access using the reset index\n",
    "        reviews_encoding = self.tokenizer(reviews, return_tensors='pt', max_length=self.max_length, padding='max_length', truncation=True)\n",
    "        synopsis_encoding = self.tokenizer(synopsis, return_tensors='pt', max_length=self.max_length, padding='max_length', truncation=True)\n",
    "        plot_summary_encoding = self.tokenizer(plot_summary, return_tensors='pt', max_length=self.max_length, padding='max_length', truncation=True)\n",
    "        return {\n",
    "            'reviews_input_ids': reviews_encoding['input_ids'].flatten(),\n",
    "            'reviews_attention_mask': reviews_encoding['attention_mask'].flatten(),\n",
    "            'synopsis_input_ids': synopsis_encoding['input_ids'].flatten(),\n",
    "            'synopsis_attention_mask': synopsis_encoding['attention_mask'].flatten(),\n",
    "            'plot_summary_input_ids': plot_summary_encoding['input_ids'].flatten(),\n",
    "            'plot_summary_attention_mask': plot_summary_encoding['attention_mask'].flatten(),\n",
    "            'label': torch.tensor(label, dtype=torch.long)\n",
    "        }\n"
   ]
  },
  {
   "cell_type": "markdown",
   "metadata": {
    "id": "weWE7wlP-7dT"
   },
   "source": [
    "### Create the Classifier\n",
    "The classifier has the default pretrained 'bert-base-uncased' model\n",
    "On top of that, we add a fully connected layer with dropout to perform our classification.\n",
    "\n",
    "We will also freeze all the BERT layers and only perform training on the Linear output layer."
   ]
  },
  {
   "cell_type": "code",
   "execution_count": 30,
   "metadata": {
    "execution": {
     "iopub.execute_input": "2025-04-06T02:36:58.551953Z",
     "iopub.status.busy": "2025-04-06T02:36:58.551671Z",
     "iopub.status.idle": "2025-04-06T02:36:58.575586Z",
     "shell.execute_reply": "2025-04-06T02:36:58.574746Z",
     "shell.execute_reply.started": "2025-04-06T02:36:58.551933Z"
    },
    "id": "a4tCykW6_Bk8"
   },
   "outputs": [],
   "source": [
    "class SpoilerClassifier(nn.Module):\n",
    "  def __init__(self) -> None:\n",
    "     super(SpoilerClassifier, self).__init__()\n",
    "\n",
    "     #reviews\n",
    "     self.reviews_bert= BertModel.from_pretrained('bert-base-uncased')\n",
    "     #FREEZE all reviews bert layers\n",
    "     for param in self.reviews_bert.parameters():\n",
    "       param.requires_grad = False\n",
    "\n",
    "     #synopsis\n",
    "     self.synopsis_bert= BertModel.from_pretrained('bert-base-uncased')\n",
    "     #FREEZE all reviews bert layers\n",
    "     for param in self.synopsis_bert.parameters():\n",
    "       param.requires_grad = False\n",
    "\n",
    "     #plot_summary\n",
    "     self.plot_summary_bert = BertModel.from_pretrained('bert-base-uncased')\n",
    "     for param in self.plot_summary_bert.parameters():\n",
    "       param.requires_grad = False\n",
    "\n",
    "     # Add dropout to reduce overfit\n",
    "     self.dropout = nn.Dropout(0.1)\n",
    "     # Add fully connected layers for fine-tuning\n",
    "     self.fc1 = nn.Linear(2304, 768) # concat review, summary and synopsis (note 2304 = 3*bert.config.hidden_size)\n",
    "     self.fc2 = nn.Linear(768, 384)\n",
    "     self.fc3 = nn.Linear(384, 128)\n",
    "     self.fc4 = nn.Linear(128,128)\n",
    "     self.fc5 = nn.Linear(128, 2)\n",
    "\n",
    "\n",
    "  def forward(self, reviews_input_ids, synopsis_input_ids, reviews_attention_mask, synopsis_attention_mask, plot_summary_input_ids, plot_summary_attention_mask):\n",
    "     # Pass the input through the BERT model\n",
    "\n",
    "      outputs_reviews = self.reviews_bert(input_ids=reviews_input_ids, attention_mask=reviews_attention_mask)\n",
    "      outputs_synopsis = self.synopsis_bert(input_ids=synopsis_input_ids, attention_mask=synopsis_attention_mask)\n",
    "      outputs_plot_summary = self.plot_summary_bert(input_ids=plot_summary_input_ids, attention_mask=plot_summary_attention_mask)\n",
    "\n",
    "      pool_output_reviews = outputs_reviews.pooler_output\n",
    "      pool_output_synopsis = outputs_synopsis.pooler_output\n",
    "      pool_output_plot_summary = outputs_plot_summary.pooler_output\n",
    "\n",
    "\n",
    "      #Combine plot_summary and synopsis first. I tried several methods with pretty similar performance\n",
    "      \n",
    "      # try the direct difference first\n",
    "      #pool_output_spoilers = pool_output_plot_summary - pool_output_synopsis # Straight difference between summary and synopsis\n",
    "\n",
    "      # try addition  \n",
    "      #pool_output_spoilers = pool_output_plot_summary + pool_output_synopsis # Straight addition between summary and synopsis\n",
    "\n",
    "      # try concatenation\n",
    "      pool_output_spoilers = torch.cat((pool_output_plot_summary , pool_output_synopsis ),dim=1)   # concatenation between summary and synopsis\n",
    "      \n",
    "\n",
    "      #combine the spoilers and the reviews\n",
    "      # Reasoning: at this point you have the embedding for the spoilers (pool_output_spoilers) and the review embeddings, so combining these gives the highest probability of\n",
    "      # identifying spoilers when passed through the Fully connected NN\n",
    "      pool_output = torch.cat((pool_output_reviews, pool_output_spoilers), dim=1)\n",
    "\n",
    "\n",
    "      # Apply dropout\n",
    "      drop_output = self.dropout(pool_output)\n",
    "\n",
    "      # Pass the output through the fully connected layer\n",
    "      linear1_output = self.fc1(drop_output)\n",
    "      linear2_output = self.fc2(linear1_output)\n",
    "      linear3_output = self.fc3(linear2_output)\n",
    "      #logits = self.fc3(linear2_output)\n",
    "      linear4_output = self.fc4(linear3_output)\n",
    "      logits=self.fc5(linear4_output)\n",
    "      return logits"
   ]
  },
  {
   "cell_type": "markdown",
   "metadata": {},
   "source": [
    "### Define the train function"
   ]
  },
  {
   "cell_type": "code",
   "execution_count": 31,
   "metadata": {
    "execution": {
     "iopub.execute_input": "2025-04-06T02:36:58.576717Z",
     "iopub.status.busy": "2025-04-06T02:36:58.576420Z",
     "iopub.status.idle": "2025-04-06T02:36:58.592807Z",
     "shell.execute_reply": "2025-04-06T02:36:58.592108Z",
     "shell.execute_reply.started": "2025-04-06T02:36:58.576687Z"
    },
    "id": "zuHnlVgh2H_k"
   },
   "outputs": [],
   "source": [
    "def train(model, dataloader, optimizer, scheduler, device):\n",
    "  model.train()\n",
    "  epoch_train_loss=0\n",
    "  for batch in dataloader:\n",
    "    optimizer.zero_grad()\n",
    "    reviews_input_ids = batch['reviews_input_ids'].to(device)\n",
    "    synopsis_input_ids = batch['synopsis_input_ids'].to(device)\n",
    "    reviews_attention_mask = batch['reviews_attention_mask'].to(device)\n",
    "    synopsis_attention_mask = batch['synopsis_attention_mask'].to(device)\n",
    "    plot_summary_input_ids = batch['plot_summary_input_ids'].to(device)\n",
    "    plot_summary_attention_mask = batch['plot_summary_attention_mask'].to(device)\n",
    "    labels = batch['label'].to(device)\n",
    "    outputs = model(reviews_input_ids, synopsis_input_ids, reviews_attention_mask,synopsis_attention_mask ,plot_summary_input_ids ,plot_summary_attention_mask)\n",
    "    #Classification, so use crossentropy Loss\n",
    "    loss = nn.CrossEntropyLoss()(outputs, labels)\n",
    "    loss.backward()\n",
    "    optimizer.step()\n",
    "    scheduler.step()\n",
    "    epoch_train_loss += loss.item()\n",
    "  avg_train_loss = epoch_train_loss / len(dataloader)\n",
    "  return avg_train_loss,num_epochs\n"
   ]
  },
  {
   "cell_type": "markdown",
   "metadata": {
    "id": "rCz8rqmS2cAe"
   },
   "source": [
    "### Build Evaluation method"
   ]
  },
  {
   "cell_type": "code",
   "execution_count": 32,
   "metadata": {
    "execution": {
     "iopub.execute_input": "2025-04-06T02:36:58.593805Z",
     "iopub.status.busy": "2025-04-06T02:36:58.593513Z",
     "iopub.status.idle": "2025-04-06T02:36:58.613490Z",
     "shell.execute_reply": "2025-04-06T02:36:58.612848Z",
     "shell.execute_reply.started": "2025-04-06T02:36:58.593776Z"
    },
    "id": "szkF975B4RWi"
   },
   "outputs": [],
   "source": [
    "from sklearn.metrics import confusion_matrix, ConfusionMatrixDisplay\n",
    "def evaluate(model, data_loader, device):\n",
    "  model.eval()\n",
    "  predictions = []\n",
    "  true_labels = []\n",
    "  epoch_eval_loss=0\n",
    "   # Initialize the loss function\n",
    "  loss_fn = nn.CrossEntropyLoss()\n",
    "  with torch.no_grad():\n",
    "    for batch in data_loader:\n",
    "      reviews_input_ids = batch['reviews_input_ids'].to(device)\n",
    "      synopsis_input_ids = batch['synopsis_input_ids'].to(device)\n",
    "      reviews_attention_mask = batch['reviews_attention_mask'].to(device)\n",
    "      synopsis_attention_mask = batch['synopsis_attention_mask'].to(device)\n",
    "      plot_summary_input_ids = batch['plot_summary_input_ids'].to(device)\n",
    "      plot_summary_attention_mask = batch['plot_summary_attention_mask'].to(device)\n",
    "      labels = batch['label'].to(device)\n",
    "      #outputs = model(input_ids, attention_mask=attention_mask)\n",
    "      outputs = model(reviews_input_ids, synopsis_input_ids, reviews_attention_mask, synopsis_attention_mask, plot_summary_input_ids, plot_summary_attention_mask)\n",
    "      _, preds = torch.max(outputs, dim=1)\n",
    "      predictions.extend(preds.cpu().numpy())\n",
    "      true_labels.extend(labels.cpu().numpy())\n",
    "      # Calculate the loss explicitly\n",
    "      loss = loss_fn(outputs, labels)\n",
    "      epoch_eval_loss += loss.item()\n",
    "  avg_eval_loss = epoch_eval_loss / len(data_loader)\n",
    "  return accuracy_score(true_labels, predictions), classification_report(true_labels, predictions), avg_eval_loss, confusion_matrix(true_labels, predictions)"
   ]
  },
  {
   "cell_type": "markdown",
   "metadata": {
    "id": "WOVd3Xe78tJf"
   },
   "source": [
    "### Set up parameters"
   ]
  },
  {
   "cell_type": "code",
   "execution_count": 33,
   "metadata": {
    "execution": {
     "iopub.execute_input": "2025-04-06T02:36:58.614633Z",
     "iopub.status.busy": "2025-04-06T02:36:58.614331Z",
     "iopub.status.idle": "2025-04-06T02:36:58.631296Z",
     "shell.execute_reply": "2025-04-06T02:36:58.630720Z",
     "shell.execute_reply.started": "2025-04-06T02:36:58.614605Z"
    },
    "id": "QLPUtJGu815_"
   },
   "outputs": [],
   "source": [
    "# Parameters\n",
    "bert_model_name = 'bert-base-uncased'\n",
    "num_classes = 2\n",
    "max_length = 128\n",
    "batch_size = 16\n",
    "num_epochs = 4\n",
    "learning_rate = 5e-4"
   ]
  },
  {
   "cell_type": "markdown",
   "metadata": {},
   "source": [
    "# Hyperparameter tuning\n",
    "I went through alot of tests when selecting the hyperparameters above and in the rest of the notebook. The documentaton is extensive and is in the attached Build notes document."
   ]
  },
  {
   "cell_type": "markdown",
   "metadata": {
    "id": "XEYDd5HB9Z5M"
   },
   "source": [
    "## Load and split data\n",
    "* First use a smaller dataset\n",
    "* Then BALANCE the dataset\n",
    "* Then test/train split"
   ]
  },
  {
   "cell_type": "code",
   "execution_count": 34,
   "metadata": {
    "execution": {
     "iopub.execute_input": "2025-04-06T02:36:58.632319Z",
     "iopub.status.busy": "2025-04-06T02:36:58.632058Z",
     "iopub.status.idle": "2025-04-06T02:36:59.884336Z",
     "shell.execute_reply": "2025-04-06T02:36:59.883621Z",
     "shell.execute_reply.started": "2025-04-06T02:36:58.632291Z"
    },
    "id": "WPvR8QHt97Vn",
    "outputId": "a00baaa6-65df-44e1-8fcd-29dd67148195"
   },
   "outputs": [
    {
     "name": "stderr",
     "output_type": "stream",
     "text": [
      "<ipython-input-34-f60b5043a01c>:13: DeprecationWarning: DataFrameGroupBy.apply operated on the grouping columns. This behavior is deprecated, and in a future version of pandas the grouping columns will be excluded from the operation. Either pass `include_groups=False` to exclude the groupings or explicitly select the grouping columns after groupby to silence this warning.\n",
      "  balanced_sample = (data.groupby('is_spoiler').apply(lambda x: x.sample(min(len(x), sample_size_per_class),random_state=42)).reset_index(drop=True))\n"
     ]
    },
    {
     "data": {
      "image/png": "[encoded data removed]",
      "text/plain": [
       "<Figure size 1200x600 with 1 Axes>"
      ]
     },
     "metadata": {},
     "output_type": "display_data"
    },
    {
     "name": "stdout",
     "output_type": "stream",
     "text": [
      "        review_date   movie_id    user_id  is_spoiler  \\\n",
      "0   5 December 2002  tt0120737  ur2072866           0   \n",
      "1      27 July 2000  tt0120903  ur0487663           0   \n",
      "2     10 March 2005  tt0317705  ur4468170           0   \n",
      "3  22 December 2004  tt0212338  ur4436521           0   \n",
      "4  14 November 2008  tt0472062  ur0855231           0   \n",
      "\n",
      "                                         review_text  rating_x  \\\n",
      "0  Nobody expected Tolkien's bestseller to ever b...        10   \n",
      "1  No manner of special effects can make up for a...         4   \n",
      "2  Wow! \"The Incredibles\" packs quite a punch. Ha...        10   \n",
      "3  I loved this movie. This movie introduced me t...        10   \n",
      "4  Charlie Wilson's War might make for a fascinat...         8   \n",
      "\n",
      "                                      review_summary  \\\n",
      "0                                The best film ever!   \n",
      "1                      An insult to my intelligence.   \n",
      "2                                         Increíble!   \n",
      "3                                        funny movie   \n",
      "4  An intriguing and at times powerful film about...   \n",
      "\n",
      "                                        plot_summary  duration  \\\n",
      "0  An ancient Ring thought lost for centuries has...  2h 58min   \n",
      "1  In a world where both Mutants and Humans fear ...  1h 44min   \n",
      "2  Bob Parr (A.K.A. Mr. Incredible), and his wife...  1h 55min   \n",
      "3  A Jewish male nurse plans to ask his live-in g...  1h 48min   \n",
      "4  In the early 1980s, Charlie Wilson is a womani...  1h 42min   \n",
      "\n",
      "                            genre  rating_y release_date  \\\n",
      "0     [Adventure, Drama, Fantasy]       8.8   2001-12-19   \n",
      "1     [Action, Adventure, Sci-Fi]       7.4   2000-07-14   \n",
      "2  [Animation, Action, Adventure]       8.0   2004-11-05   \n",
      "3               [Comedy, Romance]       7.0   2000-10-06   \n",
      "4      [Biography, Comedy, Drama]       7.1   2007-12-21   \n",
      "\n",
      "                                       plot_synopsis  word_count  \\\n",
      "0  The prologue, spoken by Galadriel, shows the D...          42   \n",
      "1  In Congress, Senator Robert Kelly attempts to ...          49   \n",
      "2                                                            160   \n",
      "3                                                            162   \n",
      "4  \"Good-Time Charlie\" Wilson, a flawed and fun-l...         929   \n",
      "\n",
      "                                 cleaned_review_text  \n",
      "0  Nobody expected Tolkien's bestseller ever beco...  \n",
      "1  manner special effects make failed story line ...  \n",
      "2  Wow! \"The Incredibles\" packs quite punch. ever...  \n",
      "3  loved movie. movie introduced Ben Stiller's wo...  \n",
      "4  Charlie Wilson's War might make fascinating fi...  \n"
     ]
    }
   ],
   "source": [
    "# First get a SMALL portion of the dataset to make training possible\n",
    "# I used all these when performing hyperparameter tuning. See attached document\n",
    "#sample_size_per_class = 500  # Number of samples per class\n",
    "#sample_size_per_class = 1000  # Number of samples per class\n",
    "#sample_size_per_class = 5000  # Number of samples per class\n",
    "#sample_size_per_class = 10000  # Number of samples per class\n",
    "#sample_size_per_class = 20000  # Number of samples per class\n",
    "sample_size_per_class = 50000  # Number of samples per class\n",
    "#sample_size_per_class = 70000  # Number of samples per class\n",
    "#sample_size_per_class = 100000  # Number of samples per class\n",
    "\n",
    "# Use a more balanced dataset with 1:1 between true and false. We can do this because we are subsampling\n",
    "balanced_sample = (data.groupby('is_spoiler').apply(lambda x: x.sample(min(len(x), sample_size_per_class),random_state=42)).reset_index(drop=True))\n",
    "\n",
    "# Plot data to REALLY make sure data is balanced\n",
    "plot_value_count(balanced_sample)\n",
    "\n",
    "print(balanced_sample.head(5))\n",
    "\n",
    "#Perform train test split\n",
    "train_texts_df, val_texts_df, train_labels_df, val_labels_df = train_test_split(balanced_sample[['review_text', 'plot_synopsis','plot_summary']], balanced_sample['is_spoiler'], test_size=0.2, random_state=42)"
   ]
  },
  {
   "cell_type": "markdown",
   "metadata": {
    "id": "5RXllRXCuql0"
   },
   "source": [
    "## That is Pretty well balanced now!"
   ]
  },
  {
   "cell_type": "markdown",
   "metadata": {
    "id": "K9z8tEKz-rOH"
   },
   "source": [
    "### Initialize tokenizer Dataset and data loader"
   ]
  },
  {
   "cell_type": "code",
   "execution_count": 35,
   "metadata": {
    "execution": {
     "iopub.execute_input": "2025-04-06T02:36:59.885399Z",
     "iopub.status.busy": "2025-04-06T02:36:59.885159Z",
     "iopub.status.idle": "2025-04-06T02:37:02.311672Z",
     "shell.execute_reply": "2025-04-06T02:37:02.311046Z",
     "shell.execute_reply.started": "2025-04-06T02:36:59.885378Z"
    },
    "id": "m_Hfh8_w-_KV",
    "outputId": "d71da085-a307-4810-b63a-2c2a986e3996"
   },
   "outputs": [
    {
     "data": {
      "application/vnd.jupyter.widget-view+json": {
       "model_id": "2e3566a226d24c9498249e6b794f2c50",
       "version_major": 2,
       "version_minor": 0
      },
      "text/plain": [
       "tokenizer_config.json:   0%|          | 0.00/48.0 [00:00<?, ?B/s]"
      ]
     },
     "metadata": {},
     "output_type": "display_data"
    },
    {
     "data": {
      "application/vnd.jupyter.widget-view+json": {
       "model_id": "a42a5302c039417c980dc2ca2d2b82fa",
       "version_major": 2,
       "version_minor": 0
      },
      "text/plain": [
       "vocab.txt:   0%|          | 0.00/232k [00:00<?, ?B/s]"
      ]
     },
     "metadata": {},
     "output_type": "display_data"
    },
    {
     "data": {
      "application/vnd.jupyter.widget-view+json": {
       "model_id": "b225c0b26687401794474f66c901d448",
       "version_major": 2,
       "version_minor": 0
      },
      "text/plain": [
       "tokenizer.json:   0%|          | 0.00/466k [00:00<?, ?B/s]"
      ]
     },
     "metadata": {},
     "output_type": "display_data"
    },
    {
     "data": {
      "application/vnd.jupyter.widget-view+json": {
       "model_id": "761da9a81a554b208f62a3b33341b364",
       "version_major": 2,
       "version_minor": 0
      },
      "text/plain": [
       "config.json:   0%|          | 0.00/570 [00:00<?, ?B/s]"
      ]
     },
     "metadata": {},
     "output_type": "display_data"
    }
   ],
   "source": [
    "tokenizer = BertTokenizer.from_pretrained(bert_model_name)\n",
    "train_dataset = SpoilerDataset(train_texts_df, train_labels_df, tokenizer, max_length)\n",
    "val_dataset = SpoilerDataset(val_texts_df, val_labels_df, tokenizer, max_length)\n",
    "train_dataloader = DataLoader(train_dataset, batch_size=batch_size, shuffle=True)\n",
    "val_dataloader = DataLoader(val_dataset, batch_size=batch_size)"
   ]
  },
  {
   "cell_type": "markdown",
   "metadata": {},
   "source": [
    "### Device and model"
   ]
  },
  {
   "cell_type": "code",
   "execution_count": 36,
   "metadata": {
    "execution": {
     "iopub.execute_input": "2025-04-06T02:37:02.312691Z",
     "iopub.status.busy": "2025-04-06T02:37:02.312388Z",
     "iopub.status.idle": "2025-04-06T02:37:06.584694Z",
     "shell.execute_reply": "2025-04-06T02:37:06.583983Z",
     "shell.execute_reply.started": "2025-04-06T02:37:02.312661Z"
    },
    "id": "Oyz18qeECFs6",
    "outputId": "7dd352ad-968d-45e2-88c5-9af7827776f0"
   },
   "outputs": [
    {
     "data": {
      "application/vnd.jupyter.widget-view+json": {
       "model_id": "7c5364eb96c94baf9988a6ae50005e83",
       "version_major": 2,
       "version_minor": 0
      },
      "text/plain": [
       "model.safetensors:   0%|          | 0.00/440M [00:00<?, ?B/s]"
      ]
     },
     "metadata": {},
     "output_type": "display_data"
    }
   ],
   "source": [
    "device = torch.device(\"cuda\" if torch.cuda.is_available() else \"cpu\")\n",
    "model = SpoilerClassifier().to(device)"
   ]
  },
  {
   "cell_type": "markdown",
   "metadata": {
    "id": "EyNd0oJ7_BNI"
   },
   "source": [
    "### Optimizer and learning rate"
   ]
  },
  {
   "cell_type": "code",
   "execution_count": 37,
   "metadata": {
    "execution": {
     "iopub.execute_input": "2025-04-06T02:37:06.585716Z",
     "iopub.status.busy": "2025-04-06T02:37:06.585465Z",
     "iopub.status.idle": "2025-04-06T02:37:06.591888Z",
     "shell.execute_reply": "2025-04-06T02:37:06.591033Z",
     "shell.execute_reply.started": "2025-04-06T02:37:06.585695Z"
    },
    "id": "aYibEhkC_HEd",
    "outputId": "f28a17ab-e9c1-4f65-a675-671edf3c966c"
   },
   "outputs": [],
   "source": [
    "# Make SURE the optimizer ONLY updates the parameters that require gradients\n",
    "optimizer= torch.optim.AdamW(filter(lambda p: p.requires_grad, model.parameters()), lr=learning_rate)\n",
    "total_steps = len(train_dataloader) * num_epochs\n",
    "scheduler = get_linear_schedule_with_warmup(optimizer, num_warmup_steps=0, num_training_steps=total_steps)"
   ]
  },
  {
   "cell_type": "markdown",
   "metadata": {},
   "source": [
    "### Training the model"
   ]
  },
  {
   "cell_type": "code",
   "execution_count": 38,
   "metadata": {
    "execution": {
     "iopub.execute_input": "2025-04-06T02:37:06.593097Z",
     "iopub.status.busy": "2025-04-06T02:37:06.592810Z",
     "iopub.status.idle": "2025-04-06T10:22:48.787024Z",
     "shell.execute_reply": "2025-04-06T10:22:48.786180Z",
     "shell.execute_reply.started": "2025-04-06T02:37:06.593068Z"
    },
    "id": "vrGGJAokAeG9",
    "outputId": "aa6620b9-cde9-4ec6-ac49-ef4a9041bdb1"
   },
   "outputs": [
    {
     "name": "stdout",
     "output_type": "stream",
     "text": [
      "Epoch 1/4\n",
      "Training loss: 0.6829\n",
      "Validation loss: 0.6738\n",
      "Validation Accuracy: 0.6015\n",
      "              precision    recall  f1-score   support\n",
      "\n",
      "           0       0.63      0.51      0.56     10035\n",
      "           1       0.58      0.70      0.64      9965\n",
      "\n",
      "    accuracy                           0.60     20000\n",
      "   macro avg       0.61      0.60      0.60     20000\n",
      "weighted avg       0.61      0.60      0.60     20000\n",
      "\n",
      "Epoch 2/4\n",
      "Training loss: 0.6683\n",
      "Validation loss: 0.6569\n",
      "Validation Accuracy: 0.6073\n",
      "              precision    recall  f1-score   support\n",
      "\n",
      "           0       0.61      0.58      0.60     10035\n",
      "           1       0.60      0.63      0.62      9965\n",
      "\n",
      "    accuracy                           0.61     20000\n",
      "   macro avg       0.61      0.61      0.61     20000\n",
      "weighted avg       0.61      0.61      0.61     20000\n",
      "\n",
      "Epoch 3/4\n",
      "Training loss: 0.6626\n",
      "Validation loss: 0.6648\n",
      "Validation Accuracy: 0.5980\n",
      "              precision    recall  f1-score   support\n",
      "\n",
      "           0       0.70      0.35      0.46     10035\n",
      "           1       0.56      0.85      0.68      9965\n",
      "\n",
      "    accuracy                           0.60     20000\n",
      "   macro avg       0.63      0.60      0.57     20000\n",
      "weighted avg       0.63      0.60      0.57     20000\n",
      "\n",
      "Epoch 4/4\n",
      "Training loss: 0.6586\n",
      "Validation loss: 0.6493\n",
      "Validation Accuracy: 0.6182\n",
      "              precision    recall  f1-score   support\n",
      "\n",
      "           0       0.63      0.60      0.61     10035\n",
      "           1       0.61      0.64      0.63      9965\n",
      "\n",
      "    accuracy                           0.62     20000\n",
      "   macro avg       0.62      0.62      0.62     20000\n",
      "weighted avg       0.62      0.62      0.62     20000\n",
      "\n"
     ]
    }
   ],
   "source": [
    "import matplotlib.pyplot as plt\n",
    "\n",
    "#Train the model\n",
    "training_losses=[]\n",
    "validation_losses=[]\n",
    "cm = None # update with the confusion matrix data from the most recent epoch\n",
    "report = None # update with the classification report from the most recent epoch\n",
    "for epoch in range(num_epochs):\n",
    "    print(f\"Epoch {epoch + 1}/{num_epochs}\")\n",
    "    avg_train_loss,num_epochs = train(model, train_dataloader, optimizer, scheduler, device)\n",
    "    training_losses.append(avg_train_loss)\n",
    "    print(f\"Training loss: {avg_train_loss:.4f}\")\n",
    "    accuracy, report, avg_eval_loss,cm = evaluate(model, val_dataloader, device)\n",
    "    validation_losses.append(avg_eval_loss)\n",
    "    print(f\"Validation loss: {avg_eval_loss:.4f}\")\n",
    "    print(f\"Validation Accuracy: {accuracy:.4f}\")\n",
    "    print(report)"
   ]
  },
  {
   "cell_type": "code",
   "execution_count": 39,
   "metadata": {
    "execution": {
     "iopub.execute_input": "2025-04-06T10:22:48.788326Z",
     "iopub.status.busy": "2025-04-06T10:22:48.787863Z",
     "iopub.status.idle": "2025-04-06T10:22:48.792762Z",
     "shell.execute_reply": "2025-04-06T10:22:48.792068Z",
     "shell.execute_reply.started": "2025-04-06T10:22:48.788302Z"
    }
   },
   "outputs": [
    {
     "name": "stdout",
     "output_type": "stream",
     "text": [
      "Final Classification Report:\n",
      "              precision    recall  f1-score   support\n",
      "\n",
      "           0       0.63      0.60      0.61     10035\n",
      "           1       0.61      0.64      0.63      9965\n",
      "\n",
      "    accuracy                           0.62     20000\n",
      "   macro avg       0.62      0.62      0.62     20000\n",
      "weighted avg       0.62      0.62      0.62     20000\n",
      "\n"
     ]
    }
   ],
   "source": [
    "# Final classification report\n",
    "print(\"Final Classification Report:\")\n",
    "print(report)"
   ]
  },
  {
   "cell_type": "code",
   "execution_count": 40,
   "metadata": {
    "execution": {
     "iopub.execute_input": "2025-04-06T10:22:48.797444Z",
     "iopub.status.busy": "2025-04-06T10:22:48.797250Z",
     "iopub.status.idle": "2025-04-06T10:22:49.024497Z",
     "shell.execute_reply": "2025-04-06T10:22:49.023757Z",
     "shell.execute_reply.started": "2025-04-06T10:22:48.797427Z"
    }
   },
   "outputs": [
    {
     "data": {
      "image/png": "[encoded data removed]",
      "text/plain": [
       "<Figure size 640x480 with 2 Axes>"
      ]
     },
     "metadata": {},
     "output_type": "display_data"
    }
   ],
   "source": [
    "# Display the confusion matrix\n",
    "disp = ConfusionMatrixDisplay(confusion_matrix=cm)\n",
    "disp.plot(cmap=plt.cm.Blues)\n",
    "plt.title('Confusion Matrix for the DL Spoiler shield')\n",
    "plt.xlabel('Predicted Label')\n",
    "plt.ylabel('True Label')\n",
    "plt.show()"
   ]
  },
  {
   "cell_type": "code",
   "execution_count": 41,
   "metadata": {
    "execution": {
     "iopub.execute_input": "2025-04-06T10:22:49.025717Z",
     "iopub.status.busy": "2025-04-06T10:22:49.025480Z",
     "iopub.status.idle": "2025-04-06T10:22:49.193019Z",
     "shell.execute_reply": "2025-04-06T10:22:49.192244Z",
     "shell.execute_reply.started": "2025-04-06T10:22:49.025697Z"
    }
   },
   "outputs": [
    {
     "data": {
      "image/png": "[encoded data removed]",
      "text/plain": [
       "<Figure size 640x480 with 2 Axes>"
      ]
     },
     "metadata": {},
     "output_type": "display_data"
    }
   ],
   "source": [
    "cm_normalized = cm.astype('float') / cm.sum(axis=1)[:, np.newaxis]\n",
    "disp_normalized = ConfusionMatrixDisplay(confusion_matrix=cm_normalized)\n",
    "disp_normalized.plot(cmap=plt.cm.Blues)\n",
    "plt.title('Normalized Confusion Matrix for the DL Spoiler shield')\n",
    "plt.xlabel('Predicted Label')\n",
    "plt.ylabel('True Label')\n",
    "plt.show()"
   ]
  },
  {
   "cell_type": "code",
   "execution_count": 42,
   "metadata": {
    "execution": {
     "iopub.execute_input": "2025-04-06T10:22:49.194098Z",
     "iopub.status.busy": "2025-04-06T10:22:49.193803Z",
     "iopub.status.idle": "2025-04-06T10:22:49.516584Z",
     "shell.execute_reply": "2025-04-06T10:22:49.515700Z",
     "shell.execute_reply.started": "2025-04-06T10:22:49.194063Z"
    }
   },
   "outputs": [
    {
     "data": {
      "image/png": "[encoded data removed]",
      "text/plain": [
       "<Figure size 1000x600 with 1 Axes>"
      ]
     },
     "metadata": {},
     "output_type": "display_data"
    }
   ],
   "source": [
    "# Plot the training loss vs validation loss\n",
    "plt.figure(figsize=(10, 6))\n",
    "plt.plot(range(1, num_epochs+1), training_losses, label='Training Loss')\n",
    "plt.plot(range(1, num_epochs+1), validation_losses, label='Validation Loss')\n",
    "plt.xlabel('Epochs')\n",
    "plt.ylabel('Loss')\n",
    "plt.title('Training and Validation Loss')\n",
    "plt.legend()\n",
    "plt.grid(True)\n",
    "plt.savefig('loss_plot.png')\n",
    "plt.show()"
   ]
  },
  {
   "cell_type": "markdown",
   "metadata": {
    "id": "nrJAJL85AxqN"
   },
   "source": [
    "### Save the Final Model"
   ]
  },
  {
   "cell_type": "code",
   "execution_count": 43,
   "metadata": {
    "execution": {
     "iopub.execute_input": "2025-04-06T10:22:49.517830Z",
     "iopub.status.busy": "2025-04-06T10:22:49.517511Z",
     "iopub.status.idle": "2025-04-06T10:22:51.147594Z",
     "shell.execute_reply": "2025-04-06T10:22:51.146858Z",
     "shell.execute_reply.started": "2025-04-06T10:22:49.517806Z"
    },
    "id": "wko6ciH-A1hp"
   },
   "outputs": [
    {
     "data": {
      "text/plain": [
       "'/kaggle/working/DL_mini_spoiler.pth'"
      ]
     },
     "execution_count": 43,
     "metadata": {},
     "output_type": "execute_result"
    }
   ],
   "source": [
    "torch.save(model.state_dict(), \"DL_mini_spoiler.pth\")\n",
    "import shutil\n",
    "shutil.move('DL_mini_spoiler.pth', '/kaggle/working/DL_mini_spoiler.pth') "
   ]
  },
  {
   "cell_type": "markdown",
   "metadata": {},
   "source": [
    "# Result Analysis\n",
    "## 1) Number of samples chosen\n",
    "When developing the model, I moved around with smaller and larger portions of the dataset. I eventually settled on 50000 points each in (1/0) is_spoiler. This seems large enough to cover the model characteristics but be able to run in kaggle\n",
    "\n",
    "## 2) Balancing the dataset\n",
    "This ensured that the precision, recall, accuracy and f1 score are all mostly above 60% for BOTH the T/F (1/0) cases for the is_spoiler. This is very important. I did some initial tests (shown in Build notes doc) which present very uneven performance when the dataset is unbalanced .\n",
    "\n",
    "## 3) Validation loss\n",
    "The model validation loss hasn't bottomed out at 4 epochs. I could have kept going with more epochs but a single run of this notebook burned through 24 of my 30 weekly kaggle hours in one shot.I would need serious compute time to run more epochs.\n",
    "\n",
    "## 4) Performance Metrics\n",
    "I chose precision, recall, accuracy and f1 score as the metrics for this model. They all end up uniformly in the low 60% which is as good as it gets with my approach"
   ]
  },
  {
   "cell_type": "markdown",
   "metadata": {},
   "source": [
    "## Post training evaluation\n",
    "\n",
    "It is a good idea to test the dataset on a completely new set of data with is not the same as was used for training. \n",
    "\n",
    "This is what I do next"
   ]
  },
  {
   "cell_type": "code",
   "execution_count": 44,
   "metadata": {
    "execution": {
     "iopub.execute_input": "2025-04-06T10:22:51.148818Z",
     "iopub.status.busy": "2025-04-06T10:22:51.148470Z",
     "iopub.status.idle": "2025-04-06T10:22:51.393347Z",
     "shell.execute_reply": "2025-04-06T10:22:51.392433Z",
     "shell.execute_reply.started": "2025-04-06T10:22:51.148784Z"
    }
   },
   "outputs": [
    {
     "name": "stderr",
     "output_type": "stream",
     "text": [
      "<ipython-input-44-0909c63aba06>:5: DeprecationWarning: DataFrameGroupBy.apply operated on the grouping columns. This behavior is deprecated, and in a future version of pandas the grouping columns will be excluded from the operation. Either pass `include_groups=False` to exclude the groupings or explicitly select the grouping columns after groupby to silence this warning.\n",
      "  balanced_sample_post_eval = (data.groupby('is_spoiler').apply(lambda x: x.sample(min(len(x), sample_size_per_class),random_state=42)).reset_index(drop=True))\n"
     ]
    }
   ],
   "source": [
    "#load post training dataset. \n",
    "sample_size_per_class = 1000  # Number of samples per class\n",
    "\n",
    "#Use a more balanced dataset with 1:1 between true and false. We can do this because we are subsampling\n",
    "balanced_sample_post_eval = (data.groupby('is_spoiler').apply(lambda x: x.sample(min(len(x), sample_size_per_class),random_state=42)).reset_index(drop=True))\n",
    "\n",
    "post_train_texts_df = balanced_sample_post_eval[['review_text', 'plot_synopsis','plot_summary']]\n",
    "post_train_labels_df = balanced_sample_post_eval['is_spoiler']"
   ]
  },
  {
   "cell_type": "code",
   "execution_count": 45,
   "metadata": {
    "execution": {
     "iopub.execute_input": "2025-04-06T10:22:51.394333Z",
     "iopub.status.busy": "2025-04-06T10:22:51.394125Z",
     "iopub.status.idle": "2025-04-06T10:22:51.625639Z",
     "shell.execute_reply": "2025-04-06T10:22:51.624756Z",
     "shell.execute_reply.started": "2025-04-06T10:22:51.394315Z"
    }
   },
   "outputs": [],
   "source": [
    "#Dataset and data loader\n",
    "tokenizer = BertTokenizer.from_pretrained(bert_model_name)\n",
    "post_train_dataset = SpoilerDataset(post_train_texts_df, post_train_labels_df, tokenizer, max_length)\n",
    "post_train_dataloader = DataLoader(post_train_dataset, batch_size=batch_size)"
   ]
  },
  {
   "cell_type": "code",
   "execution_count": 46,
   "metadata": {
    "execution": {
     "iopub.execute_input": "2025-04-06T10:22:51.626773Z",
     "iopub.status.busy": "2025-04-06T10:22:51.626448Z",
     "iopub.status.idle": "2025-04-06T10:22:54.328502Z",
     "shell.execute_reply": "2025-04-06T10:22:54.327824Z",
     "shell.execute_reply.started": "2025-04-06T10:22:51.626743Z"
    }
   },
   "outputs": [
    {
     "name": "stderr",
     "output_type": "stream",
     "text": [
      "<ipython-input-46-b45d1103f0d7>:4: FutureWarning: You are using `torch.load` with `weights_only=False` (the current default value), which uses the default pickle module implicitly. It is possible to construct malicious pickle data which will execute arbitrary code during unpickling (See https://github.com/pytorch/pytorch/blob/main/SECURITY.md#untrusted-models for more details). In a future release, the default value for `weights_only` will be flipped to `True`. This limits the functions that could be executed during unpickling. Arbitrary objects will no longer be allowed to be loaded via this mode unless they are explicitly allowlisted by the user via `torch.serialization.add_safe_globals`. We recommend you start setting `weights_only=True` for any use case where you don't have full control of the loaded file. Please open an issue on GitHub for any issues related to this experimental feature.\n",
      "  model_post_eval.load_state_dict(torch.load(\"/kaggle/working/DL_mini_spoiler.pth\"))\n"
     ]
    },
    {
     "data": {
      "text/plain": [
       "SpoilerClassifier(\n",
       "  (reviews_bert): BertModel(\n",
       "    (embeddings): BertEmbeddings(\n",
       "      (word_embeddings): Embedding(30522, 768, padding_idx=0)\n",
       "      (position_embeddings): Embedding(512, 768)\n",
       "      (token_type_embeddings): Embedding(2, 768)\n",
       "      (LayerNorm): LayerNorm((768,), eps=1e-12, elementwise_affine=True)\n",
       "      (dropout): Dropout(p=0.1, inplace=False)\n",
       "    )\n",
       "    (encoder): BertEncoder(\n",
       "      (layer): ModuleList(\n",
       "        (0-11): 12 x BertLayer(\n",
       "          (attention): BertAttention(\n",
       "            (self): BertSdpaSelfAttention(\n",
       "              (query): Linear(in_features=768, out_features=768, bias=True)\n",
       "              (key): Linear(in_features=768, out_features=768, bias=True)\n",
       "              (value): Linear(in_features=768, out_features=768, bias=True)\n",
       "              (dropout): Dropout(p=0.1, inplace=False)\n",
       "            )\n",
       "            (output): BertSelfOutput(\n",
       "              (dense): Linear(in_features=768, out_features=768, bias=True)\n",
       "              (LayerNorm): LayerNorm((768,), eps=1e-12, elementwise_affine=True)\n",
       "              (dropout): Dropout(p=0.1, inplace=False)\n",
       "            )\n",
       "          )\n",
       "          (intermediate): BertIntermediate(\n",
       "            (dense): Linear(in_features=768, out_features=3072, bias=True)\n",
       "            (intermediate_act_fn): GELUActivation()\n",
       "          )\n",
       "          (output): BertOutput(\n",
       "            (dense): Linear(in_features=3072, out_features=768, bias=True)\n",
       "            (LayerNorm): LayerNorm((768,), eps=1e-12, elementwise_affine=True)\n",
       "            (dropout): Dropout(p=0.1, inplace=False)\n",
       "          )\n",
       "        )\n",
       "      )\n",
       "    )\n",
       "    (pooler): BertPooler(\n",
       "      (dense): Linear(in_features=768, out_features=768, bias=True)\n",
       "      (activation): Tanh()\n",
       "    )\n",
       "  )\n",
       "  (synopsis_bert): BertModel(\n",
       "    (embeddings): BertEmbeddings(\n",
       "      (word_embeddings): Embedding(30522, 768, padding_idx=0)\n",
       "      (position_embeddings): Embedding(512, 768)\n",
       "      (token_type_embeddings): Embedding(2, 768)\n",
       "      (LayerNorm): LayerNorm((768,), eps=1e-12, elementwise_affine=True)\n",
       "      (dropout): Dropout(p=0.1, inplace=False)\n",
       "    )\n",
       "    (encoder): BertEncoder(\n",
       "      (layer): ModuleList(\n",
       "        (0-11): 12 x BertLayer(\n",
       "          (attention): BertAttention(\n",
       "            (self): BertSdpaSelfAttention(\n",
       "              (query): Linear(in_features=768, out_features=768, bias=True)\n",
       "              (key): Linear(in_features=768, out_features=768, bias=True)\n",
       "              (value): Linear(in_features=768, out_features=768, bias=True)\n",
       "              (dropout): Dropout(p=0.1, inplace=False)\n",
       "            )\n",
       "            (output): BertSelfOutput(\n",
       "              (dense): Linear(in_features=768, out_features=768, bias=True)\n",
       "              (LayerNorm): LayerNorm((768,), eps=1e-12, elementwise_affine=True)\n",
       "              (dropout): Dropout(p=0.1, inplace=False)\n",
       "            )\n",
       "          )\n",
       "          (intermediate): BertIntermediate(\n",
       "            (dense): Linear(in_features=768, out_features=3072, bias=True)\n",
       "            (intermediate_act_fn): GELUActivation()\n",
       "          )\n",
       "          (output): BertOutput(\n",
       "            (dense): Linear(in_features=3072, out_features=768, bias=True)\n",
       "            (LayerNorm): LayerNorm((768,), eps=1e-12, elementwise_affine=True)\n",
       "            (dropout): Dropout(p=0.1, inplace=False)\n",
       "          )\n",
       "        )\n",
       "      )\n",
       "    )\n",
       "    (pooler): BertPooler(\n",
       "      (dense): Linear(in_features=768, out_features=768, bias=True)\n",
       "      (activation): Tanh()\n",
       "    )\n",
       "  )\n",
       "  (plot_summary_bert): BertModel(\n",
       "    (embeddings): BertEmbeddings(\n",
       "      (word_embeddings): Embedding(30522, 768, padding_idx=0)\n",
       "      (position_embeddings): Embedding(512, 768)\n",
       "      (token_type_embeddings): Embedding(2, 768)\n",
       "      (LayerNorm): LayerNorm((768,), eps=1e-12, elementwise_affine=True)\n",
       "      (dropout): Dropout(p=0.1, inplace=False)\n",
       "    )\n",
       "    (encoder): BertEncoder(\n",
       "      (layer): ModuleList(\n",
       "        (0-11): 12 x BertLayer(\n",
       "          (attention): BertAttention(\n",
       "            (self): BertSdpaSelfAttention(\n",
       "              (query): Linear(in_features=768, out_features=768, bias=True)\n",
       "              (key): Linear(in_features=768, out_features=768, bias=True)\n",
       "              (value): Linear(in_features=768, out_features=768, bias=True)\n",
       "              (dropout): Dropout(p=0.1, inplace=False)\n",
       "            )\n",
       "            (output): BertSelfOutput(\n",
       "              (dense): Linear(in_features=768, out_features=768, bias=True)\n",
       "              (LayerNorm): LayerNorm((768,), eps=1e-12, elementwise_affine=True)\n",
       "              (dropout): Dropout(p=0.1, inplace=False)\n",
       "            )\n",
       "          )\n",
       "          (intermediate): BertIntermediate(\n",
       "            (dense): Linear(in_features=768, out_features=3072, bias=True)\n",
       "            (intermediate_act_fn): GELUActivation()\n",
       "          )\n",
       "          (output): BertOutput(\n",
       "            (dense): Linear(in_features=3072, out_features=768, bias=True)\n",
       "            (LayerNorm): LayerNorm((768,), eps=1e-12, elementwise_affine=True)\n",
       "            (dropout): Dropout(p=0.1, inplace=False)\n",
       "          )\n",
       "        )\n",
       "      )\n",
       "    )\n",
       "    (pooler): BertPooler(\n",
       "      (dense): Linear(in_features=768, out_features=768, bias=True)\n",
       "      (activation): Tanh()\n",
       "    )\n",
       "  )\n",
       "  (dropout): Dropout(p=0.1, inplace=False)\n",
       "  (fc1): Linear(in_features=2304, out_features=768, bias=True)\n",
       "  (fc2): Linear(in_features=768, out_features=384, bias=True)\n",
       "  (fc3): Linear(in_features=384, out_features=128, bias=True)\n",
       "  (fc4): Linear(in_features=128, out_features=128, bias=True)\n",
       "  (fc5): Linear(in_features=128, out_features=2, bias=True)\n",
       ")"
      ]
     },
     "execution_count": 46,
     "metadata": {},
     "output_type": "execute_result"
    }
   ],
   "source": [
    "#Device and model\n",
    "device = torch.device(\"cuda\" if torch.cuda.is_available() else \"cpu\")\n",
    "model_post_eval = SpoilerClassifier().to(device)\n",
    "model_post_eval.load_state_dict(torch.load(\"/kaggle/working/DL_mini_spoiler.pth\"))\n",
    "model_post_eval.eval()"
   ]
  },
  {
   "cell_type": "code",
   "execution_count": 47,
   "metadata": {
    "execution": {
     "iopub.execute_input": "2025-04-06T10:22:54.329531Z",
     "iopub.status.busy": "2025-04-06T10:22:54.329284Z",
     "iopub.status.idle": "2025-04-06T10:22:54.333040Z",
     "shell.execute_reply": "2025-04-06T10:22:54.332210Z",
     "shell.execute_reply.started": "2025-04-06T10:22:54.329498Z"
    }
   },
   "outputs": [],
   "source": [
    "total_steps = len(post_train_dataloader) * num_epochs"
   ]
  },
  {
   "cell_type": "code",
   "execution_count": 48,
   "metadata": {
    "execution": {
     "iopub.execute_input": "2025-04-06T10:22:54.333837Z",
     "iopub.status.busy": "2025-04-06T10:22:54.333623Z",
     "iopub.status.idle": "2025-04-06T10:32:05.771482Z",
     "shell.execute_reply": "2025-04-06T10:32:05.770713Z",
     "shell.execute_reply.started": "2025-04-06T10:22:54.333819Z"
    }
   },
   "outputs": [
    {
     "name": "stdout",
     "output_type": "stream",
     "text": [
      "Epoch 1/4\n",
      "Validation loss: 0.6519\n",
      "Validation Accuracy: 0.6170\n",
      "              precision    recall  f1-score   support\n",
      "\n",
      "           0       0.62      0.61      0.61      1000\n",
      "           1       0.61      0.63      0.62      1000\n",
      "\n",
      "    accuracy                           0.62      2000\n",
      "   macro avg       0.62      0.62      0.62      2000\n",
      "weighted avg       0.62      0.62      0.62      2000\n",
      "\n",
      "Epoch 2/4\n",
      "Validation loss: 0.6519\n",
      "Validation Accuracy: 0.6170\n",
      "              precision    recall  f1-score   support\n",
      "\n",
      "           0       0.62      0.61      0.61      1000\n",
      "           1       0.61      0.63      0.62      1000\n",
      "\n",
      "    accuracy                           0.62      2000\n",
      "   macro avg       0.62      0.62      0.62      2000\n",
      "weighted avg       0.62      0.62      0.62      2000\n",
      "\n",
      "Epoch 3/4\n",
      "Validation loss: 0.6519\n",
      "Validation Accuracy: 0.6170\n",
      "              precision    recall  f1-score   support\n",
      "\n",
      "           0       0.62      0.61      0.61      1000\n",
      "           1       0.61      0.63      0.62      1000\n",
      "\n",
      "    accuracy                           0.62      2000\n",
      "   macro avg       0.62      0.62      0.62      2000\n",
      "weighted avg       0.62      0.62      0.62      2000\n",
      "\n",
      "Epoch 4/4\n",
      "Validation loss: 0.6519\n",
      "Validation Accuracy: 0.6170\n",
      "              precision    recall  f1-score   support\n",
      "\n",
      "           0       0.62      0.61      0.61      1000\n",
      "           1       0.61      0.63      0.62      1000\n",
      "\n",
      "    accuracy                           0.62      2000\n",
      "   macro avg       0.62      0.62      0.62      2000\n",
      "weighted avg       0.62      0.62      0.62      2000\n",
      "\n"
     ]
    }
   ],
   "source": [
    "import matplotlib.pyplot as plt\n",
    "\n",
    "#Evaluate the model\n",
    "validation_losses=[]\n",
    "cm = None # update with the confusion matrix data from the most recent epoch\n",
    "report = None # update with the classification report from the most recent epoch\n",
    "for epoch in range(num_epochs):\n",
    "    print(f\"Epoch {epoch + 1}/{num_epochs}\")\n",
    "    accuracy, report, avg_eval_loss,cm = evaluate(model_post_eval, post_train_dataloader, device)\n",
    "    validation_losses.append(avg_eval_loss)\n",
    "    print(f\"Validation loss: {avg_eval_loss:.4f}\")\n",
    "    print(f\"Validation Accuracy: {accuracy:.4f}\")\n",
    "    print(report)"
   ]
  },
  {
   "cell_type": "code",
   "execution_count": 49,
   "metadata": {
    "execution": {
     "iopub.execute_input": "2025-04-06T10:32:05.772568Z",
     "iopub.status.busy": "2025-04-06T10:32:05.772328Z",
     "iopub.status.idle": "2025-04-06T10:32:05.776831Z",
     "shell.execute_reply": "2025-04-06T10:32:05.775988Z",
     "shell.execute_reply.started": "2025-04-06T10:32:05.772548Z"
    }
   },
   "outputs": [
    {
     "name": "stdout",
     "output_type": "stream",
     "text": [
      "Final Post training Classification Report:\n",
      "              precision    recall  f1-score   support\n",
      "\n",
      "           0       0.62      0.61      0.61      1000\n",
      "           1       0.61      0.63      0.62      1000\n",
      "\n",
      "    accuracy                           0.62      2000\n",
      "   macro avg       0.62      0.62      0.62      2000\n",
      "weighted avg       0.62      0.62      0.62      2000\n",
      "\n"
     ]
    }
   ],
   "source": [
    "# Final Post training classification report\n",
    "print(\"Final Post training Classification Report:\")\n",
    "print(report)"
   ]
  },
  {
   "cell_type": "code",
   "execution_count": 50,
   "metadata": {
    "execution": {
     "iopub.execute_input": "2025-04-06T10:32:05.777939Z",
     "iopub.status.busy": "2025-04-06T10:32:05.777712Z",
     "iopub.status.idle": "2025-04-06T10:32:05.958487Z",
     "shell.execute_reply": "2025-04-06T10:32:05.957787Z",
     "shell.execute_reply.started": "2025-04-06T10:32:05.777918Z"
    }
   },
   "outputs": [
    {
     "data": {
      "image/png": "[encoded data removed]",
      "text/plain": [
       "<Figure size 640x480 with 2 Axes>"
      ]
     },
     "metadata": {},
     "output_type": "display_data"
    }
   ],
   "source": [
    "# Display the confusion matrix\n",
    "disp = ConfusionMatrixDisplay(confusion_matrix=cm)\n",
    "disp.plot(cmap=plt.cm.Blues)\n",
    "plt.title('Post training Confusion Matrix for the DL Spoiler shield')\n",
    "plt.xlabel('Predicted Label')\n",
    "plt.ylabel('True Label')\n",
    "plt.show()"
   ]
  },
  {
   "cell_type": "code",
   "execution_count": 51,
   "metadata": {
    "execution": {
     "iopub.execute_input": "2025-04-06T10:32:05.959667Z",
     "iopub.status.busy": "2025-04-06T10:32:05.959353Z",
     "iopub.status.idle": "2025-04-06T10:32:06.136735Z",
     "shell.execute_reply": "2025-04-06T10:32:06.135927Z",
     "shell.execute_reply.started": "2025-04-06T10:32:05.959635Z"
    }
   },
   "outputs": [
    {
     "data": {
      "image/png": "[encoded data removed]",
      "text/plain": [
       "<Figure size 640x480 with 2 Axes>"
      ]
     },
     "metadata": {},
     "output_type": "display_data"
    }
   ],
   "source": [
    "cm_normalized = cm.astype('float') / cm.sum(axis=1)[:, np.newaxis]\n",
    "disp_normalized = ConfusionMatrixDisplay(confusion_matrix=cm_normalized)\n",
    "disp_normalized.plot(cmap=plt.cm.Blues)\n",
    "plt.title('Normalized Confusion Matrix for the DL Spoiler shield')\n",
    "plt.xlabel('Predicted Label')\n",
    "plt.ylabel('True Label')\n",
    "plt.show()"
   ]
  },
  {
   "cell_type": "markdown",
   "metadata": {},
   "source": [
    "## Post training comments\n",
    "The confusion matrix performance is almost identical to the training dataset.\n",
    "The Precision, recall, F1 Score and accuracy are almost identical to the training set. This means that the model is working as expected."
   ]
  },
  {
   "cell_type": "markdown",
   "metadata": {},
   "source": [
    "# Model Evaluation:\n",
    "As described earlier, I used BERT with 3 towers here. One for each head (reviews, synopsis, plot_summary)\n",
    "\n",
    "\n",
    "## Model 1 Evaluation (not presented here)\n",
    "Model 1, the first one that I tried had the reviews and synopsis concatenated onto one large string and fed into a single BERT head followed by a fully connected classifier.\n",
    "\n",
    "The performance was not that great, with precision, recall, f1 score and  accuracy under 60%. So I decided to move onto the 2 tower model\n",
    "\n",
    "Detailed information about my testing for this model is included in my mini project build notes document\n",
    "\n",
    "## Model 2 Evaluation (not presented here)\n",
    "Model 2 was a classic 2 tower with thre reviews and synopsis passed through their own heads. The results of those then got concatenated and passed through the fully connected classifier\n",
    "\n",
    "The performance was consistently around 61% for precision, recall, F1 score and accuracy even for large training samples \n",
    "\n",
    "Detailed information about my testing for this model is included in my mini project build notes document\n",
    "\n",
    "## Model 3 Evaluation (presented here)\n",
    "I decided to add another head which handled the plot_summary, which I thought would give me more context for the model. I call this the 3-tower model.\n",
    "\n",
    "Turns out that it was not much better than the plain 2 tower but probably has some more potential in it.\n",
    "\n",
    "The performance was consistently around 61% for precision, recall, F1 score and accuracy even for large training samples \n"
   ]
  },
  {
   "cell_type": "markdown",
   "metadata": {},
   "source": [
    "## Future work\n",
    "Despite what I think was exhaustive trial with my '3 tower' model, I feel that there is still may be more performance available from adding the plot_summary.\n",
    "\n",
    "I tried the NSP bert model but ran into issues with truncation because the provided text samples are (mostly) over the 512 token limit. If I had more time, I could probably figure this out but ran out of time for this project. \n",
    "\n",
    "Having said that, NSP and NLI (which I did not try) may give better results. Even so, I think above 60% for all precision, recall, F1 score and accuracy is pretty good.\n",
    "\n",
    "### Bottom line\n",
    "Bottom line is that the is_spoiler data is probably noisy. I don't think there is any way to make this perform significantly better without cleaning up the data"
   ]
  }
 ],
 "metadata": {
  "accelerator": "GPU",
  "colab": {
   "gpuType": "T4",
   "provenance": []
  },
  "kaggle": {
   "accelerator": "nvidiaTeslaT4",
   "dataSources": [
    {
     "datasetId": 6735510,
     "sourceId": 10845383,
     "sourceType": "datasetVersion"
    }
   ],
   "dockerImageVersionId": 30919,
   "isGpuEnabled": true,
   "isInternetEnabled": true,
   "language": "python",
   "sourceType": "notebook"
  },
  "kernelspec": {
   "display_name": "Python 3 (ipykernel)",
   "language": "python",
   "name": "python3"
  },
  "language_info": {
   "codemirror_mode": {
    "name": "ipython",
    "version": 3
   },
   "file_extension": ".py",
   "mimetype": "text/x-python",
   "name": "python",
   "nbconvert_exporter": "python",
   "pygments_lexer": "ipython3",
   "version": "3.12.0"
  },
  "widgets": {
   "application/vnd.jupyter.widget-state+json": {
    "0128595171094301a05cbc59bcde36f3": {
     "model_module": "@jupyter-widgets/controls",
     "model_module_version": "1.5.0",
     "model_name": "DescriptionStyleModel",
     "state": {
      "_model_module": "@jupyter-widgets/controls",
      "_model_module_version": "1.5.0",
      "_model_name": "DescriptionStyleModel",
      "_view_count": null,
      "_view_module": "@jupyter-widgets/base",
      "_view_module_version": "1.2.0",
      "_view_name": "StyleView",
      "description_width": ""
     }
    },
    "077fdc664d484659a813f2170ea2d612": {
     "model_module": "@jupyter-widgets/base",
     "model_module_version": "1.2.0",
     "model_name": "LayoutModel",
     "state": {
      "_model_module": "@jupyter-widgets/base",
      "_model_module_version": "1.2.0",
      "_model_name": "LayoutModel",
      "_view_count": null,
      "_view_module": "@jupyter-widgets/base",
      "_view_module_version": "1.2.0",
      "_view_name": "LayoutView",
      "align_content": null,
      "align_items": null,
      "align_self": null,
      "border": null,
      "bottom": null,
      "display": null,
      "flex": null,
      "flex_flow": null,
      "grid_area": null,
      "grid_auto_columns": null,
      "grid_auto_flow": null,
      "grid_auto_rows": null,
      "grid_column": null,
      "grid_gap": null,
      "grid_row": null,
      "grid_template_areas": null,
      "grid_template_columns": null,
      "grid_template_rows": null,
      "height": null,
      "justify_content": null,
      "justify_items": null,
      "left": null,
      "margin": null,
      "max_height": null,
      "max_width": null,
      "min_height": null,
      "min_width": null,
      "object_fit": null,
      "object_position": null,
      "order": null,
      "overflow": null,
      "overflow_x": null,
      "overflow_y": null,
      "padding": null,
      "right": null,
      "top": null,
      "visibility": null,
      "width": null
     }
    },
    "12c40110d3484d6fac0ce4c043340237": {
     "model_module": "@jupyter-widgets/base",
     "model_module_version": "1.2.0",
     "model_name": "LayoutModel",
     "state": {
      "_model_module": "@jupyter-widgets/base",
      "_model_module_version": "1.2.0",
      "_model_name": "LayoutModel",
      "_view_count": null,
      "_view_module": "@jupyter-widgets/base",
      "_view_module_version": "1.2.0",
      "_view_name": "LayoutView",
      "align_content": null,
      "align_items": null,
      "align_self": null,
      "border": null,
      "bottom": null,
      "display": null,
      "flex": null,
      "flex_flow": null,
      "grid_area": null,
      "grid_auto_columns": null,
      "grid_auto_flow": null,
      "grid_auto_rows": null,
      "grid_column": null,
      "grid_gap": null,
      "grid_row": null,
      "grid_template_areas": null,
      "grid_template_columns": null,
      "grid_template_rows": null,
      "height": null,
      "justify_content": null,
      "justify_items": null,
      "left": null,
      "margin": null,
      "max_height": null,
      "max_width": null,
      "min_height": null,
      "min_width": null,
      "object_fit": null,
      "object_position": null,
      "order": null,
      "overflow": null,
      "overflow_x": null,
      "overflow_y": null,
      "padding": null,
      "right": null,
      "top": null,
      "visibility": null,
      "width": null
     }
    },
    "140eec91aeaa4bcf87e6acadac9a0ebc": {
     "model_module": "@jupyter-widgets/base",
     "model_module_version": "1.2.0",
     "model_name": "LayoutModel",
     "state": {
      "_model_module": "@jupyter-widgets/base",
      "_model_module_version": "1.2.0",
      "_model_name": "LayoutModel",
      "_view_count": null,
      "_view_module": "@jupyter-widgets/base",
      "_view_module_version": "1.2.0",
      "_view_name": "LayoutView",
      "align_content": null,
      "align_items": null,
      "align_self": null,
      "border": null,
      "bottom": null,
      "display": null,
      "flex": null,
      "flex_flow": null,
      "grid_area": null,
      "grid_auto_columns": null,
      "grid_auto_flow": null,
      "grid_auto_rows": null,
      "grid_column": null,
      "grid_gap": null,
      "grid_row": null,
      "grid_template_areas": null,
      "grid_template_columns": null,
      "grid_template_rows": null,
      "height": null,
      "justify_content": null,
      "justify_items": null,
      "left": null,
      "margin": null,
      "max_height": null,
      "max_width": null,
      "min_height": null,
      "min_width": null,
      "object_fit": null,
      "object_position": null,
      "order": null,
      "overflow": null,
      "overflow_x": null,
      "overflow_y": null,
      "padding": null,
      "right": null,
      "top": null,
      "visibility": null,
      "width": null
     }
    },
    "19e4c0eb4cc8454fbf350a0a99b052ac": {
     "model_module": "@jupyter-widgets/controls",
     "model_module_version": "1.5.0",
     "model_name": "HBoxModel",
     "state": {
      "_dom_classes": [],
      "_model_module": "@jupyter-widgets/controls",
      "_model_module_version": "1.5.0",
      "_model_name": "HBoxModel",
      "_view_count": null,
      "_view_module": "@jupyter-widgets/controls",
      "_view_module_version": "1.5.0",
      "_view_name": "HBoxView",
      "box_style": "",
      "children": [
       "IPY_MODEL_1d76bb6169804545bef34f89e5bb717c",
       "IPY_MODEL_53c9a5a27fbc4838bab11106679b2f84",
       "IPY_MODEL_c97374ad43aa46f9ba649b7b87573555"
      ],
      "layout": "IPY_MODEL_f1fd783b018b427c94de3f6ae26cc30c"
     }
    },
    "1b18e31991c64efab01e0ebf499bf5cc": {
     "model_module": "@jupyter-widgets/base",
     "model_module_version": "1.2.0",
     "model_name": "LayoutModel",
     "state": {
      "_model_module": "@jupyter-widgets/base",
      "_model_module_version": "1.2.0",
      "_model_name": "LayoutModel",
      "_view_count": null,
      "_view_module": "@jupyter-widgets/base",
      "_view_module_version": "1.2.0",
      "_view_name": "LayoutView",
      "align_content": null,
      "align_items": null,
      "align_self": null,
      "border": null,
      "bottom": null,
      "display": null,
      "flex": null,
      "flex_flow": null,
      "grid_area": null,
      "grid_auto_columns": null,
      "grid_auto_flow": null,
      "grid_auto_rows": null,
      "grid_column": null,
      "grid_gap": null,
      "grid_row": null,
      "grid_template_areas": null,
      "grid_template_columns": null,
      "grid_template_rows": null,
      "height": null,
      "justify_content": null,
      "justify_items": null,
      "left": null,
      "margin": null,
      "max_height": null,
      "max_width": null,
      "min_height": null,
      "min_width": null,
      "object_fit": null,
      "object_position": null,
      "order": null,
      "overflow": null,
      "overflow_x": null,
      "overflow_y": null,
      "padding": null,
      "right": null,
      "top": null,
      "visibility": null,
      "width": null
     }
    },
    "1d76bb6169804545bef34f89e5bb717c": {
     "model_module": "@jupyter-widgets/controls",
     "model_module_version": "1.5.0",
     "model_name": "HTMLModel",
     "state": {
      "_dom_classes": [],
      "_model_module": "@jupyter-widgets/controls",
      "_model_module_version": "1.5.0",
      "_model_name": "HTMLModel",
      "_view_count": null,
      "_view_module": "@jupyter-widgets/controls",
      "_view_module_version": "1.5.0",
      "_view_name": "HTMLView",
      "description": "",
      "description_tooltip": null,
      "layout": "IPY_MODEL_077fdc664d484659a813f2170ea2d612",
      "placeholder": "​",
      "style": "IPY_MODEL_ca146a66414a47a48f6183559b0fab11",
      "value": "tokenizer.json: 100%"
     }
    },
    "22d330d769f94b0aa2b4d918b856c3c3": {
     "model_module": "@jupyter-widgets/base",
     "model_module_version": "1.2.0",
     "model_name": "LayoutModel",
     "state": {
      "_model_module": "@jupyter-widgets/base",
      "_model_module_version": "1.2.0",
      "_model_name": "LayoutModel",
      "_view_count": null,
      "_view_module": "@jupyter-widgets/base",
      "_view_module_version": "1.2.0",
      "_view_name": "LayoutView",
      "align_content": null,
      "align_items": null,
      "align_self": null,
      "border": null,
      "bottom": null,
      "display": null,
      "flex": null,
      "flex_flow": null,
      "grid_area": null,
      "grid_auto_columns": null,
      "grid_auto_flow": null,
      "grid_auto_rows": null,
      "grid_column": null,
      "grid_gap": null,
      "grid_row": null,
      "grid_template_areas": null,
      "grid_template_columns": null,
      "grid_template_rows": null,
      "height": null,
      "justify_content": null,
      "justify_items": null,
      "left": null,
      "margin": null,
      "max_height": null,
      "max_width": null,
      "min_height": null,
      "min_width": null,
      "object_fit": null,
      "object_position": null,
      "order": null,
      "overflow": null,
      "overflow_x": null,
      "overflow_y": null,
      "padding": null,
      "right": null,
      "top": null,
      "visibility": null,
      "width": null
     }
    },
    "26babbfe32fe4f4abdb429adf9f59d46": {
     "model_module": "@jupyter-widgets/controls",
     "model_module_version": "1.5.0",
     "model_name": "HTMLModel",
     "state": {
      "_dom_classes": [],
      "_model_module": "@jupyter-widgets/controls",
      "_model_module_version": "1.5.0",
      "_model_name": "HTMLModel",
      "_view_count": null,
      "_view_module": "@jupyter-widgets/controls",
      "_view_module_version": "1.5.0",
      "_view_name": "HTMLView",
      "description": "",
      "description_tooltip": null,
      "layout": "IPY_MODEL_b0a9f4a4c71d43dbb357b5a1733b66d1",
      "placeholder": "​",
      "style": "IPY_MODEL_aba66fd454b24e398991c56b21baabd6",
      "value": "config.json: 100%"
     }
    },
    "294567de1f034b85adaede8a7fd3ae9e": {
     "model_module": "@jupyter-widgets/controls",
     "model_module_version": "1.5.0",
     "model_name": "ProgressStyleModel",
     "state": {
      "_model_module": "@jupyter-widgets/controls",
      "_model_module_version": "1.5.0",
      "_model_name": "ProgressStyleModel",
      "_view_count": null,
      "_view_module": "@jupyter-widgets/base",
      "_view_module_version": "1.2.0",
      "_view_name": "StyleView",
      "bar_color": null,
      "description_width": ""
     }
    },
    "38c10090c1cd4cfb953c717f77eb0f88": {
     "model_module": "@jupyter-widgets/controls",
     "model_module_version": "1.5.0",
     "model_name": "DescriptionStyleModel",
     "state": {
      "_model_module": "@jupyter-widgets/controls",
      "_model_module_version": "1.5.0",
      "_model_name": "DescriptionStyleModel",
      "_view_count": null,
      "_view_module": "@jupyter-widgets/base",
      "_view_module_version": "1.2.0",
      "_view_name": "StyleView",
      "description_width": ""
     }
    },
    "3d186fc58a564d0d9319c22fc2468b15": {
     "model_module": "@jupyter-widgets/controls",
     "model_module_version": "1.5.0",
     "model_name": "DescriptionStyleModel",
     "state": {
      "_model_module": "@jupyter-widgets/controls",
      "_model_module_version": "1.5.0",
      "_model_name": "DescriptionStyleModel",
      "_view_count": null,
      "_view_module": "@jupyter-widgets/base",
      "_view_module_version": "1.2.0",
      "_view_name": "StyleView",
      "description_width": ""
     }
    },
    "49c5e1d729a94909aee6711cbe2d4644": {
     "model_module": "@jupyter-widgets/controls",
     "model_module_version": "1.5.0",
     "model_name": "ProgressStyleModel",
     "state": {
      "_model_module": "@jupyter-widgets/controls",
      "_model_module_version": "1.5.0",
      "_model_name": "ProgressStyleModel",
      "_view_count": null,
      "_view_module": "@jupyter-widgets/base",
      "_view_module_version": "1.2.0",
      "_view_name": "StyleView",
      "bar_color": null,
      "description_width": ""
     }
    },
    "4f86ac23e5e94e99aa9f9b91c5b27eb8": {
     "model_module": "@jupyter-widgets/base",
     "model_module_version": "1.2.0",
     "model_name": "LayoutModel",
     "state": {
      "_model_module": "@jupyter-widgets/base",
      "_model_module_version": "1.2.0",
      "_model_name": "LayoutModel",
      "_view_count": null,
      "_view_module": "@jupyter-widgets/base",
      "_view_module_version": "1.2.0",
      "_view_name": "LayoutView",
      "align_content": null,
      "align_items": null,
      "align_self": null,
      "border": null,
      "bottom": null,
      "display": null,
      "flex": null,
      "flex_flow": null,
      "grid_area": null,
      "grid_auto_columns": null,
      "grid_auto_flow": null,
      "grid_auto_rows": null,
      "grid_column": null,
      "grid_gap": null,
      "grid_row": null,
      "grid_template_areas": null,
      "grid_template_columns": null,
      "grid_template_rows": null,
      "height": null,
      "justify_content": null,
      "justify_items": null,
      "left": null,
      "margin": null,
      "max_height": null,
      "max_width": null,
      "min_height": null,
      "min_width": null,
      "object_fit": null,
      "object_position": null,
      "order": null,
      "overflow": null,
      "overflow_x": null,
      "overflow_y": null,
      "padding": null,
      "right": null,
      "top": null,
      "visibility": null,
      "width": null
     }
    },
    "50661388a8b54a51b6749af590402b40": {
     "model_module": "@jupyter-widgets/controls",
     "model_module_version": "1.5.0",
     "model_name": "ProgressStyleModel",
     "state": {
      "_model_module": "@jupyter-widgets/controls",
      "_model_module_version": "1.5.0",
      "_model_name": "ProgressStyleModel",
      "_view_count": null,
      "_view_module": "@jupyter-widgets/base",
      "_view_module_version": "1.2.0",
      "_view_name": "StyleView",
      "bar_color": null,
      "description_width": ""
     }
    },
    "53c9a5a27fbc4838bab11106679b2f84": {
     "model_module": "@jupyter-widgets/controls",
     "model_module_version": "1.5.0",
     "model_name": "FloatProgressModel",
     "state": {
      "_dom_classes": [],
      "_model_module": "@jupyter-widgets/controls",
      "_model_module_version": "1.5.0",
      "_model_name": "FloatProgressModel",
      "_view_count": null,
      "_view_module": "@jupyter-widgets/controls",
      "_view_module_version": "1.5.0",
      "_view_name": "ProgressView",
      "bar_style": "success",
      "description": "",
      "description_tooltip": null,
      "layout": "IPY_MODEL_22d330d769f94b0aa2b4d918b856c3c3",
      "max": 466062,
      "min": 0,
      "orientation": "horizontal",
      "style": "IPY_MODEL_294567de1f034b85adaede8a7fd3ae9e",
      "value": 466062
     }
    },
    "61c9cd9e55b840d1932ed91cdc3e2880": {
     "model_module": "@jupyter-widgets/controls",
     "model_module_version": "1.5.0",
     "model_name": "HTMLModel",
     "state": {
      "_dom_classes": [],
      "_model_module": "@jupyter-widgets/controls",
      "_model_module_version": "1.5.0",
      "_model_name": "HTMLModel",
      "_view_count": null,
      "_view_module": "@jupyter-widgets/controls",
      "_view_module_version": "1.5.0",
      "_view_name": "HTMLView",
      "description": "",
      "description_tooltip": null,
      "layout": "IPY_MODEL_b5741a627eb64487bc36f97f5d6bc5d6",
      "placeholder": "​",
      "style": "IPY_MODEL_0128595171094301a05cbc59bcde36f3",
      "value": "model.safetensors: 100%"
     }
    },
    "6a011c01215941fa96bd4f189306b117": {
     "model_module": "@jupyter-widgets/controls",
     "model_module_version": "1.5.0",
     "model_name": "HTMLModel",
     "state": {
      "_dom_classes": [],
      "_model_module": "@jupyter-widgets/controls",
      "_model_module_version": "1.5.0",
      "_model_name": "HTMLModel",
      "_view_count": null,
      "_view_module": "@jupyter-widgets/controls",
      "_view_module_version": "1.5.0",
      "_view_name": "HTMLView",
      "description": "",
      "description_tooltip": null,
      "layout": "IPY_MODEL_9c7227f76c134a2fb531e0110afd12c2",
      "placeholder": "​",
      "style": "IPY_MODEL_3d186fc58a564d0d9319c22fc2468b15",
      "value": " 570/570 [00:00&lt;00:00, 14.2kB/s]"
     }
    },
    "733a9ec0042049448809af8f5912d426": {
     "model_module": "@jupyter-widgets/controls",
     "model_module_version": "1.5.0",
     "model_name": "FloatProgressModel",
     "state": {
      "_dom_classes": [],
      "_model_module": "@jupyter-widgets/controls",
      "_model_module_version": "1.5.0",
      "_model_name": "FloatProgressModel",
      "_view_count": null,
      "_view_module": "@jupyter-widgets/controls",
      "_view_module_version": "1.5.0",
      "_view_name": "ProgressView",
      "bar_style": "success",
      "description": "",
      "description_tooltip": null,
      "layout": "IPY_MODEL_12c40110d3484d6fac0ce4c043340237",
      "max": 440449768,
      "min": 0,
      "orientation": "horizontal",
      "style": "IPY_MODEL_50661388a8b54a51b6749af590402b40",
      "value": 440449768
     }
    },
    "78c198b6fa3e4756813eaa7803edde17": {
     "model_module": "@jupyter-widgets/controls",
     "model_module_version": "1.5.0",
     "model_name": "DescriptionStyleModel",
     "state": {
      "_model_module": "@jupyter-widgets/controls",
      "_model_module_version": "1.5.0",
      "_model_name": "DescriptionStyleModel",
      "_view_count": null,
      "_view_module": "@jupyter-widgets/base",
      "_view_module_version": "1.2.0",
      "_view_name": "StyleView",
      "description_width": ""
     }
    },
    "7d34d8cf525c4c40b6f9564370461e1e": {
     "model_module": "@jupyter-widgets/base",
     "model_module_version": "1.2.0",
     "model_name": "LayoutModel",
     "state": {
      "_model_module": "@jupyter-widgets/base",
      "_model_module_version": "1.2.0",
      "_model_name": "LayoutModel",
      "_view_count": null,
      "_view_module": "@jupyter-widgets/base",
      "_view_module_version": "1.2.0",
      "_view_name": "LayoutView",
      "align_content": null,
      "align_items": null,
      "align_self": null,
      "border": null,
      "bottom": null,
      "display": null,
      "flex": null,
      "flex_flow": null,
      "grid_area": null,
      "grid_auto_columns": null,
      "grid_auto_flow": null,
      "grid_auto_rows": null,
      "grid_column": null,
      "grid_gap": null,
      "grid_row": null,
      "grid_template_areas": null,
      "grid_template_columns": null,
      "grid_template_rows": null,
      "height": null,
      "justify_content": null,
      "justify_items": null,
      "left": null,
      "margin": null,
      "max_height": null,
      "max_width": null,
      "min_height": null,
      "min_width": null,
      "object_fit": null,
      "object_position": null,
      "order": null,
      "overflow": null,
      "overflow_x": null,
      "overflow_y": null,
      "padding": null,
      "right": null,
      "top": null,
      "visibility": null,
      "width": null
     }
    },
    "8359df7a572f44be89c6104c1e243fbf": {
     "model_module": "@jupyter-widgets/controls",
     "model_module_version": "1.5.0",
     "model_name": "FloatProgressModel",
     "state": {
      "_dom_classes": [],
      "_model_module": "@jupyter-widgets/controls",
      "_model_module_version": "1.5.0",
      "_model_name": "FloatProgressModel",
      "_view_count": null,
      "_view_module": "@jupyter-widgets/controls",
      "_view_module_version": "1.5.0",
      "_view_name": "ProgressView",
      "bar_style": "success",
      "description": "",
      "description_tooltip": null,
      "layout": "IPY_MODEL_fcfae2535e474768a9a37990b4ec0515",
      "max": 570,
      "min": 0,
      "orientation": "horizontal",
      "style": "IPY_MODEL_da40517c654b414d9af6d2ee8fd03225",
      "value": 570
     }
    },
    "860f08bc250a4799a6fe67af9f136160": {
     "model_module": "@jupyter-widgets/base",
     "model_module_version": "1.2.0",
     "model_name": "LayoutModel",
     "state": {
      "_model_module": "@jupyter-widgets/base",
      "_model_module_version": "1.2.0",
      "_model_name": "LayoutModel",
      "_view_count": null,
      "_view_module": "@jupyter-widgets/base",
      "_view_module_version": "1.2.0",
      "_view_name": "LayoutView",
      "align_content": null,
      "align_items": null,
      "align_self": null,
      "border": null,
      "bottom": null,
      "display": null,
      "flex": null,
      "flex_flow": null,
      "grid_area": null,
      "grid_auto_columns": null,
      "grid_auto_flow": null,
      "grid_auto_rows": null,
      "grid_column": null,
      "grid_gap": null,
      "grid_row": null,
      "grid_template_areas": null,
      "grid_template_columns": null,
      "grid_template_rows": null,
      "height": null,
      "justify_content": null,
      "justify_items": null,
      "left": null,
      "margin": null,
      "max_height": null,
      "max_width": null,
      "min_height": null,
      "min_width": null,
      "object_fit": null,
      "object_position": null,
      "order": null,
      "overflow": null,
      "overflow_x": null,
      "overflow_y": null,
      "padding": null,
      "right": null,
      "top": null,
      "visibility": null,
      "width": null
     }
    },
    "894a61ed1625450796de8901d175b86d": {
     "model_module": "@jupyter-widgets/controls",
     "model_module_version": "1.5.0",
     "model_name": "HBoxModel",
     "state": {
      "_dom_classes": [],
      "_model_module": "@jupyter-widgets/controls",
      "_model_module_version": "1.5.0",
      "_model_name": "HBoxModel",
      "_view_count": null,
      "_view_module": "@jupyter-widgets/controls",
      "_view_module_version": "1.5.0",
      "_view_name": "HBoxView",
      "box_style": "",
      "children": [
       "IPY_MODEL_26babbfe32fe4f4abdb429adf9f59d46",
       "IPY_MODEL_8359df7a572f44be89c6104c1e243fbf",
       "IPY_MODEL_6a011c01215941fa96bd4f189306b117"
      ],
      "layout": "IPY_MODEL_4f86ac23e5e94e99aa9f9b91c5b27eb8"
     }
    },
    "8b824a92e2aa4b1cb25581cc97bf0060": {
     "model_module": "@jupyter-widgets/controls",
     "model_module_version": "1.5.0",
     "model_name": "HTMLModel",
     "state": {
      "_dom_classes": [],
      "_model_module": "@jupyter-widgets/controls",
      "_model_module_version": "1.5.0",
      "_model_name": "HTMLModel",
      "_view_count": null,
      "_view_module": "@jupyter-widgets/controls",
      "_view_module_version": "1.5.0",
      "_view_name": "HTMLView",
      "description": "",
      "description_tooltip": null,
      "layout": "IPY_MODEL_1b18e31991c64efab01e0ebf499bf5cc",
      "placeholder": "​",
      "style": "IPY_MODEL_78c198b6fa3e4756813eaa7803edde17",
      "value": "vocab.txt: 100%"
     }
    },
    "8e0ece22ad1542bdb014ff172aa7ed4c": {
     "model_module": "@jupyter-widgets/controls",
     "model_module_version": "1.5.0",
     "model_name": "FloatProgressModel",
     "state": {
      "_dom_classes": [],
      "_model_module": "@jupyter-widgets/controls",
      "_model_module_version": "1.5.0",
      "_model_name": "FloatProgressModel",
      "_view_count": null,
      "_view_module": "@jupyter-widgets/controls",
      "_view_module_version": "1.5.0",
      "_view_name": "ProgressView",
      "bar_style": "success",
      "description": "",
      "description_tooltip": null,
      "layout": "IPY_MODEL_eba97c2859904b099c84c26b2c0180b1",
      "max": 231508,
      "min": 0,
      "orientation": "horizontal",
      "style": "IPY_MODEL_49c5e1d729a94909aee6711cbe2d4644",
      "value": 231508
     }
    },
    "8eb09e68e4674adba985946fd01e914f": {
     "model_module": "@jupyter-widgets/controls",
     "model_module_version": "1.5.0",
     "model_name": "HBoxModel",
     "state": {
      "_dom_classes": [],
      "_model_module": "@jupyter-widgets/controls",
      "_model_module_version": "1.5.0",
      "_model_name": "HBoxModel",
      "_view_count": null,
      "_view_module": "@jupyter-widgets/controls",
      "_view_module_version": "1.5.0",
      "_view_name": "HBoxView",
      "box_style": "",
      "children": [
       "IPY_MODEL_c38d04aa28b8440c869b91aae2c857a9",
       "IPY_MODEL_e08ce4565d1a406d86e82427b6d49cb6",
       "IPY_MODEL_e3adf62bbe834268abcf1809c26b5ac0"
      ],
      "layout": "IPY_MODEL_860f08bc250a4799a6fe67af9f136160"
     }
    },
    "922e8e6818504dec99703bc3b1eb0231": {
     "model_module": "@jupyter-widgets/base",
     "model_module_version": "1.2.0",
     "model_name": "LayoutModel",
     "state": {
      "_model_module": "@jupyter-widgets/base",
      "_model_module_version": "1.2.0",
      "_model_name": "LayoutModel",
      "_view_count": null,
      "_view_module": "@jupyter-widgets/base",
      "_view_module_version": "1.2.0",
      "_view_name": "LayoutView",
      "align_content": null,
      "align_items": null,
      "align_self": null,
      "border": null,
      "bottom": null,
      "display": null,
      "flex": null,
      "flex_flow": null,
      "grid_area": null,
      "grid_auto_columns": null,
      "grid_auto_flow": null,
      "grid_auto_rows": null,
      "grid_column": null,
      "grid_gap": null,
      "grid_row": null,
      "grid_template_areas": null,
      "grid_template_columns": null,
      "grid_template_rows": null,
      "height": null,
      "justify_content": null,
      "justify_items": null,
      "left": null,
      "margin": null,
      "max_height": null,
      "max_width": null,
      "min_height": null,
      "min_width": null,
      "object_fit": null,
      "object_position": null,
      "order": null,
      "overflow": null,
      "overflow_x": null,
      "overflow_y": null,
      "padding": null,
      "right": null,
      "top": null,
      "visibility": null,
      "width": null
     }
    },
    "9c7227f76c134a2fb531e0110afd12c2": {
     "model_module": "@jupyter-widgets/base",
     "model_module_version": "1.2.0",
     "model_name": "LayoutModel",
     "state": {
      "_model_module": "@jupyter-widgets/base",
      "_model_module_version": "1.2.0",
      "_model_name": "LayoutModel",
      "_view_count": null,
      "_view_module": "@jupyter-widgets/base",
      "_view_module_version": "1.2.0",
      "_view_name": "LayoutView",
      "align_content": null,
      "align_items": null,
      "align_self": null,
      "border": null,
      "bottom": null,
      "display": null,
      "flex": null,
      "flex_flow": null,
      "grid_area": null,
      "grid_auto_columns": null,
      "grid_auto_flow": null,
      "grid_auto_rows": null,
      "grid_column": null,
      "grid_gap": null,
      "grid_row": null,
      "grid_template_areas": null,
      "grid_template_columns": null,
      "grid_template_rows": null,
      "height": null,
      "justify_content": null,
      "justify_items": null,
      "left": null,
      "margin": null,
      "max_height": null,
      "max_width": null,
      "min_height": null,
      "min_width": null,
      "object_fit": null,
      "object_position": null,
      "order": null,
      "overflow": null,
      "overflow_x": null,
      "overflow_y": null,
      "padding": null,
      "right": null,
      "top": null,
      "visibility": null,
      "width": null
     }
    },
    "a224c9ca171147aaadb305ee09f11196": {
     "model_module": "@jupyter-widgets/controls",
     "model_module_version": "1.5.0",
     "model_name": "DescriptionStyleModel",
     "state": {
      "_model_module": "@jupyter-widgets/controls",
      "_model_module_version": "1.5.0",
      "_model_name": "DescriptionStyleModel",
      "_view_count": null,
      "_view_module": "@jupyter-widgets/base",
      "_view_module_version": "1.2.0",
      "_view_name": "StyleView",
      "description_width": ""
     }
    },
    "aa45705a39494fe480a69026a639f069": {
     "model_module": "@jupyter-widgets/controls",
     "model_module_version": "1.5.0",
     "model_name": "DescriptionStyleModel",
     "state": {
      "_model_module": "@jupyter-widgets/controls",
      "_model_module_version": "1.5.0",
      "_model_name": "DescriptionStyleModel",
      "_view_count": null,
      "_view_module": "@jupyter-widgets/base",
      "_view_module_version": "1.2.0",
      "_view_name": "StyleView",
      "description_width": ""
     }
    },
    "aba66fd454b24e398991c56b21baabd6": {
     "model_module": "@jupyter-widgets/controls",
     "model_module_version": "1.5.0",
     "model_name": "DescriptionStyleModel",
     "state": {
      "_model_module": "@jupyter-widgets/controls",
      "_model_module_version": "1.5.0",
      "_model_name": "DescriptionStyleModel",
      "_view_count": null,
      "_view_module": "@jupyter-widgets/base",
      "_view_module_version": "1.2.0",
      "_view_name": "StyleView",
      "description_width": ""
     }
    },
    "ac30b6fbe0b64e44af27f465ef176858": {
     "model_module": "@jupyter-widgets/controls",
     "model_module_version": "1.5.0",
     "model_name": "ProgressStyleModel",
     "state": {
      "_model_module": "@jupyter-widgets/controls",
      "_model_module_version": "1.5.0",
      "_model_name": "ProgressStyleModel",
      "_view_count": null,
      "_view_module": "@jupyter-widgets/base",
      "_view_module_version": "1.2.0",
      "_view_name": "StyleView",
      "bar_color": null,
      "description_width": ""
     }
    },
    "af9dfa594b3d425d8e6e917b3c13d64b": {
     "model_module": "@jupyter-widgets/controls",
     "model_module_version": "1.5.0",
     "model_name": "DescriptionStyleModel",
     "state": {
      "_model_module": "@jupyter-widgets/controls",
      "_model_module_version": "1.5.0",
      "_model_name": "DescriptionStyleModel",
      "_view_count": null,
      "_view_module": "@jupyter-widgets/base",
      "_view_module_version": "1.2.0",
      "_view_name": "StyleView",
      "description_width": ""
     }
    },
    "b0a9f4a4c71d43dbb357b5a1733b66d1": {
     "model_module": "@jupyter-widgets/base",
     "model_module_version": "1.2.0",
     "model_name": "LayoutModel",
     "state": {
      "_model_module": "@jupyter-widgets/base",
      "_model_module_version": "1.2.0",
      "_model_name": "LayoutModel",
      "_view_count": null,
      "_view_module": "@jupyter-widgets/base",
      "_view_module_version": "1.2.0",
      "_view_name": "LayoutView",
      "align_content": null,
      "align_items": null,
      "align_self": null,
      "border": null,
      "bottom": null,
      "display": null,
      "flex": null,
      "flex_flow": null,
      "grid_area": null,
      "grid_auto_columns": null,
      "grid_auto_flow": null,
      "grid_auto_rows": null,
      "grid_column": null,
      "grid_gap": null,
      "grid_row": null,
      "grid_template_areas": null,
      "grid_template_columns": null,
      "grid_template_rows": null,
      "height": null,
      "justify_content": null,
      "justify_items": null,
      "left": null,
      "margin": null,
      "max_height": null,
      "max_width": null,
      "min_height": null,
      "min_width": null,
      "object_fit": null,
      "object_position": null,
      "order": null,
      "overflow": null,
      "overflow_x": null,
      "overflow_y": null,
      "padding": null,
      "right": null,
      "top": null,
      "visibility": null,
      "width": null
     }
    },
    "b269c1184ce246c38d1f4b885ea2265e": {
     "model_module": "@jupyter-widgets/controls",
     "model_module_version": "1.5.0",
     "model_name": "HTMLModel",
     "state": {
      "_dom_classes": [],
      "_model_module": "@jupyter-widgets/controls",
      "_model_module_version": "1.5.0",
      "_model_name": "HTMLModel",
      "_view_count": null,
      "_view_module": "@jupyter-widgets/controls",
      "_view_module_version": "1.5.0",
      "_view_name": "HTMLView",
      "description": "",
      "description_tooltip": null,
      "layout": "IPY_MODEL_7d34d8cf525c4c40b6f9564370461e1e",
      "placeholder": "​",
      "style": "IPY_MODEL_38c10090c1cd4cfb953c717f77eb0f88",
      "value": " 440M/440M [00:06&lt;00:00, 69.9MB/s]"
     }
    },
    "b5741a627eb64487bc36f97f5d6bc5d6": {
     "model_module": "@jupyter-widgets/base",
     "model_module_version": "1.2.0",
     "model_name": "LayoutModel",
     "state": {
      "_model_module": "@jupyter-widgets/base",
      "_model_module_version": "1.2.0",
      "_model_name": "LayoutModel",
      "_view_count": null,
      "_view_module": "@jupyter-widgets/base",
      "_view_module_version": "1.2.0",
      "_view_name": "LayoutView",
      "align_content": null,
      "align_items": null,
      "align_self": null,
      "border": null,
      "bottom": null,
      "display": null,
      "flex": null,
      "flex_flow": null,
      "grid_area": null,
      "grid_auto_columns": null,
      "grid_auto_flow": null,
      "grid_auto_rows": null,
      "grid_column": null,
      "grid_gap": null,
      "grid_row": null,
      "grid_template_areas": null,
      "grid_template_columns": null,
      "grid_template_rows": null,
      "height": null,
      "justify_content": null,
      "justify_items": null,
      "left": null,
      "margin": null,
      "max_height": null,
      "max_width": null,
      "min_height": null,
      "min_width": null,
      "object_fit": null,
      "object_position": null,
      "order": null,
      "overflow": null,
      "overflow_x": null,
      "overflow_y": null,
      "padding": null,
      "right": null,
      "top": null,
      "visibility": null,
      "width": null
     }
    },
    "be0badfe952a40a181f21a398c3b4f3e": {
     "model_module": "@jupyter-widgets/controls",
     "model_module_version": "1.5.0",
     "model_name": "HBoxModel",
     "state": {
      "_dom_classes": [],
      "_model_module": "@jupyter-widgets/controls",
      "_model_module_version": "1.5.0",
      "_model_name": "HBoxModel",
      "_view_count": null,
      "_view_module": "@jupyter-widgets/controls",
      "_view_module_version": "1.5.0",
      "_view_name": "HBoxView",
      "box_style": "",
      "children": [
       "IPY_MODEL_8b824a92e2aa4b1cb25581cc97bf0060",
       "IPY_MODEL_8e0ece22ad1542bdb014ff172aa7ed4c",
       "IPY_MODEL_fbf9f2e75d7f4d79b5dfcdddd733aa5e"
      ],
      "layout": "IPY_MODEL_140eec91aeaa4bcf87e6acadac9a0ebc"
     }
    },
    "c38d04aa28b8440c869b91aae2c857a9": {
     "model_module": "@jupyter-widgets/controls",
     "model_module_version": "1.5.0",
     "model_name": "HTMLModel",
     "state": {
      "_dom_classes": [],
      "_model_module": "@jupyter-widgets/controls",
      "_model_module_version": "1.5.0",
      "_model_name": "HTMLModel",
      "_view_count": null,
      "_view_module": "@jupyter-widgets/controls",
      "_view_module_version": "1.5.0",
      "_view_name": "HTMLView",
      "description": "",
      "description_tooltip": null,
      "layout": "IPY_MODEL_f0d35ce693114662a91a7d84486d3405",
      "placeholder": "​",
      "style": "IPY_MODEL_aa45705a39494fe480a69026a639f069",
      "value": "tokenizer_config.json: 100%"
     }
    },
    "c524304859d74b4b871db3d6c981197a": {
     "model_module": "@jupyter-widgets/base",
     "model_module_version": "1.2.0",
     "model_name": "LayoutModel",
     "state": {
      "_model_module": "@jupyter-widgets/base",
      "_model_module_version": "1.2.0",
      "_model_name": "LayoutModel",
      "_view_count": null,
      "_view_module": "@jupyter-widgets/base",
      "_view_module_version": "1.2.0",
      "_view_name": "LayoutView",
      "align_content": null,
      "align_items": null,
      "align_self": null,
      "border": null,
      "bottom": null,
      "display": null,
      "flex": null,
      "flex_flow": null,
      "grid_area": null,
      "grid_auto_columns": null,
      "grid_auto_flow": null,
      "grid_auto_rows": null,
      "grid_column": null,
      "grid_gap": null,
      "grid_row": null,
      "grid_template_areas": null,
      "grid_template_columns": null,
      "grid_template_rows": null,
      "height": null,
      "justify_content": null,
      "justify_items": null,
      "left": null,
      "margin": null,
      "max_height": null,
      "max_width": null,
      "min_height": null,
      "min_width": null,
      "object_fit": null,
      "object_position": null,
      "order": null,
      "overflow": null,
      "overflow_x": null,
      "overflow_y": null,
      "padding": null,
      "right": null,
      "top": null,
      "visibility": null,
      "width": null
     }
    },
    "c97374ad43aa46f9ba649b7b87573555": {
     "model_module": "@jupyter-widgets/controls",
     "model_module_version": "1.5.0",
     "model_name": "HTMLModel",
     "state": {
      "_dom_classes": [],
      "_model_module": "@jupyter-widgets/controls",
      "_model_module_version": "1.5.0",
      "_model_name": "HTMLModel",
      "_view_count": null,
      "_view_module": "@jupyter-widgets/controls",
      "_view_module_version": "1.5.0",
      "_view_name": "HTMLView",
      "description": "",
      "description_tooltip": null,
      "layout": "IPY_MODEL_f6c5d3c1a86a436cb84eb3efabe12906",
      "placeholder": "​",
      "style": "IPY_MODEL_eaabb5d64be6454b94020447bdfc01bb",
      "value": " 466k/466k [00:00&lt;00:00, 5.24MB/s]"
     }
    },
    "ca146a66414a47a48f6183559b0fab11": {
     "model_module": "@jupyter-widgets/controls",
     "model_module_version": "1.5.0",
     "model_name": "DescriptionStyleModel",
     "state": {
      "_model_module": "@jupyter-widgets/controls",
      "_model_module_version": "1.5.0",
      "_model_name": "DescriptionStyleModel",
      "_view_count": null,
      "_view_module": "@jupyter-widgets/base",
      "_view_module_version": "1.2.0",
      "_view_name": "StyleView",
      "description_width": ""
     }
    },
    "da40517c654b414d9af6d2ee8fd03225": {
     "model_module": "@jupyter-widgets/controls",
     "model_module_version": "1.5.0",
     "model_name": "ProgressStyleModel",
     "state": {
      "_model_module": "@jupyter-widgets/controls",
      "_model_module_version": "1.5.0",
      "_model_name": "ProgressStyleModel",
      "_view_count": null,
      "_view_module": "@jupyter-widgets/base",
      "_view_module_version": "1.2.0",
      "_view_name": "StyleView",
      "bar_color": null,
      "description_width": ""
     }
    },
    "e08ce4565d1a406d86e82427b6d49cb6": {
     "model_module": "@jupyter-widgets/controls",
     "model_module_version": "1.5.0",
     "model_name": "FloatProgressModel",
     "state": {
      "_dom_classes": [],
      "_model_module": "@jupyter-widgets/controls",
      "_model_module_version": "1.5.0",
      "_model_name": "FloatProgressModel",
      "_view_count": null,
      "_view_module": "@jupyter-widgets/controls",
      "_view_module_version": "1.5.0",
      "_view_name": "ProgressView",
      "bar_style": "success",
      "description": "",
      "description_tooltip": null,
      "layout": "IPY_MODEL_e48c826047c64e6197fe7a4d36865516",
      "max": 48,
      "min": 0,
      "orientation": "horizontal",
      "style": "IPY_MODEL_ac30b6fbe0b64e44af27f465ef176858",
      "value": 48
     }
    },
    "e3adf62bbe834268abcf1809c26b5ac0": {
     "model_module": "@jupyter-widgets/controls",
     "model_module_version": "1.5.0",
     "model_name": "HTMLModel",
     "state": {
      "_dom_classes": [],
      "_model_module": "@jupyter-widgets/controls",
      "_model_module_version": "1.5.0",
      "_model_name": "HTMLModel",
      "_view_count": null,
      "_view_module": "@jupyter-widgets/controls",
      "_view_module_version": "1.5.0",
      "_view_name": "HTMLView",
      "description": "",
      "description_tooltip": null,
      "layout": "IPY_MODEL_c524304859d74b4b871db3d6c981197a",
      "placeholder": "​",
      "style": "IPY_MODEL_a224c9ca171147aaadb305ee09f11196",
      "value": " 48.0/48.0 [00:00&lt;00:00, 1.39kB/s]"
     }
    },
    "e48c826047c64e6197fe7a4d36865516": {
     "model_module": "@jupyter-widgets/base",
     "model_module_version": "1.2.0",
     "model_name": "LayoutModel",
     "state": {
      "_model_module": "@jupyter-widgets/base",
      "_model_module_version": "1.2.0",
      "_model_name": "LayoutModel",
      "_view_count": null,
      "_view_module": "@jupyter-widgets/base",
      "_view_module_version": "1.2.0",
      "_view_name": "LayoutView",
      "align_content": null,
      "align_items": null,
      "align_self": null,
      "border": null,
      "bottom": null,
      "display": null,
      "flex": null,
      "flex_flow": null,
      "grid_area": null,
      "grid_auto_columns": null,
      "grid_auto_flow": null,
      "grid_auto_rows": null,
      "grid_column": null,
      "grid_gap": null,
      "grid_row": null,
      "grid_template_areas": null,
      "grid_template_columns": null,
      "grid_template_rows": null,
      "height": null,
      "justify_content": null,
      "justify_items": null,
      "left": null,
      "margin": null,
      "max_height": null,
      "max_width": null,
      "min_height": null,
      "min_width": null,
      "object_fit": null,
      "object_position": null,
      "order": null,
      "overflow": null,
      "overflow_x": null,
      "overflow_y": null,
      "padding": null,
      "right": null,
      "top": null,
      "visibility": null,
      "width": null
     }
    },
    "e88ec9ebdbe043c8bfd40d039949ead6": {
     "model_module": "@jupyter-widgets/base",
     "model_module_version": "1.2.0",
     "model_name": "LayoutModel",
     "state": {
      "_model_module": "@jupyter-widgets/base",
      "_model_module_version": "1.2.0",
      "_model_name": "LayoutModel",
      "_view_count": null,
      "_view_module": "@jupyter-widgets/base",
      "_view_module_version": "1.2.0",
      "_view_name": "LayoutView",
      "align_content": null,
      "align_items": null,
      "align_self": null,
      "border": null,
      "bottom": null,
      "display": null,
      "flex": null,
      "flex_flow": null,
      "grid_area": null,
      "grid_auto_columns": null,
      "grid_auto_flow": null,
      "grid_auto_rows": null,
      "grid_column": null,
      "grid_gap": null,
      "grid_row": null,
      "grid_template_areas": null,
      "grid_template_columns": null,
      "grid_template_rows": null,
      "height": null,
      "justify_content": null,
      "justify_items": null,
      "left": null,
      "margin": null,
      "max_height": null,
      "max_width": null,
      "min_height": null,
      "min_width": null,
      "object_fit": null,
      "object_position": null,
      "order": null,
      "overflow": null,
      "overflow_x": null,
      "overflow_y": null,
      "padding": null,
      "right": null,
      "top": null,
      "visibility": null,
      "width": null
     }
    },
    "e95321b3d2ed421a82f804f24a215fd7": {
     "model_module": "@jupyter-widgets/controls",
     "model_module_version": "1.5.0",
     "model_name": "HBoxModel",
     "state": {
      "_dom_classes": [],
      "_model_module": "@jupyter-widgets/controls",
      "_model_module_version": "1.5.0",
      "_model_name": "HBoxModel",
      "_view_count": null,
      "_view_module": "@jupyter-widgets/controls",
      "_view_module_version": "1.5.0",
      "_view_name": "HBoxView",
      "box_style": "",
      "children": [
       "IPY_MODEL_61c9cd9e55b840d1932ed91cdc3e2880",
       "IPY_MODEL_733a9ec0042049448809af8f5912d426",
       "IPY_MODEL_b269c1184ce246c38d1f4b885ea2265e"
      ],
      "layout": "IPY_MODEL_e88ec9ebdbe043c8bfd40d039949ead6"
     }
    },
    "eaabb5d64be6454b94020447bdfc01bb": {
     "model_module": "@jupyter-widgets/controls",
     "model_module_version": "1.5.0",
     "model_name": "DescriptionStyleModel",
     "state": {
      "_model_module": "@jupyter-widgets/controls",
      "_model_module_version": "1.5.0",
      "_model_name": "DescriptionStyleModel",
      "_view_count": null,
      "_view_module": "@jupyter-widgets/base",
      "_view_module_version": "1.2.0",
      "_view_name": "StyleView",
      "description_width": ""
     }
    },
    "eba97c2859904b099c84c26b2c0180b1": {
     "model_module": "@jupyter-widgets/base",
     "model_module_version": "1.2.0",
     "model_name": "LayoutModel",
     "state": {
      "_model_module": "@jupyter-widgets/base",
      "_model_module_version": "1.2.0",
      "_model_name": "LayoutModel",
      "_view_count": null,
      "_view_module": "@jupyter-widgets/base",
      "_view_module_version": "1.2.0",
      "_view_name": "LayoutView",
      "align_content": null,
      "align_items": null,
      "align_self": null,
      "border": null,
      "bottom": null,
      "display": null,
      "flex": null,
      "flex_flow": null,
      "grid_area": null,
      "grid_auto_columns": null,
      "grid_auto_flow": null,
      "grid_auto_rows": null,
      "grid_column": null,
      "grid_gap": null,
      "grid_row": null,
      "grid_template_areas": null,
      "grid_template_columns": null,
      "grid_template_rows": null,
      "height": null,
      "justify_content": null,
      "justify_items": null,
      "left": null,
      "margin": null,
      "max_height": null,
      "max_width": null,
      "min_height": null,
      "min_width": null,
      "object_fit": null,
      "object_position": null,
      "order": null,
      "overflow": null,
      "overflow_x": null,
      "overflow_y": null,
      "padding": null,
      "right": null,
      "top": null,
      "visibility": null,
      "width": null
     }
    },
    "f0d35ce693114662a91a7d84486d3405": {
     "model_module": "@jupyter-widgets/base",
     "model_module_version": "1.2.0",
     "model_name": "LayoutModel",
     "state": {
      "_model_module": "@jupyter-widgets/base",
      "_model_module_version": "1.2.0",
      "_model_name": "LayoutModel",
      "_view_count": null,
      "_view_module": "@jupyter-widgets/base",
      "_view_module_version": "1.2.0",
      "_view_name": "LayoutView",
      "align_content": null,
      "align_items": null,
      "align_self": null,
      "border": null,
      "bottom": null,
      "display": null,
      "flex": null,
      "flex_flow": null,
      "grid_area": null,
      "grid_auto_columns": null,
      "grid_auto_flow": null,
      "grid_auto_rows": null,
      "grid_column": null,
      "grid_gap": null,
      "grid_row": null,
      "grid_template_areas": null,
      "grid_template_columns": null,
      "grid_template_rows": null,
      "height": null,
      "justify_content": null,
      "justify_items": null,
      "left": null,
      "margin": null,
      "max_height": null,
      "max_width": null,
      "min_height": null,
      "min_width": null,
      "object_fit": null,
      "object_position": null,
      "order": null,
      "overflow": null,
      "overflow_x": null,
      "overflow_y": null,
      "padding": null,
      "right": null,
      "top": null,
      "visibility": null,
      "width": null
     }
    },
    "f1fd783b018b427c94de3f6ae26cc30c": {
     "model_module": "@jupyter-widgets/base",
     "model_module_version": "1.2.0",
     "model_name": "LayoutModel",
     "state": {
      "_model_module": "@jupyter-widgets/base",
      "_model_module_version": "1.2.0",
      "_model_name": "LayoutModel",
      "_view_count": null,
      "_view_module": "@jupyter-widgets/base",
      "_view_module_version": "1.2.0",
      "_view_name": "LayoutView",
      "align_content": null,
      "align_items": null,
      "align_self": null,
      "border": null,
      "bottom": null,
      "display": null,
      "flex": null,
      "flex_flow": null,
      "grid_area": null,
      "grid_auto_columns": null,
      "grid_auto_flow": null,
      "grid_auto_rows": null,
      "grid_column": null,
      "grid_gap": null,
      "grid_row": null,
      "grid_template_areas": null,
      "grid_template_columns": null,
      "grid_template_rows": null,
      "height": null,
      "justify_content": null,
      "justify_items": null,
      "left": null,
      "margin": null,
      "max_height": null,
      "max_width": null,
      "min_height": null,
      "min_width": null,
      "object_fit": null,
      "object_position": null,
      "order": null,
      "overflow": null,
      "overflow_x": null,
      "overflow_y": null,
      "padding": null,
      "right": null,
      "top": null,
      "visibility": null,
      "width": null
     }
    },
    "f6c5d3c1a86a436cb84eb3efabe12906": {
     "model_module": "@jupyter-widgets/base",
     "model_module_version": "1.2.0",
     "model_name": "LayoutModel",
     "state": {
      "_model_module": "@jupyter-widgets/base",
      "_model_module_version": "1.2.0",
      "_model_name": "LayoutModel",
      "_view_count": null,
      "_view_module": "@jupyter-widgets/base",
      "_view_module_version": "1.2.0",
      "_view_name": "LayoutView",
      "align_content": null,
      "align_items": null,
      "align_self": null,
      "border": null,
      "bottom": null,
      "display": null,
      "flex": null,
      "flex_flow": null,
      "grid_area": null,
      "grid_auto_columns": null,
      "grid_auto_flow": null,
      "grid_auto_rows": null,
      "grid_column": null,
      "grid_gap": null,
      "grid_row": null,
      "grid_template_areas": null,
      "grid_template_columns": null,
      "grid_template_rows": null,
      "height": null,
      "justify_content": null,
      "justify_items": null,
      "left": null,
      "margin": null,
      "max_height": null,
      "max_width": null,
      "min_height": null,
      "min_width": null,
      "object_fit": null,
      "object_position": null,
      "order": null,
      "overflow": null,
      "overflow_x": null,
      "overflow_y": null,
      "padding": null,
      "right": null,
      "top": null,
      "visibility": null,
      "width": null
     }
    },
    "fbf9f2e75d7f4d79b5dfcdddd733aa5e": {
     "model_module": "@jupyter-widgets/controls",
     "model_module_version": "1.5.0",
     "model_name": "HTMLModel",
     "state": {
      "_dom_classes": [],
      "_model_module": "@jupyter-widgets/controls",
      "_model_module_version": "1.5.0",
      "_model_name": "HTMLModel",
      "_view_count": null,
      "_view_module": "@jupyter-widgets/controls",
      "_view_module_version": "1.5.0",
      "_view_name": "HTMLView",
      "description": "",
      "description_tooltip": null,
      "layout": "IPY_MODEL_922e8e6818504dec99703bc3b1eb0231",
      "placeholder": "​",
      "style": "IPY_MODEL_af9dfa594b3d425d8e6e917b3c13d64b",
      "value": " 232k/232k [00:00&lt;00:00, 3.33MB/s]"
     }
    },
    "fcfae2535e474768a9a37990b4ec0515": {
     "model_module": "@jupyter-widgets/base",
     "model_module_version": "1.2.0",
     "model_name": "LayoutModel",
     "state": {
      "_model_module": "@jupyter-widgets/base",
      "_model_module_version": "1.2.0",
      "_model_name": "LayoutModel",
      "_view_count": null,
      "_view_module": "@jupyter-widgets/base",
      "_view_module_version": "1.2.0",
      "_view_name": "LayoutView",
      "align_content": null,
      "align_items": null,
      "align_self": null,
      "border": null,
      "bottom": null,
      "display": null,
      "flex": null,
      "flex_flow": null,
      "grid_area": null,
      "grid_auto_columns": null,
      "grid_auto_flow": null,
      "grid_auto_rows": null,
      "grid_column": null,
      "grid_gap": null,
      "grid_row": null,
      "grid_template_areas": null,
      "grid_template_columns": null,
      "grid_template_rows": null,
      "height": null,
      "justify_content": null,
      "justify_items": null,
      "left": null,
      "margin": null,
      "max_height": null,
      "max_width": null,
      "min_height": null,
      "min_width": null,
      "object_fit": null,
      "object_position": null,
      "order": null,
      "overflow": null,
      "overflow_x": null,
      "overflow_y": null,
      "padding": null,
      "right": null,
      "top": null,
      "visibility": null,
      "width": null
     }
    }
   }
  }
 },
 "nbformat": 4,
 "nbformat_minor": 4
}
